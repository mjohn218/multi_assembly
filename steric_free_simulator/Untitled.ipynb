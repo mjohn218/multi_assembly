{
 "cells": [
  {
   "cell_type": "code",
   "execution_count": 1,
   "id": "d9559eea",
   "metadata": {},
   "outputs": [],
   "source": [
    "import torch"
   ]
  },
  {
   "cell_type": "code",
   "execution_count": 15,
   "id": "3e90d411",
   "metadata": {},
   "outputs": [],
   "source": [
    "a = torch.zeros((5, 3)).double()\n",
    "a = a + 5\n",
    "a[2,:] = 2"
   ]
  },
  {
   "cell_type": "code",
   "execution_count": 12,
   "id": "d30c8da0",
   "metadata": {},
   "outputs": [
    {
     "name": "stdout",
     "output_type": "stream",
     "text": [
      "tensor([2., 2., 3.], dtype=torch.float64)\n"
     ]
    }
   ],
   "source": [
    "b = torch.zeros((3)).double()\n",
    "b =b +2\n",
    "b[2] = 3\n",
    "print(b)"
   ]
  },
  {
   "cell_type": "code",
   "execution_count": 16,
   "id": "b2ce7893",
   "metadata": {},
   "outputs": [
    {
     "name": "stdout",
     "output_type": "stream",
     "text": [
      "tensor([[10., 10., 15.],\n",
      "        [10., 10., 15.],\n",
      "        [ 4.,  4.,  6.],\n",
      "        [10., 10., 15.],\n",
      "        [10., 10., 15.]], dtype=torch.float64)\n"
     ]
    }
   ],
   "source": [
    "c = torch.mul(a,b)\n",
    "print(c)"
   ]
  },
  {
   "cell_type": "code",
   "execution_count": 17,
   "id": "aec7522e",
   "metadata": {},
   "outputs": [
    {
     "name": "stdout",
     "output_type": "stream",
     "text": [
      "tensor([[7., 7., 8.],\n",
      "        [7., 7., 8.],\n",
      "        [4., 4., 5.],\n",
      "        [7., 7., 8.],\n",
      "        [7., 7., 8.]], dtype=torch.float64)\n"
     ]
    }
   ],
   "source": [
    "d = a + b\n",
    "print(d)"
   ]
  }
 ],
 "metadata": {
  "kernelspec": {
   "display_name": "Python 3",
   "language": "python",
   "name": "python3"
  },
  "language_info": {
   "codemirror_mode": {
    "name": "ipython",
    "version": 3
   },
   "file_extension": ".py",
   "mimetype": "text/x-python",
   "name": "python",
   "nbconvert_exporter": "python",
   "pygments_lexer": "ipython3",
   "version": "3.7.0"
  }
 },
 "nbformat": 4,
 "nbformat_minor": 5
}
