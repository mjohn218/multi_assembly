{
 "cells": [
  {
   "cell_type": "code",
   "execution_count": null,
   "id": "ebb5db3c",
   "metadata": {},
   "outputs": [],
   "source": []
  },
  {
   "cell_type": "code",
   "execution_count": 1,
   "id": "79bcb31f",
   "metadata": {},
   "outputs": [],
   "source": [
    "import torch\n",
    "from torch import DoubleTensor as Tensor"
   ]
  },
  {
   "cell_type": "code",
   "execution_count": 2,
   "id": "462515ee",
   "metadata": {
    "scrolled": false
   },
   "outputs": [
    {
     "name": "stdout",
     "output_type": "stream",
     "text": [
      "tensor([2.3026, 2.3026, 2.3026,   -inf,   -inf,   -inf], dtype=torch.float64)\n",
      "tensor(-inf, dtype=torch.float64)\n",
      "tensor(inf, dtype=torch.float64)\n",
      "tensor(1.0000e-08, dtype=torch.float64)\n"
     ]
    }
   ],
   "source": [
    "c = Tensor([0.00000001, 0.00000001, 0.00000001,   0.0,   0.0,   0.0])\n",
    "\n",
    "k = Tensor([1000000000, 1000000000, 1000000000, 1000000000, 1000000000, 1000000000])\n",
    "\n",
    "r = torch.log(c) + torch.log(k) \n",
    "\n",
    "print(r)\n",
    "\n",
    "total_r = torch.logsumexp(r,dim=0)\n",
    "\n",
    "min_c = torch.log(torch.min(c))\n",
    "total_r = total_r - min_c\n",
    "\n",
    "print(min_c)\n",
    "print(total_r)\n",
    "\n",
    "print(torch.min(c[torch.nonzero(c)]))"
   ]
  },
  {
   "cell_type": "code",
   "execution_count": 3,
   "id": "3db3a8e8",
   "metadata": {},
   "outputs": [
    {
     "name": "stdout",
     "output_type": "stream",
     "text": [
      "tensor(3.0000, dtype=torch.float64)\n",
      "tensor([1.0000e-08, 3.0000e+00, 1.0000e-08, 0.0000e+00, 0.0000e+00, 0.0000e+00],\n",
      "       dtype=torch.float64)\n",
      "tensor(1.0000e-08, dtype=torch.float64)\n",
      "<class 'torch.Tensor'>\n",
      "140330241164128\n",
      "140330241133808\n"
     ]
    }
   ],
   "source": [
    "d = c\n",
    "# c[2] = d\n",
    "c[1] = c[1] + Tensor([3.])\n",
    "\n",
    "print(c[1])\n",
    "print(d)\n",
    "print(c[2])\n",
    "\n",
    "print(type(d))\n",
    "print(id(d))\n",
    "print(id(c[1]))"
   ]
  }
 ],
 "metadata": {
  "kernelspec": {
   "display_name": "Python 3",
   "language": "python",
   "name": "python3"
  },
  "language_info": {
   "codemirror_mode": {
    "name": "ipython",
    "version": 3
   },
   "file_extension": ".py",
   "mimetype": "text/x-python",
   "name": "python",
   "nbconvert_exporter": "python",
   "pygments_lexer": "ipython3",
   "version": "3.7.0"
  }
 },
 "nbformat": 4,
 "nbformat_minor": 5
}
