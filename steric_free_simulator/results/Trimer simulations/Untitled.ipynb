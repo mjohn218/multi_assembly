{
 "cells": [
  {
   "cell_type": "code",
   "execution_count": null,
   "id": "ebb5db3c",
   "metadata": {},
   "outputs": [],
   "source": []
  },
  {
   "cell_type": "code",
   "execution_count": 1,
   "id": "79bcb31f",
   "metadata": {},
   "outputs": [],
   "source": [
    "import torch\n",
    "from torch import DoubleTensor as Tensor"
   ]
  },
  {
   "cell_type": "code",
   "execution_count": 2,
   "id": "46a90695",
   "metadata": {},
   "outputs": [
    {
     "name": "stdout",
     "output_type": "stream",
     "text": [
      "torch.Size([1, 5])\n",
      "torch.Size([1, 5])\n",
      "tensor([[ 1.,  1.,  1., 10.,  1.],\n",
      "        [ 3.,  3.,  3.,  3.,  3.],\n",
      "        [ 1.,  1.,  1., 10.,  1.]])\n",
      "tensor([3.])\n"
     ]
    }
   ],
   "source": [
    "a = torch.zeros(1,5) + 1\n",
    "a[0,3]=10\n",
    "b = torch.zeros(1,5)+3\n",
    "print(a.size())\n",
    "print(b.size())\n",
    "c = torch.cat((a,b))\n",
    "d = torch.cat((c,a),dim=0)\n",
    "print(d)\n",
    "m=a>1\n",
    "print(b[m])"
   ]
  },
  {
   "cell_type": "code",
   "execution_count": 3,
   "id": "462515ee",
   "metadata": {},
   "outputs": [
    {
     "name": "stdout",
     "output_type": "stream",
     "text": [
      "tensor([2.3026, 2.3026, 2.3026,   -inf,   -inf,   -inf], dtype=torch.float64)\n",
      "tensor(-inf, dtype=torch.float64)\n",
      "tensor(inf, dtype=torch.float64)\n",
      "tensor(1.0000e-08, dtype=torch.float64)\n"
     ]
    }
   ],
   "source": [
    "c = Tensor([0.00000001, 0.00000001, 0.00000001,   0.0,   0.0,   0.0])\n",
    "\n",
    "k = Tensor([1000000000, 1000000000, 1000000000, 1000000000, 1000000000, 1000000000])\n",
    "\n",
    "r = torch.log(c) + torch.log(k) \n",
    "\n",
    "print(r)\n",
    "\n",
    "total_r = torch.logsumexp(r,dim=0)\n",
    "\n",
    "min_c = torch.log(torch.min(c))\n",
    "total_r = total_r - min_c\n",
    "\n",
    "print(min_c)\n",
    "print(total_r)\n",
    "\n",
    "print(torch.min(c[torch.nonzero(c)]))"
   ]
  },
  {
   "cell_type": "code",
   "execution_count": 18,
   "id": "f29b410b",
   "metadata": {},
   "outputs": [
    {
     "data": {
      "text/plain": [
       "(array([0.00093928, 0.        , 0.        , 0.        , 0.00187856,\n",
       "        0.        , 0.        , 0.        , 0.00093928, 0.        ,\n",
       "        0.        , 0.        , 0.00375712, 0.0046964 , 0.00563569,\n",
       "        0.00375712, 0.01408921, 0.01314993, 0.01314993, 0.01784634,\n",
       "        0.02066418, 0.02254274, 0.02817843, 0.04226764, 0.04696404,\n",
       "        0.04978189, 0.0441462 , 0.06105326, 0.04884261, 0.07138535,\n",
       "        0.08641384, 0.07889959, 0.09298881, 0.12586364, 0.14464925,\n",
       "        0.1277422 , 0.15967775, 0.18973474, 0.18315977, 0.17752409,\n",
       "        0.22073101, 0.22636669, 0.2404559 , 0.24327375, 0.25360584,\n",
       "        0.2357595 , 0.23294166, 0.25736296, 0.32123406, 0.28178426,\n",
       "        0.28272354, 0.28648067, 0.28835923, 0.27239145, 0.2601808 ,\n",
       "        0.27333073, 0.23294166, 0.27896642, 0.23294166, 0.25078799,\n",
       "        0.22260957, 0.18973474, 0.18973474, 0.17094912, 0.17470624,\n",
       "        0.13713501, 0.1474671 , 0.14089213, 0.14277069, 0.09956377,\n",
       "        0.10144233, 0.07796031, 0.07889959, 0.05823541, 0.0685675 ,\n",
       "        0.0591747 , 0.04790332, 0.03569267, 0.03099627, 0.02348202,\n",
       "        0.02723915, 0.02066418, 0.01784634, 0.01502849, 0.00845353,\n",
       "        0.01033209, 0.00375712, 0.00939281, 0.00751425, 0.00187856,\n",
       "        0.00281784, 0.00375712, 0.00187856, 0.00281784, 0.0046964 ,\n",
       "        0.        , 0.        , 0.        , 0.        , 0.00187856]),\n",
       " array([-5.42052458, -5.31406015, -5.20759572, -5.10113129, -4.99466687,\n",
       "        -4.88820244, -4.78173801, -4.67527359, -4.56880916, -4.46234473,\n",
       "        -4.35588031, -4.24941588, -4.14295145, -4.03648703, -3.9300226 ,\n",
       "        -3.82355817, -3.71709374, -3.61062932, -3.50416489, -3.39770046,\n",
       "        -3.29123604, -3.18477161, -3.07830718, -2.97184276, -2.86537833,\n",
       "        -2.7589139 , -2.65244948, -2.54598505, -2.43952062, -2.33305619,\n",
       "        -2.22659177, -2.12012734, -2.01366291, -1.90719849, -1.80073406,\n",
       "        -1.69426963, -1.58780521, -1.48134078, -1.37487635, -1.26841192,\n",
       "        -1.1619475 , -1.05548307, -0.94901864, -0.84255422, -0.73608979,\n",
       "        -0.62962536, -0.52316094, -0.41669651, -0.31023208, -0.20376766,\n",
       "        -0.09730323,  0.0091612 ,  0.11562563,  0.22209005,  0.32855448,\n",
       "         0.43501891,  0.54148333,  0.64794776,  0.75441219,  0.86087661,\n",
       "         0.96734104,  1.07380547,  1.18026989,  1.28673432,  1.39319875,\n",
       "         1.49966318,  1.6061276 ,  1.71259203,  1.81905646,  1.92552088,\n",
       "         2.03198531,  2.13844974,  2.24491416,  2.35137859,  2.45784302,\n",
       "         2.56430744,  2.67077187,  2.7772363 ,  2.88370073,  2.99016515,\n",
       "         3.09662958,  3.20309401,  3.30955843,  3.41602286,  3.52248729,\n",
       "         3.62895171,  3.73541614,  3.84188057,  3.948345  ,  4.05480942,\n",
       "         4.16127385,  4.26773828,  4.3742027 ,  4.48066713,  4.58713156,\n",
       "         4.69359598,  4.80006041,  4.90652484,  5.01298926,  5.11945369,\n",
       "         5.22591812]),\n",
       " <a list of 100 Patch objects>)"
      ]
     },
     "execution_count": 18,
     "metadata": {},
     "output_type": "execute_result"
    },
    {
     "data": {
      "image/png": "[encoded data removed]",
      "text/plain": [
       "<Figure size 432x288 with 1 Axes>"
      ]
     },
     "metadata": {
      "needs_background": "light"
     },
     "output_type": "display_data"
    }
   ],
   "source": [
    "import numpy as np\n",
    "from scipy.stats import norm\n",
    "import matplotlib.pyplot as plt\n",
    "\n",
    "a = norm.rvs(loc=-2,scale=1,size=10000)\n",
    "b = norm.rvs(loc=2,scale=1,size=10000)\n",
    "c = np.concatenate((a,b))\n",
    "\n",
    "fig,ax = plt.subplots()\n",
    "ax.hist(a,bins=100,density=True,alpha=0.6)\n",
    "ax.hist(b,bins=100,density=True,alpha=0.6)\n",
    "ax.hist(c,bins=100,density=True,alpha=0.6)\n",
    "ax.hist(a+b,bins=100,density=True,alpha=0.6)"
   ]
  },
  {
   "cell_type": "code",
   "execution_count": null,
   "id": "7021a7f5",
   "metadata": {},
   "outputs": [],
   "source": [
    "def gauss(x,mu,sig):\n",
    "    g = np.exp((x-mu)**2/sig)"
   ]
  },
  {
   "cell_type": "code",
   "execution_count": 7,
   "id": "39422dbd",
   "metadata": {},
   "outputs": [
    {
     "name": "stdout",
     "output_type": "stream",
     "text": [
      "tensor([[1.0000e-08],\n",
      "        [1.0000e-08],\n",
      "        [1.0000e-08]], dtype=torch.float64)\n",
      "0.0\n"
     ]
    }
   ],
   "source": [
    "ind = torch.nonzero(c)\n",
    "print(c[torch.nonzero(c)])\n",
    "print(torch.min(c).item())"
   ]
  },
  {
   "cell_type": "code",
   "execution_count": 6,
   "id": "09ea5a1a",
   "metadata": {},
   "outputs": [
    {
     "name": "stdout",
     "output_type": "stream",
     "text": [
      "tensor([[0.3333, 0.3333, 0.3333, 3.3333, 0.3333]])\n",
      "tensor([[0.3333, 0.3333, 0.3333, 3.3333, 0.3333]])\n"
     ]
    }
   ],
   "source": [
    "a = torch.zeros(1,5) + 1\n",
    "a[0,3]=10\n",
    "b = torch.zeros(1,5)+3\n",
    "c = a/b\n",
    "print(c)\n",
    "print(torch.div(a,b))"
   ]
  }
 ],
 "metadata": {
  "kernelspec": {
   "display_name": "Python 3 (ipykernel)",
   "language": "python",
   "name": "python3"
  },
  "language_info": {
   "codemirror_mode": {
    "name": "ipython",
    "version": 3
   },
   "file_extension": ".py",
   "mimetype": "text/x-python",
   "name": "python",
   "nbconvert_exporter": "python",
   "pygments_lexer": "ipython3",
   "version": "3.7.0"
  }
 },
 "nbformat": 4,
 "nbformat_minor": 5
}
