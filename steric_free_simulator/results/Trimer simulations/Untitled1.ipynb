{
 "cells": [
  {
   "cell_type": "code",
   "execution_count": 1,
   "id": "857c1261",
   "metadata": {},
   "outputs": [],
   "source": [
    "import torch\n"
   ]
  },
  {
   "cell_type": "code",
   "execution_count": 2,
   "id": "suffering-surname",
   "metadata": {},
   "outputs": [
    {
     "name": "stdout",
     "output_type": "stream",
     "text": [
      "tensor([4., 5., 6.], requires_grad=True)\n"
     ]
    }
   ],
   "source": [
    "a = torch.Tensor([4,5,6])\n",
    "a.requires_grad=True\n",
    "print(a)"
   ]
  },
  {
   "cell_type": "code",
   "execution_count": 3,
   "id": "failing-discussion",
   "metadata": {},
   "outputs": [
    {
     "name": "stdout",
     "output_type": "stream",
     "text": [
      "tensor([7.])\n",
      "tensor([4., 5., 6., 7.], grad_fn=<CatBackward>)\n"
     ]
    }
   ],
   "source": [
    "b = torch.Tensor([7])\n",
    "print(b)\n",
    "\n",
    "c = torch.cat((a,b),dim=0)\n",
    "\n",
    "print(c)"
   ]
  },
  {
   "cell_type": "code",
   "execution_count": 4,
   "id": "lonely-horse",
   "metadata": {
    "scrolled": true
   },
   "outputs": [
    {
     "name": "stdout",
     "output_type": "stream",
     "text": [
      "tensor([4., 5., 6., 7., 7.], grad_fn=<CatBackward>)\n"
     ]
    }
   ],
   "source": [
    "c = torch.cat((c,b),dim=0)\n",
    "\n",
    "print(c)"
   ]
  },
  {
   "cell_type": "code",
   "execution_count": 8,
   "id": "stone-resort",
   "metadata": {},
   "outputs": [
    {
     "name": "stdout",
     "output_type": "stream",
     "text": [
      "tensor(5.8000, grad_fn=<MeanBackward0>)\n"
     ]
    }
   ],
   "source": [
    "d = torch.mean(c)\n",
    "\n",
    "print(d)"
   ]
  },
  {
   "cell_type": "code",
   "execution_count": 1,
   "id": "victorian-thong",
   "metadata": {},
   "outputs": [],
   "source": [
    "import pandas as pd\n",
    "import matplotlib.pyplot as plt"
   ]
  },
  {
   "cell_type": "code",
   "execution_count": 4,
   "id": "raised-correspondence",
   "metadata": {},
   "outputs": [],
   "source": [
    "data_01 = pd.read_csv(\"ConcProfile_Time_10.0uM\",comment='#',delimiter='\\t',names=['Timestep','Conc'])\n",
    "\n",
    "data_02 = pd.read_csv(\"ConcProfile_Time_Predicted10.0uM\",comment='#',delimiter='\\t',names=['Timestep','Conc'])\n"
   ]
  },
  {
   "cell_type": "code",
   "execution_count": 5,
   "id": "coordinate-louisville",
   "metadata": {},
   "outputs": [
    {
     "data": {
      "image/png": "[encoded data removed]",
      "text/plain": [
       "<Figure size 432x288 with 1 Axes>"
      ]
     },
     "metadata": {
      "needs_background": "light"
     },
     "output_type": "display_data"
    }
   ],
   "source": [
    "\n",
    "fig,ax = plt.subplots()\n",
    "ax.plot(data_01['Timestep'],data_01['Conc'],color='crimson')\n",
    "ax.plot(data_02['Timestep'],data_02['Conc'],color='steelblue')\n",
    "ax.set_xscale(\"log\")"
   ]
  }
 ],
 "metadata": {
  "kernelspec": {
   "display_name": "Python 3",
   "language": "python",
   "name": "python3"
  },
  "language_info": {
   "codemirror_mode": {
    "name": "ipython",
    "version": 3
   },
   "file_extension": ".py",
   "mimetype": "text/x-python",
   "name": "python",
   "nbconvert_exporter": "python",
   "pygments_lexer": "ipython3",
   "version": "3.7.9"
  }
 },
 "nbformat": 4,
 "nbformat_minor": 5
}
