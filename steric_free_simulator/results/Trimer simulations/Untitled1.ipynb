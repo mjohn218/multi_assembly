{
 "cells": [
  {
   "cell_type": "code",
   "execution_count": 1,
   "id": "857c1261",
   "metadata": {},
   "outputs": [
    {
     "ename": "SyntaxError",
     "evalue": "invalid syntax (1417114673.py, line 1)",
     "output_type": "error",
     "traceback": [
      "\u001b[0;36m  File \u001b[0;32m\"/tmp/ipykernel_18757/1417114673.py\"\u001b[0;36m, line \u001b[0;32m1\u001b[0m\n\u001b[0;31m    Rxn rates:  tensor([13.8155, 13.8155, 13.8155,    -inf,    -inf,    -inf,    -inf,    -inf,\u001b[0m\n\u001b[0m            ^\u001b[0m\n\u001b[0;31mSyntaxError\u001b[0m\u001b[0;31m:\u001b[0m invalid syntax\n"
     ]
    }
   ],
   "source": [
    "Rxn rates:  tensor([1000.0000, 1000.0000, 1000.0000,    0.0000,    0.0000,    0.0000,\n",
    "           0.0000,    0.0000,    0.0000,    0.0000,    0.0000,    0.0000],\n",
    "       dtype=torch.float64, grad_fn=<ExpBackward>)\n",
    "Rate step:  tensor([0.3333, 0.3333, 0.3333, 0.0000, 0.0000, 0.0000, 0.0000, 0.0000, 0.0000,\n",
    "        0.0000, 0.0000, 0.0000], dtype=torch.float64, grad_fn=<ExpBackward>)\n",
    "Current time:  tensor(0.0003, dtype=torch.float64, grad_fn=<AddBackward0>)\n",
    "Rxn rates:  tensor([9.8671e+02, 9.8671e+02, 9.8671e+02, 3.3111e+00, 3.3111e+00, 3.3111e+00,\n",
    "        6.8705e-05, 6.8705e-05, 6.8705e-05, 0.0000e+00, 0.0000e+00, 0.0000e+00],\n",
    "       dtype=torch.float64, grad_fn=<ExpBackward>)\n",
    "Rate step:  tensor([3.3222e-01, 3.3222e-01, 3.3222e-01, 1.1148e-03, 1.1148e-03, 1.1148e-03,\n",
    "        2.3133e-08, 2.3133e-08, 2.3133e-08, 0.0000e+00, 0.0000e+00, 0.0000e+00],\n",
    "       dtype=torch.float64, grad_fn=<ExpBackward>)\n",
    "Current time:  tensor(0.0007, dtype=torch.float64, grad_fn=<AddBackward0>)\n",
    "Rxn rates:  tensor([9.7353e+02, 9.7353e+02, 9.7353e+02, 6.5559e+00, 6.5559e+00, 6.5559e+00,\n",
    "        1.3695e-04, 1.3695e-04, 1.3695e-04, 1.4209e-15, 1.4209e-15, 1.4209e-15],\n",
    "       dtype=torch.float64, grad_fn=<ExpBackward>)\n",
    "Rate step:  tensor([3.3110e-01, 3.3110e-01, 3.3110e-01, 2.2297e-03, 2.2297e-03, 2.2297e-03,\n",
    "        4.6578e-08, 4.6578e-08, 4.6578e-08, 4.8324e-19, 4.8324e-19, 4.8324e-19],\n",
    "       dtype=torch.float64, grad_fn=<ExpBackward>)\n",
    "Current time:  tensor(0.0010, dtype=torch.float64, grad_fn=<AddBackward0>)\n",
    "Rxn rates:  tensor([9.6047e+02, 9.6047e+02, 9.6047e+02, 9.7348e+00, 9.7348e+00, 9.7348e+00,\n",
    "        2.0474e-04, 2.0474e-04, 2.0474e-04, 4.2626e-15, 4.2626e-15, 4.2626e-15],\n",
    "       dtype=torch.float64, grad_fn=<ExpBackward>)\n",
    "Rate step:  tensor([3.2999e-01, 3.2999e-01, 3.2999e-01, 3.3446e-03, 3.3446e-03, 3.3446e-03,\n",
    "        7.0342e-08, 7.0342e-08, 7.0342e-08, 1.4645e-18, 1.4645e-18, 1.4645e-18],\n",
    "       dtype=torch.float64, grad_fn=<ExpBackward>)\n",
    "Current time:  tensor(0.0014, dtype=torch.float64, grad_fn=<AddBackward0>)\n",
    "Rxn rates:  tensor([9.4751e+02, 9.4751e+02, 9.4751e+02, 1.2848e+01, 1.2848e+01, 1.2848e+01,\n",
    "        2.7206e-04, 2.7206e-04, 2.7206e-04, 8.5253e-15, 8.5253e-15, 8.5253e-15],\n",
    "       dtype=torch.float64, grad_fn=<ExpBackward>)\n",
    "Rate step:  tensor([3.2887e-01, 3.2887e-01, 3.2887e-01, 4.4596e-03, 4.4596e-03, 4.4596e-03,\n",
    "        9.4431e-08, 9.4431e-08, 9.4431e-08, 2.9591e-18, 2.9591e-18, 2.9591e-18],\n",
    "       dtype=torch.float64, grad_fn=<ExpBackward>)\n",
    "Current time:  tensor(0.0017, dtype=torch.float64, grad_fn=<AddBackward0>)\n",
    "Rxn rates:  tensor([9.3466e+02, 9.3466e+02, 9.3466e+02, 1.5897e+01, 1.5897e+01, 1.5897e+01,\n",
    "        3.3893e-04, 3.3893e-04, 3.3893e-04, 1.4209e-14, 1.4209e-14, 1.4209e-14],\n",
    "       dtype=torch.float64, grad_fn=<ExpBackward>)\n",
    "Rate step:  tensor([3.2776e-01, 3.2776e-01, 3.2776e-01, 5.5748e-03, 5.5748e-03, 5.5748e-03,\n",
    "        1.1885e-07, 1.1885e-07, 1.1885e-07, 4.9827e-18, 4.9827e-18, 4.9827e-18],\n",
    "       dtype=torch.float64, grad_fn=<ExpBackward>)\n",
    "Current time:  tensor(0.0021, dtype=torch.float64, grad_fn=<AddBackward0>)\n",
    "Rxn rates:  tensor([9.2192e+02, 9.2192e+02, 9.2192e+02, 1.8882e+01, 1.8882e+01, 1.8882e+01,\n",
    "        4.0534e-04, 4.0534e-04, 4.0534e-04, 2.1314e-14, 2.1314e-14, 2.1314e-14],\n",
    "       dtype=torch.float64, grad_fn=<ExpBackward>)\n",
    "Rate step:  tensor([3.2664e-01, 3.2664e-01, 3.2664e-01, 6.6901e-03, 6.6901e-03, 6.6901e-03,\n",
    "        1.4361e-07, 1.4361e-07, 1.4361e-07, 7.5518e-18, 7.5518e-18, 7.5518e-18],\n",
    "       dtype=torch.float64, grad_fn=<ExpBackward>)\n",
    "Current time:  tensor(0.0024, dtype=torch.float64, grad_fn=<AddBackward0>)\n",
    "Rxn rates:  tensor([9.0929e+02, 9.0929e+02, 9.0929e+02, 2.1803e+01, 2.1803e+01, 2.1803e+01,\n",
    "        4.7128e-04, 4.7128e-04, 4.7128e-04, 2.9841e-14, 2.9841e-14, 2.9841e-14],\n",
    "       dtype=torch.float64, grad_fn=<ExpBackward>)\n",
    "Rate step:  tensor([3.2553e-01, 3.2553e-01, 3.2553e-01, 7.8056e-03, 7.8056e-03, 7.8056e-03,\n",
    "        1.6872e-07, 1.6872e-07, 1.6872e-07, 1.0683e-17, 1.0683e-17, 1.0683e-17],\n",
    "       dtype=torch.float64, grad_fn=<ExpBackward>)\n",
    "Current time:  tensor(0.0028, dtype=torch.float64, grad_fn=<AddBackward0>)\n",
    "Rxn rates:  tensor([8.9677e+02, 8.9677e+02, 8.9677e+02, 2.4661e+01, 2.4661e+01, 2.4661e+01,\n",
    "        5.3677e-04, 5.3677e-04, 5.3677e-04, 3.9789e-14, 3.9789e-14, 3.9789e-14],\n",
    "       dtype=torch.float64, grad_fn=<ExpBackward>)\n",
    "Rate step:  tensor([3.2441e-01, 3.2441e-01, 3.2441e-01, 8.9214e-03, 8.9214e-03, 8.9214e-03,\n",
    "        1.9418e-07, 1.9418e-07, 1.9418e-07, 1.4394e-17, 1.4394e-17, 1.4394e-17],\n",
    "       dtype=torch.float64, grad_fn=<ExpBackward>)\n",
    "Current time:  tensor(0.0031, dtype=torch.float64, grad_fn=<AddBackward0>)\n",
    "Rxn rates:  tensor([8.8435e+02, 8.8435e+02, 8.8435e+02, 2.7457e+01, 2.7457e+01, 2.7457e+01,\n",
    "        6.0180e-04, 6.0180e-04, 6.0180e-04, 5.1160e-14, 5.1160e-14, 5.1160e-14],\n",
    "       dtype=torch.float64, grad_fn=<ExpBackward>)\n",
    "Rate step:  tensor([3.2330e-01, 3.2330e-01, 3.2330e-01, 1.0038e-02, 1.0038e-02, 1.0038e-02,\n",
    "        2.2000e-07, 2.2000e-07, 2.2000e-07, 1.8702e-17, 1.8702e-17, 1.8702e-17],\n",
    "       dtype=torch.float64, grad_fn=<ExpBackward>)\n",
    "Current time:  tensor(0.0035, dtype=torch.float64, grad_fn=<AddBackward0>)"
   ]
  }
 ],
 "metadata": {
  "kernelspec": {
   "display_name": "Python 3 (ipykernel)",
   "language": "python",
   "name": "python3"
  },
  "language_info": {
   "codemirror_mode": {
    "name": "ipython",
    "version": 3
   },
   "file_extension": ".py",
   "mimetype": "text/x-python",
   "name": "python",
   "nbconvert_exporter": "python",
   "pygments_lexer": "ipython3",
   "version": "3.7.0"
  }
 },
 "nbformat": 4,
 "nbformat_minor": 5
}
