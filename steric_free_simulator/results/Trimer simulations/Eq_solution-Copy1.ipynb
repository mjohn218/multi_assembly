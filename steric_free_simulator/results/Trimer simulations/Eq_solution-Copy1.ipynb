{
 "cells": [
  {
   "cell_type": "code",
   "execution_count": 4,
   "id": "28d2c25c",
   "metadata": {},
   "outputs": [],
   "source": [
    "from sympy.solvers import solve\n",
    "from sympy import symbols\n",
    "import numpy as np\n",
    "from sympy import nsolve"
   ]
  },
  {
   "cell_type": "code",
   "execution_count": 5,
   "id": "2b866fee",
   "metadata": {},
   "outputs": [
    {
     "name": "stdout",
     "output_type": "stream",
     "text": [
      "Matrix([[0], [0], [0]])\n"
     ]
    }
   ],
   "source": [
    "#Samples case\n",
    "\n",
    "x,y,z = symbols('x,y,z')\n",
    "\n",
    "eq1 = 4*x + 6*y -z\n",
    "eq2 = -x + 2*y + 4*z\n",
    "eq3 = 4*x-y+z\n",
    "\n",
    "sim = [eq1,eq2,eq3]\n",
    "\n",
    "solution = nsolve(sim,[x,y,z],[10,10,10])\n",
    "print(solution)"
   ]
  },
  {
   "cell_type": "code",
   "execution_count": 6,
   "id": "3f3be9fd",
   "metadata": {},
   "outputs": [
    {
     "name": "stdout",
     "output_type": "stream",
     "text": [
      "[0.41450042 0.41450042 0.41450042 0.1718106  0.1718106  0.1718106 ]\n",
      "[-a*b - a*bc - a*c + 0.414500419839963*ab + 0.171810598047506*abc + 0.414500419839963*ac, -a*b + 0.414500419839963*ab + 0.171810598047506*abc - ac*b - b*c + 0.414500419839963*bc, -a*c - ab*c + 0.171810598047506*abc + 0.414500419839963*ac - b*c + 0.414500419839963*bc, a*b - ab*c - 0.414500419839963*ab + 0.171810598047506*abc, a*c + 0.171810598047506*abc - ac*b - 0.414500419839963*ac, -a*bc + 0.171810598047506*abc + b*c - 0.414500419839963*bc, a*bc + ab*c - 0.515431794142517*abc + ac*b, a + ab + abc + ac - 10.0, ab + abc + b + bc - 10.0, abc + ac + bc + c - 10.0]\n",
      "Matrix([[0.768759854179617], [0.768759854179617], [0.768759854179617], [1.42579279805421], [1.42579279805421], [1.42579279805421], [6.37965454971196]])\n"
     ]
    }
   ],
   "source": [
    "a,b,c,ab,ac,bc,abc = symbols(\"a,b,c,ab,ac,bc,abc\")\n",
    "\n",
    "k_on = np.array([1,1,1,1,1,1])\n",
    "g = np.array([-2,-2,-2,-4,-4,-4])\n",
    "R = 8.314\n",
    "T = 273.15\n",
    "k_off = k_on*np.exp(g*1000/(R*T))\n",
    "init_conc = [10,10,10,0,0,0,0]\n",
    "init_sol = np.random.rand(len(init_conc))*max(init_conc)\n",
    "\n",
    "eq1 = -k_on[0]*a*b - k_on[5]*a*bc -k_on[1]*a*c + k_off[0]*ab + k_off[5]*abc + k_off[1]*ac\n",
    "eq2 = -k_on[0]*a*b - k_on[2]*b*c - k_on[4]*b*ac + k_off[0]*ab + k_off[4]*abc + k_off[2]*bc\n",
    "eq3 = -k_on[1]*a*c -k_on[2]*b*c - k_on[3]*c*ab + k_off[1]*ac + k_off[2]*bc + k_off[3]*abc\n",
    "eq4 = -k_off[0]*ab - k_on[3]*ab*c + k_on[0]*a*b + k_off[3]*abc\n",
    "eq5 = -k_off[1]*ac - k_on[4]*ac*b + k_on[1]*a*c + k_off[4]*abc\n",
    "eq6 = -k_off[2]*bc - k_on[5]*bc*a + k_on[2]*b*c + k_off[5]*abc\n",
    "eq7 = -(k_off[3] + k_off[4] + k_off[5])*abc + k_on[3]*ab*c + k_on[4]*ac*b + k_on[5]*bc*a\n",
    "\n",
    "c1 = a+ab+ac+abc-10.0\n",
    "c2 = b+ab+bc+abc-10.0\n",
    "c3 = c+ac+bc+abc-10.0\n",
    "\n",
    "system = [eq1,eq2,eq3,eq4,eq5,eq6,eq7,c1,c2,c3]\n",
    "\n",
    "print(k_off)\n",
    "print(system)\n",
    "\n",
    "solution = nsolve(system,[a,b,c,ab,ac,bc,abc],init_sol)\n",
    "\n",
    "print(solution)"
   ]
  },
  {
   "cell_type": "code",
   "execution_count": 8,
   "id": "a2c4c68f",
   "metadata": {
    "scrolled": true
   },
   "outputs": [
    {
     "name": "stdout",
     "output_type": "stream",
     "text": [
      "[2.2147, 2.2147, 2.2147, 9.4947, 9.4947, 9.4947, 78.796]\n",
      "[-1.0*a*b + 0.516587307127124*ab, -1.0*b*c + 0.516587307127124*bc, -1.0*a*c + 0.516587307127124*ac, -1.0*ab*c + 0.266862445884853*abc, 0.266862445884853*abc - 1.0*ac*b, -1.0*a*bc + 0.266862445884853*abc, 1.0*a*bc + 1.0*ab*c - 0.800587337654559*abc + 1.0*ac*b, a + ab + abc + ac - 100.0, ab + abc + b + bc - 100.0, abc + ac + bc + c - 100.0]\n",
      "Matrix([[2.21468392008743], [2.21468392008743], [2.21468392008743], [9.49466779036995], [9.49466779036995], [9.49466779036995], [78.7959804991727]])\n"
     ]
    }
   ],
   "source": [
    "a,b,c,ab,ac,bc,abc = symbols(\"a,b,c,ab,ac,bc,abc\")\n",
    "\n",
    "#k_on = np.array([1,1,1,1,1,1])\n",
    "k_on = np.array([1.0, 1.0, 1.0, 1.0, 1.0, 1.0])\n",
    "g = np.array([-1.5,-1.5,-1.5,-3,-3,-3])\n",
    "R = 8.314\n",
    "T = 273.15\n",
    "k_off = k_on*np.exp(g*1000/(R*T))\n",
    "#init_conc = [7.4707e-03, 7.4707e-03, 3.1465e-02, 2.8225e-02, 4.2309e-03, 4.2309e-03,9.9601e+00]\n",
    "#init_sol = np.random.rand(len(init_conc))*max(init_conc)\n",
    "init_sol = [ 2.2147,  2.2147,  2.2147,  9.4947,  9.4947,  9.4947, 78.7960]\n",
    "\n",
    "eq1 = -k_on[0]*a*b + k_off[0]*ab\n",
    "eq2 = - k_on[2]*b*c + k_off[2]*bc\n",
    "eq3 = -k_on[1]*a*c + k_off[1]*ac \n",
    "eq4 = -k_on[3]*ab*c + k_off[3]*abc\n",
    "eq5 = - k_on[4]*ac*b + k_off[4]*abc\n",
    "eq6 = - k_on[5]*bc*a + k_off[5]*abc\n",
    "eq7 = -(k_off[3] + k_off[4] + k_off[5])*abc + k_on[3]*ab*c + k_on[4]*ac*b + k_on[5]*bc*a\n",
    "\n",
    "c1 = a+ab+ac+abc-100.0\n",
    "c2 = b+ab+bc+abc-100.0\n",
    "c3 = c+ac+bc+abc-100.0\n",
    "\n",
    "system = [eq1,eq2,eq3,eq4,eq5,eq6,eq7,c1,c2,c3]\n",
    "\n",
    "print(init_sol)\n",
    "print(system)\n",
    "\n",
    "solution = nsolve(system,[a,b,c,ab,ac,bc,abc],init_sol,verify=True)\n",
    "\n",
    "print(solution)"
   ]
  },
  {
   "cell_type": "code",
   "execution_count": null,
   "id": "e58343d1",
   "metadata": {},
   "outputs": [],
   "source": [
    "g = np.array([-20,-20,-20,-40,-40,-40])\n",
    "print(np.exp(g*1000/(R*T)))\n",
    "\n",
    "init_sol = np.random.rand(len(init_conc))*max(init_conc) #*np.exp(min(g)*1000/(R*T))\n",
    "\n",
    "print(init_sol)"
   ]
  }
 ],
 "metadata": {
  "kernelspec": {
   "display_name": "Python 3",
   "language": "python",
   "name": "python3"
  },
  "language_info": {
   "codemirror_mode": {
    "name": "ipython",
    "version": 3
   },
   "file_extension": ".py",
   "mimetype": "text/x-python",
   "name": "python",
   "nbconvert_exporter": "python",
   "pygments_lexer": "ipython3",
   "version": "3.7.0"
  }
 },
 "nbformat": 4,
 "nbformat_minor": 5
}
