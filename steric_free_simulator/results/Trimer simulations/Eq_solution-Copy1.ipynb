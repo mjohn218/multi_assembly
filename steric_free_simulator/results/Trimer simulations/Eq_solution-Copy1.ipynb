{
 "cells": [
  {
   "cell_type": "code",
   "execution_count": 1,
   "id": "28d2c25c",
   "metadata": {},
   "outputs": [],
   "source": [
    "from sympy.solvers import solve\n",
    "from sympy import symbols\n",
    "import numpy as np\n",
    "from sympy import nsolve"
   ]
  },
  {
   "cell_type": "code",
   "execution_count": 2,
   "id": "2b866fee",
   "metadata": {},
   "outputs": [
    {
     "name": "stdout",
     "output_type": "stream",
     "text": [
      "Matrix([[0], [0], [0]])\n"
     ]
    }
   ],
   "source": [
    "#Samples case\n",
    "\n",
    "x,y,z = symbols('x,y,z')\n",
    "\n",
    "eq1 = 4*x + 6*y -z\n",
    "eq2 = -x + 2*y + 4*z\n",
    "eq3 = 4*x-y+z\n",
    "\n",
    "sim = [eq1,eq2,eq3]\n",
    "\n",
    "solution = nsolve(sim,[x,y,z],[10,10,10])\n",
    "print(solution)"
   ]
  },
  {
   "cell_type": "code",
   "execution_count": 3,
   "id": "3f3be9fd",
   "metadata": {},
   "outputs": [
    {
     "name": "stdout",
     "output_type": "stream",
     "text": [
      "[0.41450042 0.41450042 0.41450042 0.1718106  0.1718106  0.1718106 ]\n",
      "[-a*b - a*bc - a*c + 0.414500419839963*ab + 0.171810598047506*abc + 0.414500419839963*ac, -a*b + 0.414500419839963*ab + 0.171810598047506*abc - ac*b - b*c + 0.414500419839963*bc, -a*c - ab*c + 0.171810598047506*abc + 0.414500419839963*ac - b*c + 0.414500419839963*bc, a*b - ab*c - 0.414500419839963*ab + 0.171810598047506*abc, a*c + 0.171810598047506*abc - ac*b - 0.414500419839963*ac, -a*bc + 0.171810598047506*abc + b*c - 0.414500419839963*bc, a*bc + ab*c - 0.515431794142517*abc + ac*b, a + ab + abc + ac - 10.0, ab + abc + b + bc - 10.0, abc + ac + bc + c - 10.0]\n",
      "Matrix([[0.768759854179617], [0.768759854179617], [0.768759854179617], [1.42579279805421], [1.42579279805421], [1.42579279805421], [6.37965454971196]])\n"
     ]
    }
   ],
   "source": [
    "a,b,c,ab,ac,bc,abc = symbols(\"a,b,c,ab,ac,bc,abc\")\n",
    "\n",
    "k_on = np.array([1,1,1,1,1,1])\n",
    "g = np.array([-2,-2,-2,-4,-4,-4])\n",
    "R = 8.314\n",
    "T = 273.15\n",
    "k_off = k_on*np.exp(g*1000/(R*T))\n",
    "init_conc = [10,10,10,0,0,0,0]\n",
    "init_sol = np.random.rand(len(init_conc))*max(init_conc)\n",
    "\n",
    "eq1 = -k_on[0]*a*b - k_on[5]*a*bc -k_on[1]*a*c + k_off[0]*ab + k_off[5]*abc + k_off[1]*ac\n",
    "eq2 = -k_on[0]*a*b - k_on[2]*b*c - k_on[4]*b*ac + k_off[0]*ab + k_off[4]*abc + k_off[2]*bc\n",
    "eq3 = -k_on[1]*a*c -k_on[2]*b*c - k_on[3]*c*ab + k_off[1]*ac + k_off[2]*bc + k_off[3]*abc\n",
    "eq4 = -k_off[0]*ab - k_on[3]*ab*c + k_on[0]*a*b + k_off[3]*abc\n",
    "eq5 = -k_off[1]*ac - k_on[4]*ac*b + k_on[1]*a*c + k_off[4]*abc\n",
    "eq6 = -k_off[2]*bc - k_on[5]*bc*a + k_on[2]*b*c + k_off[5]*abc\n",
    "eq7 = -(k_off[3] + k_off[4] + k_off[5])*abc + k_on[3]*ab*c + k_on[4]*ac*b + k_on[5]*bc*a\n",
    "\n",
    "c1 = a+ab+ac+abc-10.0\n",
    "c2 = b+ab+bc+abc-10.0\n",
    "c3 = c+ac+bc+abc-10.0\n",
    "\n",
    "system = [eq1,eq2,eq3,eq4,eq5,eq6,eq7,c1,c2,c3]\n",
    "\n",
    "print(k_off)\n",
    "print(system)\n",
    "\n",
    "solution = nsolve(system,[a,b,c,ab,ac,bc,abc],init_sol)\n",
    "\n",
    "print(solution)"
   ]
  },
  {
   "cell_type": "code",
   "execution_count": 4,
   "id": "a2c4c68f",
   "metadata": {
    "scrolled": true
   },
   "outputs": [
    {
     "name": "stdout",
     "output_type": "stream",
     "text": [
      "[9.7282e-07, 9.7282e-07, 9.7282e-07, 0.0012476, 0.0012476, 0.0012476, 9.9975]\n",
      "[-0.0199*a*b + 0.0128119596963471*ab, -0.0209*b*c + 3.12893134430461e-6*bc, -0.0198*a*c + 2.96425074723594e-6*ac, -1.6899*ab*c + 2.43850128538459e-8*abc, 0.000162882055425427*abc - 1.6899*ac*b, -1.6903*a*bc + 0.000162920609672524*abc, 1.6903*a*bc + 1.6899*ab*c - 0.000325827050110805*abc + 1.6899*ac*b, a + ab + abc + ac - 10.0, ab + abc + b + bc - 10.0, abc + ac + bc + c - 10.0]\n"
     ]
    },
    {
     "ename": "ValueError",
     "evalue": "Could not find root within given tolerance. (1.02865520653885883519e-15 > 2.16840434497100886801e-19)\nTry another starting point or tweak arguments.",
     "output_type": "error",
     "traceback": [
      "\u001b[0;31m---------------------------------------------------------------------------\u001b[0m",
      "\u001b[0;31mValueError\u001b[0m                                Traceback (most recent call last)",
      "\u001b[0;32m<ipython-input-4-eba82f958acd>\u001b[0m in \u001b[0;36m<module>\u001b[0;34m\u001b[0m\n\u001b[1;32m     30\u001b[0m \u001b[0mprint\u001b[0m\u001b[0;34m(\u001b[0m\u001b[0msystem\u001b[0m\u001b[0;34m)\u001b[0m\u001b[0;34m\u001b[0m\u001b[0m\n\u001b[1;32m     31\u001b[0m \u001b[0;34m\u001b[0m\u001b[0m\n\u001b[0;32m---> 32\u001b[0;31m \u001b[0msolution\u001b[0m \u001b[0;34m=\u001b[0m \u001b[0mnsolve\u001b[0m\u001b[0;34m(\u001b[0m\u001b[0msystem\u001b[0m\u001b[0;34m,\u001b[0m\u001b[0;34m[\u001b[0m\u001b[0ma\u001b[0m\u001b[0;34m,\u001b[0m\u001b[0mb\u001b[0m\u001b[0;34m,\u001b[0m\u001b[0mc\u001b[0m\u001b[0;34m,\u001b[0m\u001b[0mab\u001b[0m\u001b[0;34m,\u001b[0m\u001b[0mac\u001b[0m\u001b[0;34m,\u001b[0m\u001b[0mbc\u001b[0m\u001b[0;34m,\u001b[0m\u001b[0mabc\u001b[0m\u001b[0;34m]\u001b[0m\u001b[0;34m,\u001b[0m\u001b[0minit_sol\u001b[0m\u001b[0;34m,\u001b[0m\u001b[0mverify\u001b[0m\u001b[0;34m=\u001b[0m\u001b[0;32mTrue\u001b[0m\u001b[0;34m)\u001b[0m\u001b[0;34m\u001b[0m\u001b[0m\n\u001b[0m\u001b[1;32m     33\u001b[0m \u001b[0;34m\u001b[0m\u001b[0m\n\u001b[1;32m     34\u001b[0m \u001b[0mprint\u001b[0m\u001b[0;34m(\u001b[0m\u001b[0msolution\u001b[0m\u001b[0;34m)\u001b[0m\u001b[0;34m\u001b[0m\u001b[0m\n",
      "\u001b[0;32m~/software/anaconda3/envs/steric_free_sim/lib/python3.7/site-packages/sympy/utilities/decorator.py\u001b[0m in \u001b[0;36mfunc_wrapper\u001b[0;34m(*args, **kwargs)\u001b[0m\n\u001b[1;32m     86\u001b[0m         \u001b[0mdps\u001b[0m \u001b[0;34m=\u001b[0m \u001b[0mmpmath\u001b[0m\u001b[0;34m.\u001b[0m\u001b[0mmp\u001b[0m\u001b[0;34m.\u001b[0m\u001b[0mdps\u001b[0m\u001b[0;34m\u001b[0m\u001b[0m\n\u001b[1;32m     87\u001b[0m         \u001b[0;32mtry\u001b[0m\u001b[0;34m:\u001b[0m\u001b[0;34m\u001b[0m\u001b[0m\n\u001b[0;32m---> 88\u001b[0;31m             \u001b[0;32mreturn\u001b[0m \u001b[0mfunc\u001b[0m\u001b[0;34m(\u001b[0m\u001b[0;34m*\u001b[0m\u001b[0margs\u001b[0m\u001b[0;34m,\u001b[0m \u001b[0;34m**\u001b[0m\u001b[0mkwargs\u001b[0m\u001b[0;34m)\u001b[0m\u001b[0;34m\u001b[0m\u001b[0m\n\u001b[0m\u001b[1;32m     89\u001b[0m         \u001b[0;32mfinally\u001b[0m\u001b[0;34m:\u001b[0m\u001b[0;34m\u001b[0m\u001b[0m\n\u001b[1;32m     90\u001b[0m             \u001b[0mmpmath\u001b[0m\u001b[0;34m.\u001b[0m\u001b[0mmp\u001b[0m\u001b[0;34m.\u001b[0m\u001b[0mdps\u001b[0m \u001b[0;34m=\u001b[0m \u001b[0mdps\u001b[0m\u001b[0;34m\u001b[0m\u001b[0m\n",
      "\u001b[0;32m~/software/anaconda3/envs/steric_free_sim/lib/python3.7/site-packages/sympy/solvers/solvers.py\u001b[0m in \u001b[0;36mnsolve\u001b[0;34m(dict, *args, **kwargs)\u001b[0m\n\u001b[1;32m   2952\u001b[0m     \u001b[0mJ\u001b[0m \u001b[0;34m=\u001b[0m \u001b[0mlambdify\u001b[0m\u001b[0;34m(\u001b[0m\u001b[0mfargs\u001b[0m\u001b[0;34m,\u001b[0m \u001b[0mJ\u001b[0m\u001b[0;34m,\u001b[0m \u001b[0mmodules\u001b[0m\u001b[0;34m)\u001b[0m\u001b[0;34m\u001b[0m\u001b[0m\n\u001b[1;32m   2953\u001b[0m     \u001b[0;31m# solve the system numerically\u001b[0m\u001b[0;34m\u001b[0m\u001b[0;34m\u001b[0m\u001b[0m\n\u001b[0;32m-> 2954\u001b[0;31m     \u001b[0mx\u001b[0m \u001b[0;34m=\u001b[0m \u001b[0mfindroot\u001b[0m\u001b[0;34m(\u001b[0m\u001b[0mf\u001b[0m\u001b[0;34m,\u001b[0m \u001b[0mx0\u001b[0m\u001b[0;34m,\u001b[0m \u001b[0mJ\u001b[0m\u001b[0;34m=\u001b[0m\u001b[0mJ\u001b[0m\u001b[0;34m,\u001b[0m \u001b[0;34m**\u001b[0m\u001b[0mkwargs\u001b[0m\u001b[0;34m)\u001b[0m\u001b[0;34m\u001b[0m\u001b[0m\n\u001b[0m\u001b[1;32m   2955\u001b[0m     \u001b[0;32mif\u001b[0m \u001b[0mas_dict\u001b[0m\u001b[0;34m:\u001b[0m\u001b[0;34m\u001b[0m\u001b[0m\n\u001b[1;32m   2956\u001b[0m         \u001b[0;32mreturn\u001b[0m \u001b[0;34m[\u001b[0m\u001b[0mdict\u001b[0m\u001b[0;34m(\u001b[0m\u001b[0mzip\u001b[0m\u001b[0;34m(\u001b[0m\u001b[0mfargs\u001b[0m\u001b[0;34m,\u001b[0m \u001b[0;34m[\u001b[0m\u001b[0msympify\u001b[0m\u001b[0;34m(\u001b[0m\u001b[0mxi\u001b[0m\u001b[0;34m)\u001b[0m \u001b[0;32mfor\u001b[0m \u001b[0mxi\u001b[0m \u001b[0;32min\u001b[0m \u001b[0mx\u001b[0m\u001b[0;34m]\u001b[0m\u001b[0;34m)\u001b[0m\u001b[0;34m)\u001b[0m\u001b[0;34m]\u001b[0m\u001b[0;34m\u001b[0m\u001b[0m\n",
      "\u001b[0;32m~/software/anaconda3/envs/steric_free_sim/lib/python3.7/site-packages/mpmath/calculus/optimization.py\u001b[0m in \u001b[0;36mfindroot\u001b[0;34m(ctx, f, x0, solver, tol, verbose, verify, **kwargs)\u001b[0m\n\u001b[1;32m    986\u001b[0m                              \u001b[0;34m'(%s > %s)\\n'\u001b[0m\u001b[0;34m\u001b[0m\u001b[0m\n\u001b[1;32m    987\u001b[0m                              \u001b[0;34m'Try another starting point or tweak arguments.'\u001b[0m\u001b[0;34m\u001b[0m\u001b[0m\n\u001b[0;32m--> 988\u001b[0;31m                              % (norm(f(*xl))**2, tol))\n\u001b[0m\u001b[1;32m    989\u001b[0m         \u001b[0;32mreturn\u001b[0m \u001b[0mx\u001b[0m\u001b[0;34m\u001b[0m\u001b[0m\n\u001b[1;32m    990\u001b[0m     \u001b[0;32mfinally\u001b[0m\u001b[0;34m:\u001b[0m\u001b[0;34m\u001b[0m\u001b[0m\n",
      "\u001b[0;31mValueError\u001b[0m: Could not find root within given tolerance. (1.02865520653885883519e-15 > 2.16840434497100886801e-19)\nTry another starting point or tweak arguments."
     ]
    }
   ],
   "source": [
    "a,b,c,ab,ac,bc,abc = symbols(\"a,b,c,ab,ac,bc,abc\")\n",
    "\n",
    "#k_on = np.array([1,1,1,1,1,1])\n",
    "k_on = np.array([0.0199, 0.0198, 0.0209, 1.6899, 1.6899, 1.6903])\n",
    "g = np.array([-1,-20,-20,-41,-21,-21])\n",
    "R = 8.314\n",
    "T = 273.15\n",
    "k_off = k_on*np.exp(g*1000/(R*T))\n",
    "init_conc = [7.4707e-03, 7.4707e-03, 3.1465e-02, 2.8225e-02, 4.2309e-03, 4.2309e-03,\n",
    "        9.9601e+00]\n",
    "#init_sol = np.random.rand(len(init_conc))*max(init_conc)\n",
    "init_sol = [9.7282e-07, 9.7282e-07, 9.7282e-07, 1.2476e-03, 1.2476e-03, 1.2476e-03,\n",
    "        9.9975e+00]\n",
    "\n",
    "eq1 = -k_on[0]*a*b + k_off[0]*ab\n",
    "eq2 = - k_on[2]*b*c + k_off[2]*bc\n",
    "eq3 = -k_on[1]*a*c + k_off[1]*ac \n",
    "eq4 = -k_on[3]*ab*c + k_off[3]*abc\n",
    "eq5 = - k_on[4]*ac*b + k_off[4]*abc\n",
    "eq6 = - k_on[5]*bc*a + k_off[5]*abc\n",
    "eq7 = -(k_off[3] + k_off[4] + k_off[5])*abc + k_on[3]*ab*c + k_on[4]*ac*b + k_on[5]*bc*a\n",
    "\n",
    "c1 = a+ab+ac+abc-10.0\n",
    "c2 = b+ab+bc+abc-10.0\n",
    "c3 = c+ac+bc+abc-10.0\n",
    "\n",
    "system = [eq1,eq2,eq3,eq4,eq5,eq6,eq7,c1,c2,c3]\n",
    "\n",
    "print(init_sol)\n",
    "print(system)\n",
    "\n",
    "solution = nsolve(system,[a,b,c,ab,ac,bc,abc],init_sol,verify=True)\n",
    "\n",
    "print(solution)"
   ]
  },
  {
   "cell_type": "code",
   "execution_count": null,
   "id": "e58343d1",
   "metadata": {},
   "outputs": [],
   "source": [
    "g = np.array([-20,-20,-20,-40,-40,-40])\n",
    "print(np.exp(g*1000/(R*T)))\n",
    "\n",
    "init_sol = np.random.rand(len(init_conc))*max(init_conc) #*np.exp(min(g)*1000/(R*T))\n",
    "\n",
    "print(init_sol)"
   ]
  }
 ],
 "metadata": {
  "kernelspec": {
   "display_name": "Python 3",
   "language": "python",
   "name": "python3"
  },
  "language_info": {
   "codemirror_mode": {
    "name": "ipython",
    "version": 3
   },
   "file_extension": ".py",
   "mimetype": "text/x-python",
   "name": "python",
   "nbconvert_exporter": "python",
   "pygments_lexer": "ipython3",
   "version": "3.7.0"
  }
 },
 "nbformat": 4,
 "nbformat_minor": 5
}
