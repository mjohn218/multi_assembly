{
 "cells": [
  {
   "cell_type": "markdown",
   "id": "4deb77b3",
   "metadata": {},
   "source": [
    "**Trimer Simulations**"
   ]
  },
  {
   "cell_type": "markdown",
   "id": "cc90b8e7",
   "metadata": {},
   "source": [
    "\n",
    "    A(a)+B(a)<->A(a!1).B(a!1) G=-20000\n",
    "    A(b)+C(b)<->A(b!1).C(b!1) G=-20000\n",
    "    B(b)+C(a)<->B(b!1).C(a!1) G=-20000\n",
    "    \n",
    "Init Conc = 100"
   ]
  },
  {
   "cell_type": "markdown",
   "id": "e6f6b24d",
   "metadata": {},
   "source": [
    "k = 1.0 \n",
    "\n",
    "Yield = 84. 2 % \n",
    "\n",
    "C  :  tensor([-0.2014], dtype=torch.float64, grad_fn=<AddBackward0>)\n",
    "B  :  tensor([-0.2014], dtype=torch.float64, grad_fn=<AddBackward0>)\n",
    "A  :  tensor([-0.2014], dtype=torch.float64, grad_fn=<AddBackward0>)\n",
    "AB  :  tensor([-0.1959], dtype=torch.float64, grad_fn=<AddBackward0>)\n",
    "AC  :  tensor([-0.1959], dtype=torch.float64, grad_fn=<AddBackward0>)\n",
    "BC  :  tensor([-0.1958], dtype=torch.float64, grad_fn=<AddBackward0>)\n",
    "ABC  :  tensor([0.5932], dtype=torch.float64, grad_fn=<AddBackward0>)\n",
    "tensor([ 0.3259,  0.3260,  0.3260,  0.3276,  0.3276,  0.3276, 99.0188],\n",
    "       dtype=torch.float64, grad_fn=<MaxBackward2>)"
   ]
  },
  {
   "cell_type": "markdown",
   "id": "b17727ce",
   "metadata": {},
   "source": [
    "k = 10.0\n",
    "\n",
    "Yield = 71.3%\n",
    "\n",
    "C  :  tensor([-8.8815], dtype=torch.float64, grad_fn=<AddBackward0>)\n",
    "B  :  tensor([-8.8815], dtype=torch.float64, grad_fn=<AddBackward0>)\n",
    "A  :  tensor([-8.8815], dtype=torch.float64, grad_fn=<AddBackward0>)\n",
    "ABC  :  tensor([2.6630], dtype=torch.float64, grad_fn=<AddBackward0>)\n",
    "AB  :  tensor([3.1093], dtype=torch.float64, grad_fn=<AddBackward0>)\n",
    "AC  :  tensor([3.1093], dtype=torch.float64, grad_fn=<AddBackward0>)\n",
    "BC  :  tensor([3.1093], dtype=torch.float64, grad_fn=<AddBackward0>)\n",
    "tensor([  0.6538,   0.6538,   0.6538,   0.1257,   0.1257,   0.1257, 100.2993],\n",
    "       dtype=torch.float64, grad_fn=<MaxBackward2>)\n",
    "\n",
    "Optimized rates:\n",
    "tensor([ 9.3500,  9.3500,  9.3500, 10.8006, 10.8006, 10.8006],\n",
    "       dtype=torch.float64, requires_grad=True)"
   ]
  },
  {
   "cell_type": "markdown",
   "id": "edab4837",
   "metadata": {},
   "source": [
    "k = 100\n",
    "\n",
    "yield on sim iteration 4999 was 69.0%\n",
    "\n",
    "B  :  tensor([-44.4860], dtype=torch.float64, grad_fn=<AddBackward0>)\n",
    "C  :  tensor([-44.4860], dtype=torch.float64, grad_fn=<AddBackward0>)\n",
    "A  :  tensor([-44.4860], dtype=torch.float64, grad_fn=<AddBackward0>)\n",
    "AC  :  tensor([14.6839], dtype=torch.float64, grad_fn=<AddBackward0>)\n",
    "AB  :  tensor([14.6839], dtype=torch.float64, grad_fn=<AddBackward0>)\n",
    "BC  :  tensor([14.6839], dtype=torch.float64, grad_fn=<AddBackward0>)\n",
    "ABC  :  tensor([15.1183], dtype=torch.float64, grad_fn=<AddBackward0>)\n",
    "tensor([  0.4495,   0.4495,   0.4495,   0.1095,   0.1095,   0.1095, 101.1377],\n",
    "       dtype=torch.float64, grad_fn=<MaxBackward2>)\n",
    "\n",
    "Optmized rates:\n",
    "tensor([ 97.6182,  97.6182,  97.6182, 102.3641, 102.3641, 102.3641],\n",
    "       dtype=torch.float64, requires_grad=True)"
   ]
  },
  {
   "cell_type": "code",
   "execution_count": null,
   "id": "e59e220b",
   "metadata": {},
   "outputs": [],
   "source": [
    "k = 1000\n",
    "\n",
    "yield on sim iteration 4998 was 79.1%\n",
    "\n",
    "A  :  tensor([-933.0330], dtype=torch.float64, grad_fn=<AddBackward0>)\n",
    "B  :  tensor([-933.0330], dtype=torch.float64, grad_fn=<AddBackward0>)\n",
    "AC  :  tensor([-3.7564], dtype=torch.float64, grad_fn=<AddBackward0>)\n",
    "BC  :  tensor([-3.7564], dtype=torch.float64, grad_fn=<AddBackward0>)\n",
    "C  :  tensor([0.0037], dtype=torch.float64, grad_fn=<AddBackward0>)\n",
    "ABC  :  tensor([7.5091], dtype=torch.float64, grad_fn=<AddBackward0>)\n",
    "AB  :  tensor([929.2803], dtype=torch.float64, grad_fn=<AddBackward0>)\n",
    "tensor([9.6666e-01, 9.6666e-01, 0.0000e+00, 3.2621e+00, 3.8687e-03, 3.8687e-03,\n",
    "        1.1286e+02], dtype=torch.float64, grad_fn=<MaxBackward2>)\n",
    "Optmized rates::\n",
    "tensor([ 994.9978,  994.9978,  994.9978, 1004.9955, 1004.9955, 1004.9955],\n",
    "       dtype=torch.float64, requires_grad=True)"
   ]
  },
  {
   "cell_type": "code",
   "execution_count": null,
   "id": "997e053c",
   "metadata": {},
   "outputs": [],
   "source": [
    "k = 10000\n",
    "\n",
    "yield on sim iteration 4999 was 100.%\n",
    "\n",
    "A  :  tensor([-499.8462], dtype=torch.float64, grad_fn=<AddBackward0>)\n",
    "B  :  tensor([-499.8462], dtype=torch.float64, grad_fn=<AddBackward0>)\n",
    "AC  :  tensor([-232.0795], dtype=torch.float64, grad_fn=<AddBackward0>)\n",
    "BC  :  tensor([-232.0795], dtype=torch.float64, grad_fn=<AddBackward0>)\n",
    "C  :  tensor([0.9751], dtype=torch.float64, grad_fn=<AddBackward0>)\n",
    "AB  :  tensor([268.7417], dtype=torch.float64, grad_fn=<AddBackward0>)\n",
    "ABC  :  tensor([463.1840], dtype=torch.float64, grad_fn=<AddBackward0>)\n",
    "\n",
    "tensor([1.6381e-01, 1.6381e-01, 0.0000e+00, 0.0000e+00, 1.4182e-01, 1.4182e-01,\n",
    "        2.4556e+03], dtype=torch.float64, grad_fn=<MaxBackward2>)\n",
    "\n",
    "Optimized rates:\n",
    "tensor([ 9995.0231,  9995.0231,  9995.0231, 10004.9780, 10004.9780, 10004.9780],\n",
    "       dtype=torch.float64, requires_grad=True)"
   ]
  },
  {
   "cell_type": "markdown",
   "id": "4015b67a",
   "metadata": {},
   "source": [
    "k = 0.1 \n",
    "\n",
    "yield on sim iteration 4999 was 77.6%\n",
    "\n",
    "C  :  tensor([-0.1076], dtype=torch.float64, grad_fn=<AddBackward0>)\n",
    "A  :  tensor([-0.1076], dtype=torch.float64, grad_fn=<AddBackward0>)\n",
    "B  :  tensor([-0.1076], dtype=torch.float64, grad_fn=<AddBackward0>)\n",
    "AB  :  tensor([-0.1039], dtype=torch.float64, grad_fn=<AddBackward0>)\n",
    "BC  :  tensor([-0.1039], dtype=torch.float64, grad_fn=<AddBackward0>)\n",
    "AC  :  tensor([-0.1039], dtype=torch.float64, grad_fn=<AddBackward0>)\n",
    "ABC  :  tensor([0.3155], dtype=torch.float64, grad_fn=<AddBackward0>)\n",
    "tensor([ 0.3275,  0.3275,  0.3275,  0.3289,  0.3289,  0.3289, 99.0148],\n",
    "       dtype=torch.float64, grad_fn=<MaxBackward2>)\n",
    "\n",
    " Parameter containing:\n",
    "tensor([0.0114, 0.0114, 0.0114, 0.9764, 0.9764, 0.9764], dtype=torch.float64,\n",
    "       requires_grad=True)"
   ]
  },
  {
   "cell_type": "code",
   "execution_count": null,
   "id": "a2030cfb",
   "metadata": {},
   "outputs": [],
   "source": [
    "k = 0.01\n",
    "\n",
    "Yield = 75.3%\n",
    "\n",
    "A  :  tensor([-0.0653], dtype=torch.float64, grad_fn=<AddBackward0>)\n",
    "B  :  tensor([-0.0653], dtype=torch.float64, grad_fn=<AddBackward0>)\n",
    "C  :  tensor([-0.0653], dtype=torch.float64, grad_fn=<AddBackward0>)\n",
    "BC  :  tensor([-0.0619], dtype=torch.float64, grad_fn=<AddBackward0>)\n",
    "AC  :  tensor([-0.0619], dtype=torch.float64, grad_fn=<AddBackward0>)\n",
    "AB  :  tensor([-0.0619], dtype=torch.float64, grad_fn=<AddBackward0>)\n",
    "ABC  :  tensor([0.1891], dtype=torch.float64, grad_fn=<AddBackward0>)\n",
    "tensor([ 0.3297,  0.3297,  0.3297,  0.3306,  0.3306,  0.3306, 99.0092],\n",
    "       dtype=torch.float64, grad_fn=<MaxBackward2>)\n",
    "Parameter containing:\n",
    "tensor([0.0104, 0.0104, 0.0104, 0.5785, 0.5785, 0.5785], dtype=torch.float64,\n",
    "       requires_grad=True)"
   ]
  },
  {
   "cell_type": "markdown",
   "id": "306d1ff0",
   "metadata": {},
   "source": [
    "\n",
    "    A(a)+B(a)<->A(a!1).B(a!1) G=-20000\n",
    "    A(b)+C(b)<->A(b!1).C(b!1) G=-10000\n",
    "    B(b)+C(a)<->B(b!1).C(a!1) G=-20000\n",
    "    \n",
    "Init Conc = 100"
   ]
  },
  {
   "cell_type": "code",
   "execution_count": null,
   "id": "2c643817",
   "metadata": {},
   "outputs": [],
   "source": [
    "k = 1.0 \n",
    "\n",
    "yield on sim iteration 4999 was 98.7%\n",
    "\n",
    "C  :  tensor([-0.7012], dtype=torch.float64, grad_fn=<AddBackward0>)\n",
    "A  :  tensor([-0.7012], dtype=torch.float64, grad_fn=<AddBackward0>)\n",
    "AB  :  tensor([-0.4991], dtype=torch.float64, grad_fn=<AddBackward0>)\n",
    "BC  :  tensor([-0.4991], dtype=torch.float64, grad_fn=<AddBackward0>)\n",
    "B  :  tensor([-0.0002], dtype=torch.float64, grad_fn=<AddBackward0>)\n",
    "AC  :  tensor([0.2019], dtype=torch.float64, grad_fn=<AddBackward0>)\n",
    "ABC  :  tensor([0.9983], dtype=torch.float64, grad_fn=<AddBackward0>)\n",
    "tensor([4.9702e-01, 7.0980e-03, 4.9702e-01, 5.9924e-01, 5.9669e-03, 5.9924e-01,\n",
    "        9.9112e+01], dtype=torch.float64, grad_fn=<MaxBackward2>)\n",
    "Parameter containing:\n",
    "tensor([0.0226, 0.8179, 0.0226, 1.6472, 1.6769, 1.6769], dtype=torch.float64,\n",
    "       requires_grad=True)\n"
   ]
  },
  {
   "cell_type": "markdown",
   "id": "70575e77",
   "metadata": {},
   "source": [
    "**Simulation Set 3**"
   ]
  },
  {
   "cell_type": "markdown",
   "id": "cc981db3",
   "metadata": {},
   "source": [
    "    A(a)+B(a)<->A(a!1).B(a!1) G=-20000\n",
    "    A(b)+C(b)<->A(b!1).C(b!1) G=-10000\n",
    "    B(b)+C(a)<->B(b!1).C(a!1) G=-10000\n",
    "    \n",
    "Init Conc = 100"
   ]
  },
  {
   "cell_type": "code",
   "execution_count": null,
   "id": "01ade74b",
   "metadata": {},
   "outputs": [],
   "source": [
    "k = 1.0 \n",
    "\n",
    "yield on sim iteration 4999 was 73.9%\n",
    "\n",
    "C  :  tensor([-1.6336], dtype=torch.float64, grad_fn=<AddBackward0>)\n",
    "AB  :  tensor([-1.6168], dtype=torch.float64, grad_fn=<AddBackward0>)\n",
    "A  :  tensor([-0.0084], dtype=torch.float64, grad_fn=<AddBackward0>)\n",
    "B  :  tensor([-0.0084], dtype=torch.float64, grad_fn=<AddBackward0>)\n",
    "BC  :  tensor([0.0084], dtype=torch.float64, grad_fn=<AddBackward0>)\n",
    "AC  :  tensor([0.0084], dtype=torch.float64, grad_fn=<AddBackward0>)\n",
    "ABC  :  tensor([1.6168], dtype=torch.float64, grad_fn=<AddBackward0>)\n",
    "tensor([1.0999e-02, 1.0999e-02, 9.6096e-01, 9.5107e-01, 1.9350e-02, 1.9350e-02,\n",
    "        1.0709e+02], dtype=torch.float64, grad_fn=<MaxBackward2>)\n",
    "Parameter containing:\n",
    "tensor([1.0644, 0.8116, 0.8116, 0.8326, 1.8006, 0.8326], dtype=torch.float64,\n",
    "       requires_grad=True)"
   ]
  }
 ],
 "metadata": {
  "kernelspec": {
   "display_name": "Python 3",
   "language": "python",
   "name": "python3"
  },
  "language_info": {
   "codemirror_mode": {
    "name": "ipython",
    "version": 3
   },
   "file_extension": ".py",
   "mimetype": "text/x-python",
   "name": "python",
   "nbconvert_exporter": "python",
   "pygments_lexer": "ipython3",
   "version": "3.7.0"
  }
 },
 "nbformat": 4,
 "nbformat_minor": 5
}
