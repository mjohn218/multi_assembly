{
 "cells": [
  {
   "cell_type": "markdown",
   "id": "7587c3ba",
   "metadata": {},
   "source": [
    "**AP2 Simulations; Changing init kon**\n",
    "\n",
    "Reaction rules: \n",
    "\n",
    "A(a)+B(b)<->A(a!1).B(a!1)  G=1650\t\n",
    "    A(b)+M(a)<->A(b!1).M(a!1)  G=-1300\t\n",
    "    A(c)+S(a)<->A(c!1).S(a!1)  G=1660\t\n",
    "    B(b)+M(b)<->B(b!1).M(b!1)  G=2100\t\n",
    "    M(c)+S(b)<->M(c!1).S(b!1)  G=-4050\n",
    "\n",
    "Initial Copies = 4.0 (All same)"
   ]
  },
  {
   "cell_type": "markdown",
   "id": "886fceeb",
   "metadata": {},
   "source": [
    "k=1.0\n",
    "\n",
    "current param: tensor([0.0179, 0.0144, 4.4742, 5.4786, 0.0599, 0.0200, 0.1054, 0.0555, 4.5710,\n",
    "        3.6881, 0.0101, 3.1789, 0.0144, 0.0599, 0.0290, 0.0100, 4.6246, 0.0104,\n",
    "        3.9301, 5.2273, 0.0108], dtype=torch.float64)"
   ]
  },
  {
   "cell_type": "markdown",
   "id": "b74ff182",
   "metadata": {},
   "source": [
    "k = 0.5\n",
    "\n",
    "yield on sim iteration 4998 was 20.6%\n",
    "current params: tensor([0.0191, 0.0101, 0.0125, 0.0104, 3.9652, 0.0350, 0.1123, 0.0249, 0.0217,\n",
    "        0.0126, 3.8916, 0.0303, 0.0347, 0.0875, 0.0336, 0.0123, 0.0583, 0.0404,\n",
    "        4.6811, 0.0445, 0.0119], dtype=torch.float64)"
   ]
  },
  {
   "cell_type": "markdown",
   "id": "c029904e",
   "metadata": {},
   "source": [
    "k = 0.2\n",
    "\n",
    "yield on sim iteration 4998 was 20.4%\n",
    "current params: tensor([0.0218, 0.0114, 0.0154, 0.0147, 3.6886, 0.0242, 0.1139, 0.0340, 0.0385,\n",
    "        0.0120, 3.4901, 0.0378, 0.0224, 0.0796, 0.0362, 0.0110, 0.0571, 0.0294,\n",
    "        3.7341, 0.0492, 0.0149], dtype=torch.float64)\n"
   ]
  },
  {
   "cell_type": "markdown",
   "id": "c0eda7b5",
   "metadata": {},
   "source": [
    "**AP2 Simulations; Changing init kon**\n",
    "\n",
    "Reaction rules: \n",
    "\n",
    "    A(a)+B(b)<->A(a!1).B(a!1)  G=-10000\t\n",
    "    A(b)+M(a)<->A(b!1).M(a!1)  G=-10000\t\n",
    "    A(c)+S(a)<->A(c!1).S(a!1)  G=-10000\n",
    "    B(b)+M(b)<->B(b!1).M(b!1)  G=-10000\n",
    "    M(c)+S(b)<->M(c!1).S(b!1)  G=-10000\n",
    "\n",
    "Initial Copies = 10.0 (All same)"
   ]
  },
  {
   "cell_type": "markdown",
   "id": "d8f52390",
   "metadata": {},
   "source": [
    "k = 1.0\n",
    "yield on sim iteration 4998 was 96.2%\n",
    "current params: tensor([0.8174, 0.8176, 0.8176, 0.8176, 0.8176, 0.0174, 0.0174, 4.9911, 0.8184,\n",
    "        0.8184, 4.2722, 4.9911, 0.8184, 0.8184, 4.2722, 3.6743, 3.6743, 0.0174,\n",
    "        0.0174, 4.8274, 4.8274], dtype=torch.float64)\n",
    "        \n",
    "B  :  tensor([-0.3884], dtype=torch.float64, grad_fn=<AddBackward0>)\n",
    "S  :  tensor([-0.3884], dtype=torch.float64, grad_fn=<AddBackward0>)\n",
    "AMS  :  tensor([-0.3340], dtype=torch.float64, grad_fn=<AddBackward0>)\n",
    "ABM  :  tensor([-0.3340], dtype=torch.float64, grad_fn=<AddBackward0>)\n",
    "AM  :  tensor([-0.0392], dtype=torch.float64, grad_fn=<AddBackward0>)\n",
    "M  :  tensor([-0.0237], dtype=torch.float64, grad_fn=<AddBackward0>)\n",
    "A  :  tensor([-0.0237], dtype=torch.float64, grad_fn=<AddBackward0>)\n",
    "ABS  :  tensor([-0.0085], dtype=torch.float64, grad_fn=<AddBackward0>)\n",
    "BMS  :  tensor([-0.0085], dtype=torch.float64, grad_fn=<AddBackward0>)\n",
    "AS  :  tensor([0.0083], dtype=torch.float64, grad_fn=<AddBackward0>)\n",
    "AB  :  tensor([0.0083], dtype=torch.float64, grad_fn=<AddBackward0>)\n",
    "BM  :  tensor([0.0083], dtype=torch.float64, grad_fn=<AddBackward0>)\n",
    "MS  :  tensor([0.0083], dtype=torch.float64, grad_fn=<AddBackward0>)\n",
    "ABMS  :  tensor([0.7229], dtype=torch.float64, grad_fn=<AddBackward0>)\n",
    "tensor([0.0328, 0.0328, 0.2883, 0.2883, 0.0140, 0.0000, 0.0000, 0.0000, 0.0000,\n",
    "        0.2924, 0.2924, 0.0479, 0.0479, 9.6208], dtype=torch.float64,\n",
    "       grad_fn=<MaxBackward2>)"
   ]
  },
  {
   "cell_type": "markdown",
   "id": "7beb6c30",
   "metadata": {},
   "source": [
    "k = 10. 0 "
   ]
  }
 ],
 "metadata": {
  "kernelspec": {
   "display_name": "Python 3",
   "language": "python",
   "name": "python3"
  },
  "language_info": {
   "codemirror_mode": {
    "name": "ipython",
    "version": 3
   },
   "file_extension": ".py",
   "mimetype": "text/x-python",
   "name": "python",
   "nbconvert_exporter": "python",
   "pygments_lexer": "ipython3",
   "version": "3.7.0"
  }
 },
 "nbformat": 4,
 "nbformat_minor": 5
}
