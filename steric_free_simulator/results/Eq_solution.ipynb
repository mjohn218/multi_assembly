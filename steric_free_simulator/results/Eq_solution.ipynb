{
 "cells": [
  {
   "cell_type": "code",
   "execution_count": 1,
   "id": "28d2c25c",
   "metadata": {},
   "outputs": [],
   "source": [
    "from sympy.solvers import solve\n",
    "from sympy import symbols\n",
    "import numpy as np\n",
    "from sympy import nsolve"
   ]
  },
  {
   "cell_type": "code",
   "execution_count": 2,
   "id": "2b866fee",
   "metadata": {},
   "outputs": [
    {
     "name": "stdout",
     "output_type": "stream",
     "text": [
      "Matrix([[0], [0], [0]])\n"
     ]
    }
   ],
   "source": [
    "#Samples case\n",
    "\n",
    "x,y,z = symbols('x,y,z')\n",
    "\n",
    "eq1 = 4*x + 6*y -z\n",
    "eq2 = -x + 2*y + 4*z\n",
    "eq3 = 4*x-y+z\n",
    "\n",
    "sim = [eq1,eq2,eq3]\n",
    "\n",
    "solution = nsolve(sim,[x,y,z],[10,10,10])\n",
    "print(solution)"
   ]
  },
  {
   "cell_type": "code",
   "execution_count": 3,
   "id": "3f3be9fd",
   "metadata": {},
   "outputs": [
    {
     "name": "stdout",
     "output_type": "stream",
     "text": [
      "[0.41450042 0.41450042 0.41450042 0.1718106  0.1718106  0.1718106 ]\n",
      "[-a*b - a*bc - a*c + 0.414500419839963*ab + 0.171810598047506*abc + 0.414500419839963*ac, -a*b + 0.414500419839963*ab + 0.171810598047506*abc - ac*b - b*c + 0.414500419839963*bc, -a*c - ab*c + 0.171810598047506*abc + 0.414500419839963*ac - b*c + 0.414500419839963*bc, a*b - ab*c - 0.414500419839963*ab + 0.171810598047506*abc, a*c + 0.171810598047506*abc - ac*b - 0.414500419839963*ac, -a*bc + 0.171810598047506*abc + b*c - 0.414500419839963*bc, a*bc + ab*c - 0.515431794142517*abc + ac*b, a + ab + abc + ac - 10.0, ab + abc + b + bc - 10.0, abc + ac + bc + c - 10.0]\n",
      "Matrix([[0.768759854179617], [0.768759854179617], [0.768759854179617], [1.42579279805421], [1.42579279805421], [1.42579279805421], [6.37965454971196]])\n"
     ]
    }
   ],
   "source": [
    "a,b,c,ab,ac,bc,abc = symbols(\"a,b,c,ab,ac,bc,abc\")\n",
    "\n",
    "k_on = np.array([1,1,1,1,1,1])\n",
    "g = np.array([-2,-2,-2,-4,-4,-4])\n",
    "R = 8.314\n",
    "T = 273.15\n",
    "k_off = k_on*np.exp(g*1000/(R*T))\n",
    "init_conc = [10,10,10,0,0,0,0]\n",
    "init_sol = np.random.rand(len(init_conc))*max(init_conc)\n",
    "\n",
    "eq1 = -k_on[0]*a*b - k_on[5]*a*bc -k_on[1]*a*c + k_off[0]*ab + k_off[5]*abc + k_off[1]*ac\n",
    "eq2 = -k_on[0]*a*b - k_on[2]*b*c - k_on[4]*b*ac + k_off[0]*ab + k_off[4]*abc + k_off[2]*bc\n",
    "eq3 = -k_on[1]*a*c -k_on[2]*b*c - k_on[3]*c*ab + k_off[1]*ac + k_off[2]*bc + k_off[3]*abc\n",
    "eq4 = -k_off[0]*ab - k_on[3]*ab*c + k_on[0]*a*b + k_off[3]*abc\n",
    "eq5 = -k_off[1]*ac - k_on[4]*ac*b + k_on[1]*a*c + k_off[4]*abc\n",
    "eq6 = -k_off[2]*bc - k_on[5]*bc*a + k_on[2]*b*c + k_off[5]*abc\n",
    "eq7 = -(k_off[3] + k_off[4] + k_off[5])*abc + k_on[3]*ab*c + k_on[4]*ac*b + k_on[5]*bc*a\n",
    "\n",
    "c1 = a+ab+ac+abc-10.0\n",
    "c2 = b+ab+bc+abc-10.0\n",
    "c3 = c+ac+bc+abc-10.0\n",
    "\n",
    "system = [eq1,eq2,eq3,eq4,eq5,eq6,eq7,c1,c2,c3]\n",
    "\n",
    "print(k_off)\n",
    "print(system)\n",
    "\n",
    "solution = nsolve(system,[a,b,c,ab,ac,bc,abc],init_sol)\n",
    "\n",
    "print(solution)"
   ]
  },
  {
   "cell_type": "code",
   "execution_count": 4,
   "id": "a2c4c68f",
   "metadata": {
    "scrolled": true
   },
   "outputs": [
    {
     "name": "stdout",
     "output_type": "stream",
     "text": [
      "[9.7282e-07, 9.7282e-07, 9.7282e-07, 0.0012476, 0.0012476, 0.0012476, 9.9975]\n",
      "[-0.0199*a*b + 2.97922171060582e-6*ab, -0.0209*b*c + 3.12893134430461e-6*bc, -0.0198*a*c + 2.96425074723594e-6*ac, -1.6899*ab*c + 3.7875685476117e-8*abc, 3.7875685476117e-8*abc - 1.6899*ac*b, -1.6903*a*bc + 3.78846506658859e-8*abc, 1.6903*a*bc + 1.6899*ab*c - 1.1363602161812e-7*abc + 1.6899*ac*b, a + ab + abc + ac - 10.0, ab + abc + b + bc - 10.0, abc + ac + bc + c - 10.0]\n",
      "Matrix([[0.000322521219415450], [0.000322521219415450], [0.000322521219415450], [0.000694811244963142], [0.000694811244963142], [0.000694811244963142], [9.99828785629066]])\n"
     ]
    }
   ],
   "source": [
    "a,b,c,ab,ac,bc,abc = symbols(\"a,b,c,ab,ac,bc,abc\")\n",
    "\n",
    "#k_on = np.array([1,1,1,1,1,1])\n",
    "k_on = np.array([0.0199, 0.0198, 0.0209, 1.6899, 1.6899, 1.6903])\n",
    "g = np.array([-20,-20,-20,-40,-40,-40])\n",
    "R = 8.314\n",
    "T = 273.15\n",
    "k_off = k_on*np.exp(g*1000/(R*T))\n",
    "init_conc = [10.0,10.0,10.0,0,0,0,0]\n",
    "#init_sol = np.random.rand(len(init_conc))*max(init_conc)\n",
    "init_sol = [9.7282e-07, 9.7282e-07, 9.7282e-07, 1.2476e-03, 1.2476e-03, 1.2476e-03,\n",
    "        9.9975e+00]\n",
    "\n",
    "eq1 = -k_on[0]*a*b + k_off[0]*ab\n",
    "eq2 = - k_on[2]*b*c + k_off[2]*bc\n",
    "eq3 = -k_on[1]*a*c + k_off[1]*ac \n",
    "eq4 = -k_on[3]*ab*c + k_off[3]*abc\n",
    "eq5 = - k_on[4]*ac*b + k_off[4]*abc\n",
    "eq6 = - k_on[5]*bc*a + k_off[5]*abc\n",
    "eq7 = -(k_off[3] + k_off[4] + k_off[5])*abc + k_on[3]*ab*c + k_on[4]*ac*b + k_on[5]*bc*a\n",
    "\n",
    "c1 = a+ab+ac+abc-10.0\n",
    "c2 = b+ab+bc+abc-10.0\n",
    "c3 = c+ac+bc+abc-10.0\n",
    "\n",
    "system = [eq1,eq2,eq3,eq4,eq5,eq6,eq7,c1,c2,c3]\n",
    "\n",
    "print(init_sol)\n",
    "print(system)\n",
    "\n",
    "solution = nsolve(system,[a,b,c,ab,ac,bc,abc],init_sol,verify=True)\n",
    "\n",
    "print(solution)"
   ]
  },
  {
   "cell_type": "code",
   "execution_count": 5,
   "id": "e58343d1",
   "metadata": {},
   "outputs": [
    {
     "name": "stdout",
     "output_type": "stream",
     "text": [
      "[1.49709634e-04 1.49709634e-04 1.49709634e-04 2.24129744e-08\n",
      " 2.24129744e-08 2.24129744e-08]\n",
      "[3.37880444 6.42651311 6.71802821 6.28486    0.1919379  6.82578806\n",
      " 2.63487988]\n"
     ]
    }
   ],
   "source": [
    "g = np.array([-20,-20,-20,-40,-40,-40])\n",
    "print(np.exp(g*1000/(R*T)))\n",
    "\n",
    "init_sol = np.random.rand(len(init_conc))*max(init_conc) #*np.exp(min(g)*1000/(R*T))\n",
    "\n",
    "print(init_sol)"
   ]
  }
 ],
 "metadata": {
  "kernelspec": {
   "display_name": "Python 3",
   "language": "python",
   "name": "python3"
  },
  "language_info": {
   "codemirror_mode": {
    "name": "ipython",
    "version": 3
   },
   "file_extension": ".py",
   "mimetype": "text/x-python",
   "name": "python",
   "nbconvert_exporter": "python",
   "pygments_lexer": "ipython3",
   "version": "3.7.0"
  }
 },
 "nbformat": 4,
 "nbformat_minor": 5
}
