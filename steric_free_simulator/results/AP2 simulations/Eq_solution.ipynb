{
 "cells": [
  {
   "cell_type": "code",
   "execution_count": 112,
   "id": "28d2c25c",
   "metadata": {},
   "outputs": [],
   "source": [
    "from sympy.solvers import solve\n",
    "from sympy import symbols\n",
    "import numpy as np\n",
    "from sympy import nsolve\n",
    "import sympy"
   ]
  },
  {
   "cell_type": "code",
   "execution_count": 58,
   "id": "2b866fee",
   "metadata": {},
   "outputs": [
    {
     "name": "stdout",
     "output_type": "stream",
     "text": [
      "Matrix([[0], [0], [0]])\n"
     ]
    }
   ],
   "source": [
    "#Samples case\n",
    "\n",
    "x,y,z = symbols('x,y,z')\n",
    "\n",
    "eq1 = 4*x + 6*y -z\n",
    "eq2 = -x + 2*y + 4*z\n",
    "eq3 = 4*x-y+z\n",
    "\n",
    "sim = [eq1,eq2,eq3]\n",
    "\n",
    "solution = nsolve(sim,[x,y,z],[10,10,10])\n",
    "print(solution)"
   ]
  },
  {
   "cell_type": "code",
   "execution_count": 12,
   "id": "3f3be9fd",
   "metadata": {},
   "outputs": [
    {
     "name": "stdout",
     "output_type": "stream",
     "text": [
      "[0.1106146  0.1106146  0.1106146  0.01223559 0.01223559 0.01223559]\n",
      "[-a*b - a*bc - a*c + 0.110614595858791*ab + 0.0122355888170037*abc + 0.110614595858791*ac, -a*b + 0.110614595858791*ab + 0.0122355888170037*abc - ac*b - b*c + 0.110614595858791*bc, -a*c - ab*c + 0.0122355888170037*abc + 0.110614595858791*ac - b*c + 0.110614595858791*bc, a*b - ab*c - 0.110614595858791*ab + 0.0122355888170037*abc, a*c + 0.0122355888170037*abc - ac*b - 0.110614595858791*ac, -a*bc + 0.0122355888170037*abc + b*c - 0.110614595858791*bc, a*bc + ab*c - 0.036706766451011*abc + ac*b, a + ab + abc + ac - 10.0, ab + abc + b + bc - 10.0, abc + ac + bc + c - 10.0]\n"
     ]
    },
    {
     "ename": "ValueError",
     "evalue": "Could not find root within given tolerance. (1.44713726735467707956e-7 > 2.16840434497100886801e-19)\nTry another starting point or tweak arguments.",
     "output_type": "error",
     "traceback": [
      "\u001b[0;31m---------------------------------------------------------------------------\u001b[0m",
      "\u001b[0;31mValueError\u001b[0m                                Traceback (most recent call last)",
      "\u001b[0;32m/tmp/ipykernel_401/4087311684.py\u001b[0m in \u001b[0;36m<module>\u001b[0;34m\u001b[0m\n\u001b[1;32m     26\u001b[0m \u001b[0mprint\u001b[0m\u001b[0;34m(\u001b[0m\u001b[0msystem\u001b[0m\u001b[0;34m)\u001b[0m\u001b[0;34m\u001b[0m\u001b[0m\n\u001b[1;32m     27\u001b[0m \u001b[0;34m\u001b[0m\u001b[0m\n\u001b[0;32m---> 28\u001b[0;31m \u001b[0msolution\u001b[0m \u001b[0;34m=\u001b[0m \u001b[0mnsolve\u001b[0m\u001b[0;34m(\u001b[0m\u001b[0msystem\u001b[0m\u001b[0;34m,\u001b[0m\u001b[0;34m[\u001b[0m\u001b[0ma\u001b[0m\u001b[0;34m,\u001b[0m\u001b[0mb\u001b[0m\u001b[0;34m,\u001b[0m\u001b[0mc\u001b[0m\u001b[0;34m,\u001b[0m\u001b[0mab\u001b[0m\u001b[0;34m,\u001b[0m\u001b[0mac\u001b[0m\u001b[0;34m,\u001b[0m\u001b[0mbc\u001b[0m\u001b[0;34m,\u001b[0m\u001b[0mabc\u001b[0m\u001b[0;34m]\u001b[0m\u001b[0;34m,\u001b[0m\u001b[0minit_sol\u001b[0m\u001b[0;34m)\u001b[0m\u001b[0;34m\u001b[0m\u001b[0m\n\u001b[0m\u001b[1;32m     29\u001b[0m \u001b[0;34m\u001b[0m\u001b[0m\n\u001b[1;32m     30\u001b[0m \u001b[0mprint\u001b[0m\u001b[0;34m(\u001b[0m\u001b[0msolution\u001b[0m\u001b[0;34m)\u001b[0m\u001b[0;34m\u001b[0m\u001b[0m\n",
      "\u001b[0;32m/media/Data1/adip/software/anaconda3/envs/steric_free_sim/lib/python3.7/site-packages/sympy/utilities/decorator.py\u001b[0m in \u001b[0;36mfunc_wrapper\u001b[0;34m(*args, **kwargs)\u001b[0m\n\u001b[1;32m     86\u001b[0m         \u001b[0mdps\u001b[0m \u001b[0;34m=\u001b[0m \u001b[0mmpmath\u001b[0m\u001b[0;34m.\u001b[0m\u001b[0mmp\u001b[0m\u001b[0;34m.\u001b[0m\u001b[0mdps\u001b[0m\u001b[0;34m\u001b[0m\u001b[0m\n\u001b[1;32m     87\u001b[0m         \u001b[0;32mtry\u001b[0m\u001b[0;34m:\u001b[0m\u001b[0;34m\u001b[0m\u001b[0m\n\u001b[0;32m---> 88\u001b[0;31m             \u001b[0;32mreturn\u001b[0m \u001b[0mfunc\u001b[0m\u001b[0;34m(\u001b[0m\u001b[0;34m*\u001b[0m\u001b[0margs\u001b[0m\u001b[0;34m,\u001b[0m \u001b[0;34m**\u001b[0m\u001b[0mkwargs\u001b[0m\u001b[0;34m)\u001b[0m\u001b[0;34m\u001b[0m\u001b[0m\n\u001b[0m\u001b[1;32m     89\u001b[0m         \u001b[0;32mfinally\u001b[0m\u001b[0;34m:\u001b[0m\u001b[0;34m\u001b[0m\u001b[0m\n\u001b[1;32m     90\u001b[0m             \u001b[0mmpmath\u001b[0m\u001b[0;34m.\u001b[0m\u001b[0mmp\u001b[0m\u001b[0;34m.\u001b[0m\u001b[0mdps\u001b[0m \u001b[0;34m=\u001b[0m \u001b[0mdps\u001b[0m\u001b[0;34m\u001b[0m\u001b[0m\n",
      "\u001b[0;32m/media/Data1/adip/software/anaconda3/envs/steric_free_sim/lib/python3.7/site-packages/sympy/solvers/solvers.py\u001b[0m in \u001b[0;36mnsolve\u001b[0;34m(dict, *args, **kwargs)\u001b[0m\n\u001b[1;32m   2952\u001b[0m     \u001b[0mJ\u001b[0m \u001b[0;34m=\u001b[0m \u001b[0mlambdify\u001b[0m\u001b[0;34m(\u001b[0m\u001b[0mfargs\u001b[0m\u001b[0;34m,\u001b[0m \u001b[0mJ\u001b[0m\u001b[0;34m,\u001b[0m \u001b[0mmodules\u001b[0m\u001b[0;34m)\u001b[0m\u001b[0;34m\u001b[0m\u001b[0m\n\u001b[1;32m   2953\u001b[0m     \u001b[0;31m# solve the system numerically\u001b[0m\u001b[0;34m\u001b[0m\u001b[0;34m\u001b[0m\u001b[0m\n\u001b[0;32m-> 2954\u001b[0;31m     \u001b[0mx\u001b[0m \u001b[0;34m=\u001b[0m \u001b[0mfindroot\u001b[0m\u001b[0;34m(\u001b[0m\u001b[0mf\u001b[0m\u001b[0;34m,\u001b[0m \u001b[0mx0\u001b[0m\u001b[0;34m,\u001b[0m \u001b[0mJ\u001b[0m\u001b[0;34m=\u001b[0m\u001b[0mJ\u001b[0m\u001b[0;34m,\u001b[0m \u001b[0;34m**\u001b[0m\u001b[0mkwargs\u001b[0m\u001b[0;34m)\u001b[0m\u001b[0;34m\u001b[0m\u001b[0m\n\u001b[0m\u001b[1;32m   2955\u001b[0m     \u001b[0;32mif\u001b[0m \u001b[0mas_dict\u001b[0m\u001b[0;34m:\u001b[0m\u001b[0;34m\u001b[0m\u001b[0m\n\u001b[1;32m   2956\u001b[0m         \u001b[0;32mreturn\u001b[0m \u001b[0;34m[\u001b[0m\u001b[0mdict\u001b[0m\u001b[0;34m(\u001b[0m\u001b[0mzip\u001b[0m\u001b[0;34m(\u001b[0m\u001b[0mfargs\u001b[0m\u001b[0;34m,\u001b[0m \u001b[0;34m[\u001b[0m\u001b[0msympify\u001b[0m\u001b[0;34m(\u001b[0m\u001b[0mxi\u001b[0m\u001b[0;34m)\u001b[0m \u001b[0;32mfor\u001b[0m \u001b[0mxi\u001b[0m \u001b[0;32min\u001b[0m \u001b[0mx\u001b[0m\u001b[0;34m]\u001b[0m\u001b[0;34m)\u001b[0m\u001b[0;34m)\u001b[0m\u001b[0;34m]\u001b[0m\u001b[0;34m\u001b[0m\u001b[0m\n",
      "\u001b[0;32m/media/Data1/adip/software/anaconda3/envs/steric_free_sim/lib/python3.7/site-packages/mpmath/calculus/optimization.py\u001b[0m in \u001b[0;36mfindroot\u001b[0;34m(ctx, f, x0, solver, tol, verbose, verify, **kwargs)\u001b[0m\n\u001b[1;32m    986\u001b[0m                              \u001b[0;34m'(%s > %s)\\n'\u001b[0m\u001b[0;34m\u001b[0m\u001b[0m\n\u001b[1;32m    987\u001b[0m                              \u001b[0;34m'Try another starting point or tweak arguments.'\u001b[0m\u001b[0;34m\u001b[0m\u001b[0m\n\u001b[0;32m--> 988\u001b[0;31m                              % (norm(f(*xl))**2, tol))\n\u001b[0m\u001b[1;32m    989\u001b[0m         \u001b[0;32mreturn\u001b[0m \u001b[0mx\u001b[0m\u001b[0;34m\u001b[0m\u001b[0m\n\u001b[1;32m    990\u001b[0m     \u001b[0;32mfinally\u001b[0m\u001b[0;34m:\u001b[0m\u001b[0;34m\u001b[0m\u001b[0m\n",
      "\u001b[0;31mValueError\u001b[0m: Could not find root within given tolerance. (1.44713726735467707956e-7 > 2.16840434497100886801e-19)\nTry another starting point or tweak arguments."
     ]
    }
   ],
   "source": [
    "a,b,c,ab,ac,bc,abc = symbols(\"a,b,c,ab,ac,bc,abc\")\n",
    "\n",
    "k_on = np.array([1,1,1,1,1,1])\n",
    "g = np.array([-5,-5,-5,-10,-10,-10])\n",
    "R = 8.314\n",
    "T = 273.15\n",
    "k_off = k_on*np.exp(g*1000/(R*T))\n",
    "init_conc = [100,100,100,0,0,0,0]\n",
    "init_sol = np.random.rand(len(init_conc))*max(init_conc)\n",
    "\n",
    "eq1 = -k_on[0]*a*b - k_on[5]*a*bc -k_on[1]*a*c + k_off[0]*ab + k_off[5]*abc + k_off[1]*ac\n",
    "eq2 = -k_on[0]*a*b - k_on[2]*b*c - k_on[4]*b*ac + k_off[0]*ab + k_off[4]*abc + k_off[2]*bc\n",
    "eq3 = -k_on[1]*a*c -k_on[2]*b*c - k_on[3]*c*ab + k_off[1]*ac + k_off[2]*bc + k_off[3]*abc\n",
    "eq4 = -k_off[0]*ab - k_on[3]*ab*c + k_on[0]*a*b + k_off[3]*abc\n",
    "eq5 = -k_off[1]*ac - k_on[4]*ac*b + k_on[1]*a*c + k_off[4]*abc\n",
    "eq6 = -k_off[2]*bc - k_on[5]*bc*a + k_on[2]*b*c + k_off[5]*abc\n",
    "eq7 = -(k_off[3] + k_off[4] + k_off[5])*abc + k_on[3]*ab*c + k_on[4]*ac*b + k_on[5]*bc*a\n",
    "\n",
    "c1 = a+ab+ac+abc-10.0\n",
    "c2 = b+ab+bc+abc-10.0\n",
    "c3 = c+ac+bc+abc-10.0\n",
    "\n",
    "system = [eq1,eq2,eq3,eq4,eq5,eq6,eq7,c1,c2,c3]\n",
    "\n",
    "print(k_off)\n",
    "print(system)\n",
    "\n",
    "solution = nsolve(system,[a,b,c,ab,ac,bc,abc],init_sol)\n",
    "\n",
    "print(solution)"
   ]
  },
  {
   "cell_type": "code",
   "execution_count": 13,
   "id": "a2c4c68f",
   "metadata": {
    "scrolled": true
   },
   "outputs": [
    {
     "name": "stdout",
     "output_type": "stream",
     "text": [
      "Off_rates:  [2.02622215e-03 2.02622215e-03 2.02622215e-03 4.10557620e-10\n",
      " 4.10557620e-10 4.10557620e-10]\n",
      "[9.7282e-07, 9.7282e-07, 9.7282e-07, 0.0012476, 0.0012476, 0.0012476, 9.9975]\n",
      "[-0.01*a*b + 0.00202622214981796*ab, -0.01*b*c + 0.00202622214981796*bc, -0.01*a*c + 0.00202622214981796*ac, -0.01*ab*c + 4.10557620041292e-10*abc, 4.10557620041292e-10*abc - 0.01*ac*b, -0.01*a*bc + 4.10557620041292e-10*abc, 0.01*a*bc + 0.01*ab*c - 1.23167286012387e-9*abc + 0.01*ac*b, a + ab + abc + ac - 100.0, ab + abc + b + bc - 100.0, abc + ac + bc + c - 100.0]\n",
      "Matrix([[0.00940456789558413], [0.00940456789558413], [0.00940456789558413], [0.000436506418166428], [0.000436506418166428], [0.000436506418166428], [99.9897224192681]])\n"
     ]
    }
   ],
   "source": [
    "a,b,c,ab,ac,bc,abc = symbols(\"a,b,c,ab,ac,bc,abc\")\n",
    "\n",
    "k_on = [1.0,1.0,1.0,1.0,1.0,1.0] * np.array([1e-2])\n",
    "std_c = 1e6\n",
    "#k_on = np.array([0.0199, 0.0198, 0.0209, 1.6899, 1.6899, 1.6903])\n",
    "g = np.array([-35,-35,-35,-70,-70,-70])\n",
    "R = 8.314\n",
    "T = 273.15\n",
    "k_off = std_c*k_on*np.exp(g*1000/(R*T))\n",
    "print(\"Off_rates: \",k_off)\n",
    "#init_conc = [7.4707e-03, 7.4707e-03, 3.1465e-02, 2.8225e-02, 4.2309e-03, 4.2309e-03,\n",
    "  #      9.9601e+00]\n",
    "#init_sol = np.random.rand(len(init_conc))*max(init_conc)\n",
    "init_sol = [9.7282e-07, 9.7282e-07, 9.7282e-07, 1.2476e-03, 1.2476e-03, 1.2476e-03,\n",
    "       9.9975e+00]\n",
    "init_conc = [100,100,100,0,0,0,0]\n",
    "# init_sol = [97.9202, 97.9202, 97.9202,  0.7836,  0.7836,  0.7836,  0.5126]\n",
    "# init_sol = np.random.rand(len(init_conc))*max(init_conc)\n",
    "eq1 = -k_on[0]*a*b + k_off[0]*ab\n",
    "eq2 = - k_on[2]*b*c + k_off[2]*bc\n",
    "eq3 = -k_on[1]*a*c + k_off[1]*ac \n",
    "eq4 = -k_on[3]*ab*c + k_off[3]*abc\n",
    "eq5 = - k_on[4]*ac*b + k_off[4]*abc\n",
    "eq6 = - k_on[5]*bc*a + k_off[5]*abc\n",
    "eq7 = -(k_off[3] + k_off[4] + k_off[5])*abc + k_on[3]*ab*c + k_on[4]*ac*b + k_on[5]*bc*a\n",
    "\n",
    "c1 = a+ab+ac+abc-100.0\n",
    "c2 = b+ab+bc+abc-100.0\n",
    "c3 = c+ac+bc+abc-100.0\n",
    "\n",
    "system = [eq1,eq2,eq3,eq4,eq5,eq6,eq7,c1,c2,c3]\n",
    "\n",
    "print(init_sol)\n",
    "print(system)\n",
    "\n",
    "solution = nsolve(system,[a,b,c,ab,ac,bc,abc],init_sol,verify=True)\n",
    "\n",
    "print(solution)"
   ]
  },
  {
   "cell_type": "code",
   "execution_count": null,
   "id": "e58343d1",
   "metadata": {},
   "outputs": [],
   "source": [
    "g = np.array([-20,-20,-20,-40,-40,-40])\n",
    "print(np.exp(g*1000/(R*T)))\n",
    "\n",
    "init_sol = np.random.rand(len(init_conc))*max(init_conc) #*np.exp(min(g)*1000/(R*T))\n",
    "\n",
    "print(init_sol)"
   ]
  },
  {
   "cell_type": "code",
   "execution_count": 59,
   "id": "ec1bea98",
   "metadata": {},
   "outputs": [
    {
     "name": "stdout",
     "output_type": "stream",
     "text": [
      "Matrix([[1.87233004482781e-8], [49.9982931522206], [7.52053503187466e-14], [0.00341371428230030], [49.9982931334971]])\n"
     ]
    }
   ],
   "source": [
    "#Eq solution for Trimer system with Repeat units\n",
    "\n",
    "a,b,s,aa,ab,sa,bs,aab,aas,bas,aasb = symbols(\"a,b,s,aa,ab,sa,bs,aab,aas,aasb\")\n",
    "k_on = np.array([1,1,1,1,1,1,1,1,1,1])\n",
    "#k_on = np.array([0.0199, 0.0198, 0.0209, 1.6899, 1.6899, 1.6903])\n",
    "g = np.array([-20,-20,-100,-100])\n",
    "R = 8.314\n",
    "T = 273.15\n",
    "c0 = 1e6\n",
    "k_off = k_on*c0*np.exp(g)\n",
    "\n",
    "init_conc = [100,100,100,0,0,0,0]\n",
    "init_sol = [0.001, 50, 1, 1.18, 49]\n",
    "# init_sol = [0.00135341110523912], [47.3803907307100], [0.000149704411220411], [5.24087135850770], [47.3787379107823]\n",
    "eq_d1 = -k_on[0]*a*b + k_off[0]*ab\n",
    "eq_d2 = -k_on[1]*a*a + k_off[1]*aa \n",
    "eq_d3 = -k_on[1]*a*s + k_off[1]*sa\n",
    "eq_d4 = -k_on[1]*b*s + k_off[1]*bs\n",
    "eq_t1 = -k_on[1]*ab*s + k_off[1]*bas\n",
    "eq_t2 = -k_on[1]*ab*a + k_off[1]*aab\n",
    "eq_t3 = -k_on[1]*sa*a + k_off[1]*aas\n",
    "eq_t4 = -k_on[1]*aa*b + k_off[1]*aab\n",
    "eq_t5 = -k_on[1]*aa*s + k_off[1]*aas\n",
    "eq_t6 = -k_on[1]*sa*b + k_off[1]*bas\n",
    "eq_t7 = -k_on[1]*bs*a + k_off[1]*bas\n",
    "eq_tt1 = -k_on[1]*bas*a + k_off[1]*aasb\n",
    "eq_tt2 = -k_on[1]*aas*b + k_off[1]*aasb\n",
    "eq_tt3 = -k_on[1]*aab*s + k_off[1]*aasb\n",
    "\n",
    "\n",
    "c1 = a+ab+sa+2*aa+2*aas+2*aab+bas+2*aasb-100.0\n",
    "c2 = b+ab+bs+aab+bas+aasb-100.0\n",
    "c3 = s+sa+bs+aas+bas+aasb-100.0\n",
    "\n",
    "system = [eq_d1,eq_d2,eq_d3,eq_d4,eq_t1,eq_t2,eq_t3,eq_t4,eq_t5,eq_t6,eq_t7c1,c2]\n",
    "\n",
    "solution = nsolve(system,[a,b,s,aa,ab,sa,bs,aab,aas,bas,aasb],init_sol,verify=True)\n",
    "\n",
    "print(solution)"
   ]
  },
  {
   "cell_type": "code",
   "execution_count": 128,
   "id": "85136ccf",
   "metadata": {},
   "outputs": [
    {
     "name": "stdout",
     "output_type": "stream",
     "text": [
      "k_off:  [2.06115362e-03 4.24835426e-12]\n",
      "6.63340491387566e-5\n"
     ]
    }
   ],
   "source": [
    "a = symbols('a')\n",
    "g = np.array([-20,-40])\n",
    "k_on = np.array([1,1])\n",
    "R = 8.314\n",
    "T = 273.15\n",
    "c0 = 1e6\n",
    "k_eq = np.exp(-1*g)/c0\n",
    "\n",
    "print(\"k_off: \", k_on/k_eq)\n",
    "init_conc = 100\n",
    "\n",
    "p = sympy.Poly(3*k_eq[0]*k_eq[1]*a**3 +2*k_eq[0]*a**2 + a - init_conc)\n",
    "# r = sympy.roots(p)\n",
    "\n",
    "# print(r)\n",
    "r1 = p.nroots(maxsteps=100)[0]\n",
    "print(r1)"
   ]
  },
  {
   "cell_type": "code",
   "execution_count": 129,
   "id": "adcacf0b",
   "metadata": {},
   "outputs": [
    {
     "name": "stdout",
     "output_type": "stream",
     "text": [
      "6.63340491387566e-5 2.13482684029009e-6 33.3333097987657\n"
     ]
    }
   ],
   "source": [
    "# r1 = p.nroots()[0]\n",
    "r2 = k_eq[0]*r1**2\n",
    "r3 = k_eq[0]*k_eq[1]*r1**3\n",
    "\n",
    "print(r1,r2,r3)"
   ]
  },
  {
   "cell_type": "code",
   "execution_count": 124,
   "id": "105a228c",
   "metadata": {},
   "outputs": [
    {
     "data": {
      "text/latex": [
       "$\\displaystyle 342602216945677.0$"
      ],
      "text/plain": [
       "342602216945677."
      ]
     },
     "execution_count": 124,
     "metadata": {},
     "output_type": "execute_result"
    }
   ],
   "source": [
    "p.eval(1)"
   ]
  },
  {
   "cell_type": "code",
   "execution_count": 71,
   "id": "deaf2fd2",
   "metadata": {},
   "outputs": [
    {
     "name": "stdout",
     "output_type": "stream",
     "text": [
      "Matrix([[90.3452818059864], [1.21138826792656], [2.41064721938682]])\n",
      "[6737.94699909   45.39992976]\n"
     ]
    }
   ],
   "source": [
    "a,aa,aaa = symbols(\"a,aa,aaa\")\n",
    "k_on = np.array([1,1])\n",
    "#k_on = np.array([0.0199, 0.0198, 0.0209, 1.6899, 1.6899, 1.6903])\n",
    "g = np.array([-5,-10])\n",
    "R = 8.314\n",
    "T = 273.15\n",
    "c0 = 1e6\n",
    "k_off = k_on*c0*np.exp(g)\n",
    "\n",
    "init_conc = 100.0\n",
    "init_sol = [6,0.00002, 31]\n",
    "# init_sol = [0.00135341110523912], [47.3803907307100], [0.000149704411220411], [5.24087135850770], [47.3787379107823]\n",
    "eq1 = -k_on[0]*a*a + k_off[0]*aa\n",
    "eq2 = -k_on[1]*aa*a + k_off[1]*aaa\n",
    "\n",
    "\n",
    "c1 = a+2*aa+3*aaa-init_conc\n",
    "\n",
    "system = [eq1,eq2,c1]\n",
    "\n",
    "solution = nsolve(system,[a,aa,aaa],init_sol,verify=True)\n",
    "\n",
    "print(solution)\n",
    "print(k_off)"
   ]
  },
  {
   "cell_type": "code",
   "execution_count": null,
   "id": "948dd285",
   "metadata": {},
   "outputs": [],
   "source": []
  }
 ],
 "metadata": {
  "kernelspec": {
   "display_name": "Python 3 (ipykernel)",
   "language": "python",
   "name": "python3"
  },
  "language_info": {
   "codemirror_mode": {
    "name": "ipython",
    "version": 3
   },
   "file_extension": ".py",
   "mimetype": "text/x-python",
   "name": "python",
   "nbconvert_exporter": "python",
   "pygments_lexer": "ipython3",
   "version": "3.7.0"
  }
 },
 "nbformat": 4,
 "nbformat_minor": 5
}
