{
 "cells": [
  {
   "cell_type": "markdown",
   "metadata": {
    "collapsed": true,
    "pycharm": {
     "name": "#%% md\n"
    }
   },
   "source": [
    "# Vectorized Reaction Networks and Simulations #\n",
    "\n",
    "Vectorization in general is used for two reasons. First, it allows a few operations to run in parallel on a CPU,\n",
    "or thousands of operations to run in parallel on a GPU. Secondly, it allows our large numerical computations to be\n",
    "offloaded to highly optimized C language code, which is a large speed up even when parallelization isn't possible.\n",
    "\n",
    "We also have a third reason specific to out use case. Since we will be doing gradient based optimization, we need to be\n",
    "able to track a computation graph throughout the simulation. Doing this in python is possible but confusing and slow.\n",
    "Therefore, we will make use of the PyTorch Modules, which provides highly optimized vectorized operations,\n",
    "automatic differentiation and computation graph support, and some other useful numerical programming functionality.\n",
    "\n",
    "From now on instead of using base python numerical types (`float`, `int`, etc.), we will be using `torch.Tensor` objects.\n",
    "Since we will only need 1 and 2 dimensional objects, we can think of torch Tensors as matrices that also track all operations that are preformed on them."
   ]
  },
  {
   "cell_type": "code",
   "execution_count": 5,
   "metadata": {
    "pycharm": {
     "name": "#%%\n"
    }
   },
   "outputs": [],
   "source": [
    "import sys\n",
    "sys.path.append(\"../../\")\n",
    "from steric_free_simulator import ReactionNetwork, VectorizedRxnNet, VecSim\n",
    "\n",
    "from torch import DoubleTensor as Tensor  # forcing use of DoubleTensor (arrays of C float64 behind the scenes) because\n",
    "                                          # high numerical precision is necessary for some gradient computations\n"
   ]
  },
  {
   "cell_type": "markdown",
   "metadata": {},
   "source": [
    "### What is the vectorized reaction network ###\n",
    "\n",
    "Essentially, we must represent all the information necessary for a simulation with torch tensors. We will do this as follows:\n",
    "\n",
    "let $n$ be the number of states in the network, and $r$ be the number of forward reactions.\n",
    "\n",
    "define:\n",
    "- $M$ : a $(n \\times 2r)$ matrix mapping from state space into reaction space. $M_{ij}=1$ if species $i$ is the product of\n",
    "reaction $j$, $M_{ij} = -1$ if species $i$ is a reactant in reaction $j$, and is 0 everywhere else.\n",
    "- $\\vec k_{on}$ : a length $r$ vector of association constants\n",
    "- $\\vec s$ : a length $r$ vector of reaction scores (proportional to $\\Delta G$)\n",
    "- $\\vec c$ : a length $n$ vector of species copy numbers.\n",
    "\n",
    "A `VectorizedRxnNet` can be constructed from a vanilla `ReactionNetwork`. K_on's will be initialized to 1 if not provided. When parsing from an input file we load the file\n",
    "into a `ReactionNetwork`, call `resolve_tree`, then can convert to a `VectorizedRxnNetwork`. This process is shown below."
   ]
  },
  {
   "cell_type": "code",
   "execution_count": 6,
   "metadata": {
    "pycharm": {
     "name": "#%%\n"
    }
   },
   "outputs": [
    {
     "name": "stdout",
     "output_type": "stream",
     "text": [
      "['konAB', 100]\n",
      "['konAC', 10]\n",
      "['konBC', 0.01]\n",
      "['koff', 0.01]\n",
      "['A']\n",
      "5.0\n",
      "['B']\n",
      "5.0\n",
      "['C']\n",
      "5.0\n",
      "Parsing rule...\n",
      "SPLIT_01:  ['A(a)+B(a)', 'A(a!1).B(a!1)']\n",
      "['A', 'B', '']\n"
     ]
    },
    {
     "ename": "KeyError",
     "evalue": "'default_assoc'",
     "output_type": "error",
     "traceback": [
      "\u001b[0;31m---------------------------------------------------------------------------\u001b[0m",
      "\u001b[0;31mKeyError\u001b[0m                                  Traceback (most recent call last)",
      "\u001b[0;32m/tmp/ipykernel_42795/3562764370.py\u001b[0m in \u001b[0;36m<module>\u001b[0;34m\u001b[0m\n\u001b[0;32m----> 1\u001b[0;31m \u001b[0mrn\u001b[0m \u001b[0;34m=\u001b[0m \u001b[0mReactionNetwork\u001b[0m\u001b[0;34m(\u001b[0m\u001b[0;34m'../input_files/trimer.bngl'\u001b[0m\u001b[0;34m,\u001b[0m \u001b[0mone_step\u001b[0m\u001b[0;34m=\u001b[0m\u001b[0;32mTrue\u001b[0m\u001b[0;34m)\u001b[0m\u001b[0;34m\u001b[0m\u001b[0;34m\u001b[0m\u001b[0m\n\u001b[0m\u001b[1;32m      2\u001b[0m \u001b[0mrn\u001b[0m\u001b[0;34m.\u001b[0m\u001b[0mresolve_tree\u001b[0m\u001b[0;34m(\u001b[0m\u001b[0;34m)\u001b[0m\u001b[0;34m\u001b[0m\u001b[0;34m\u001b[0m\u001b[0m\n\u001b[1;32m      3\u001b[0m \u001b[0mvec_rn\u001b[0m \u001b[0;34m=\u001b[0m \u001b[0mVectorizedRxnNet\u001b[0m\u001b[0;34m(\u001b[0m\u001b[0mrn\u001b[0m\u001b[0;34m,\u001b[0m \u001b[0mdev\u001b[0m\u001b[0;34m=\u001b[0m\u001b[0;34m'cpu'\u001b[0m\u001b[0;34m)\u001b[0m\u001b[0;34m\u001b[0m\u001b[0;34m\u001b[0m\u001b[0m\n\u001b[1;32m      4\u001b[0m \u001b[0;34m\u001b[0m\u001b[0m\n\u001b[1;32m      5\u001b[0m \u001b[0;31m# print the c, s, and M objects\u001b[0m\u001b[0;34m\u001b[0m\u001b[0;34m\u001b[0m\u001b[0;34m\u001b[0m\u001b[0m\n",
      "\u001b[0;32m~/johnson/multi_assembly/steric_free_simulator/reaction_network.py\u001b[0m in \u001b[0;36m__init__\u001b[0;34m(self, bngl_path, one_step, seed)\u001b[0m\n\u001b[1;32m    110\u001b[0m         \u001b[0;31m# resolve graph\u001b[0m\u001b[0;34m\u001b[0m\u001b[0;34m\u001b[0m\u001b[0;34m\u001b[0m\u001b[0m\n\u001b[1;32m    111\u001b[0m         \u001b[0mself\u001b[0m\u001b[0;34m.\u001b[0m\u001b[0m_initial_copies\u001b[0m \u001b[0;34m=\u001b[0m \u001b[0;34m{\u001b[0m\u001b[0;34m}\u001b[0m\u001b[0;34m\u001b[0m\u001b[0;34m\u001b[0m\u001b[0m\n\u001b[0;32m--> 112\u001b[0;31m         \u001b[0mself\u001b[0m\u001b[0;34m.\u001b[0m\u001b[0mparse_bngl\u001b[0m\u001b[0;34m(\u001b[0m\u001b[0mopen\u001b[0m\u001b[0;34m(\u001b[0m\u001b[0mbngl_path\u001b[0m\u001b[0;34m,\u001b[0m \u001b[0;34m'r'\u001b[0m\u001b[0;34m)\u001b[0m\u001b[0;34m,\u001b[0m \u001b[0mseed\u001b[0m\u001b[0;34m=\u001b[0m\u001b[0mself\u001b[0m\u001b[0;34m.\u001b[0m\u001b[0mseed\u001b[0m\u001b[0;34m)\u001b[0m\u001b[0;34m\u001b[0m\u001b[0;34m\u001b[0m\u001b[0m\n\u001b[0m\u001b[1;32m    113\u001b[0m         \u001b[0mself\u001b[0m\u001b[0;34m.\u001b[0m\u001b[0mparameters\u001b[0m \u001b[0;34m=\u001b[0m \u001b[0;34m{\u001b[0m\u001b[0;34m}\u001b[0m  \u001b[0;31m# gradient params\u001b[0m\u001b[0;34m\u001b[0m\u001b[0;34m\u001b[0m\u001b[0m\n\u001b[1;32m    114\u001b[0m         \u001b[0mself\u001b[0m\u001b[0;34m.\u001b[0m\u001b[0mis_energy_set\u001b[0m \u001b[0;34m=\u001b[0m \u001b[0;32mTrue\u001b[0m\u001b[0;34m\u001b[0m\u001b[0;34m\u001b[0m\u001b[0m\n",
      "\u001b[0;32m~/johnson/multi_assembly/steric_free_simulator/reaction_network.py\u001b[0m in \u001b[0;36mparse_bngl\u001b[0;34m(self, f, seed)\u001b[0m\n\u001b[1;32m    308\u001b[0m                         \u001b[0mself\u001b[0m\u001b[0;34m.\u001b[0m\u001b[0mparse_species\u001b[0m\u001b[0;34m(\u001b[0m\u001b[0mline\u001b[0m\u001b[0;34m,\u001b[0m \u001b[0mparameters\u001b[0m\u001b[0;34m)\u001b[0m\u001b[0;34m\u001b[0m\u001b[0;34m\u001b[0m\u001b[0m\n\u001b[1;32m    309\u001b[0m                     \u001b[0;32melif\u001b[0m \u001b[0mcur_block\u001b[0m \u001b[0;34m==\u001b[0m \u001b[0;34m'rules'\u001b[0m\u001b[0;34m:\u001b[0m\u001b[0;34m\u001b[0m\u001b[0;34m\u001b[0m\u001b[0m\n\u001b[0;32m--> 310\u001b[0;31m                         \u001b[0mself\u001b[0m\u001b[0;34m.\u001b[0m\u001b[0mparse_rule\u001b[0m\u001b[0;34m(\u001b[0m\u001b[0mline\u001b[0m\u001b[0;34m,\u001b[0m \u001b[0mparameters\u001b[0m\u001b[0;34m,\u001b[0m \u001b[0mseed\u001b[0m\u001b[0;34m=\u001b[0m\u001b[0;32mNone\u001b[0m\u001b[0;34m)\u001b[0m\u001b[0;34m\u001b[0m\u001b[0;34m\u001b[0m\u001b[0m\n\u001b[0m\u001b[1;32m    311\u001b[0m \u001b[0;34m\u001b[0m\u001b[0m\n\u001b[1;32m    312\u001b[0m \u001b[0;34m\u001b[0m\u001b[0m\n",
      "\u001b[0;32m~/johnson/multi_assembly/steric_free_simulator/reaction_network.py\u001b[0m in \u001b[0;36mparse_rule\u001b[0;34m(self, line, params, seed, percent_negative, score_range)\u001b[0m\n\u001b[1;32m    245\u001b[0m \u001b[0;34m\u001b[0m\u001b[0m\n\u001b[1;32m    246\u001b[0m \u001b[0;34m\u001b[0m\u001b[0m\n\u001b[0;32m--> 247\u001b[0;31m         \u001b[0;32mif\u001b[0m \u001b[0mparams\u001b[0m\u001b[0;34m[\u001b[0m\u001b[0;34m'default_assoc'\u001b[0m\u001b[0;34m]\u001b[0m\u001b[0;34m:\u001b[0m\u001b[0;34m\u001b[0m\u001b[0;34m\u001b[0m\u001b[0m\n\u001b[0m\u001b[1;32m    248\u001b[0m             \u001b[0mself\u001b[0m\u001b[0;34m.\u001b[0m\u001b[0mk_on\u001b[0m \u001b[0;34m=\u001b[0m \u001b[0mparams\u001b[0m\u001b[0;34m[\u001b[0m\u001b[0;34m'default_assoc'\u001b[0m\u001b[0;34m]\u001b[0m\u001b[0;34m\u001b[0m\u001b[0;34m\u001b[0m\u001b[0m\n\u001b[1;32m    249\u001b[0m         \u001b[0;32melse\u001b[0m\u001b[0;34m:\u001b[0m\u001b[0;34m\u001b[0m\u001b[0;34m\u001b[0m\u001b[0m\n",
      "\u001b[0;31mKeyError\u001b[0m: 'default_assoc'"
     ]
    }
   ],
   "source": [
    "rn = ReactionNetwork('../input_files/trimer.bngl', one_step=True)\n",
    "rn.resolve_tree()\n",
    "vec_rn = VectorizedRxnNet(rn, dev='cpu')\n",
    "\n",
    "# print the c, s, and M objects\n",
    "print('copies vector: ')\n",
    "print(vec_rn.copies_vec)\n",
    "print('\\n Score vector: ')\n",
    "print(vec_rn.rxn_score_vec)\n",
    "print('\\n M matrix: ')\n",
    "print(vec_rn.M)\n"
   ]
  },
  {
   "cell_type": "markdown",
   "metadata": {
    "pycharm": {
     "name": "#%% md\n"
    }
   },
   "source": [
    "Ok that's nice, but how do we run a simulation on this? The simulation is carried out using the VecSim class.\n",
    "\n",
    "- first $\\ln \\vec K$ is computed. $\\vec K$ is a vector of size $2r$, where indexes 0 to $r$ are forward reaction rate constants and positions $r$ to $2r$\n",
    "are reverse reaction rate constants. $\\vec k_{off}$ is first computed using $\\vec k_{on}$ and $ \\vec {\\Delta  G}$ using equation\n",
    "$\\ln k_{off} = \\frac {\\Delta G} {RT} + \\ln k_{on} + \\ln c$ where c is the standard concentration. Then $\\ln \\vec k_{on}$ and\n",
    "$\\ln \\vec k_{off}$ are concatenated to get $\\ln \\vec K$. This operation is preformed in\n",
    "`VectorizedRxnNetwork.get_log_constants()`\n",
    "\n",
    "- next a length $2r$ vector $\\ln \\vec C$ is computed using $M$ and $\\vec c$. $\\vec C$ contains the natural log of the products of the concentrations\n",
    "of the reactants for each reaction. This vector is computed in `VectorizedRxnNetwork.get_log_copy_prod_vector()`\n",
    "\n",
    "- we take element-wise sum of $\\ln \\vec K$ and $\\ln \\vec C$ to get $\\ln \\vec R$, the vector of the total rates for each\n",
    "reaction at this time step.\n",
    "\n",
    "- Compute the size of the time step $\\Delta t = \\frac {1} {\\sum \\exp \\vec R} $\n",
    "\n",
    "- compute the step size for each reaction $\\vec r = \\exp (\\ln \\Delta t + \\vec R) $\n",
    "\n",
    "- get the change in copies vector of size n, $\\vec {\\Delta c} = M \\vec r$\n",
    "\n",
    "- update the copy vector, $\\vec c_{new} = \\vec c + \\vec {\\Delta c}$\n",
    "\n",
    "- repeat until the total simulation time is reached\n",
    "\n",
    "- return the percent yield of the final complex"
   ]
  },
  {
   "cell_type": "markdown",
   "metadata": {
    "pycharm": {
     "name": "#%% md\n"
    }
   },
   "source": [
    "Using this approach simulation can be extremely fast, and are differentiable (more on that later). We will run this simulation for the trimer model below.\n"
   ]
  },
  {
   "cell_type": "code",
   "execution_count": 20,
   "metadata": {
    "pycharm": {
     "name": "#%%\n"
    }
   },
   "outputs": [
    {
     "name": "stdout",
     "output_type": "stream",
     "text": [
      "Using CPU\n"
     ]
    }
   ],
   "source": [
    "# initialize to k_on parameters since we didn't provide them in this input file.\n",
    "vec_rn.reset()\n",
    "sim = VecSim(vec_rn, runtime=1, score_constant=100, device='cpu')\n",
    "final_yield = sim.simulate(verbose=True)"
   ]
  },
  {
   "cell_type": "markdown",
   "metadata": {},
   "source": [
    "Let's plot the default observables:"
   ]
  },
  {
   "cell_type": "code",
   "execution_count": 21,
   "metadata": {
    "pycharm": {
     "name": "#%%\n"
    }
   },
   "outputs": [
    {
     "data": {
      "image/png": "[encoded data removed]",
      "text/plain": [
       "<Figure size 432x288 with 1 Axes>"
      ]
     },
     "metadata": {
      "needs_background": "light"
     },
     "output_type": "display_data"
    }
   ],
   "source": [
    "import numpy as np\n",
    "from matplotlib import pyplot as plt\n",
    "\n",
    "t = sim.steps\n",
    "for key in sim.observables.keys():\n",
    "    if key == 'steps':\n",
    "        continue\n",
    "    data = np.array(sim.observables[key][1])\n",
    "    plt.plot(t, data, label=sim.observables[key][0])\n",
    "lgnd = plt.legend(loc='best')\n",
    "for i in range(len(lgnd.legendHandles)):\n",
    "    lgnd.legendHandles[i]._sizes = [30]\n",
    "plt.show()\n"
   ]
  },
  {
   "cell_type": "markdown",
   "metadata": {
    "pycharm": {
     "name": "#%% md\n"
    }
   },
   "source": [
    "Next we will see how to use the optimizer class to do gradient based optimization of the association constants over\n",
    "the simulations\n"
   ]
  }
 ],
 "metadata": {
  "kernelspec": {
   "display_name": "Python 3",
   "language": "python",
   "name": "python3"
  },
  "language_info": {
   "codemirror_mode": {
    "name": "ipython",
    "version": 3
   },
   "file_extension": ".py",
   "mimetype": "text/x-python",
   "name": "python",
   "nbconvert_exporter": "python",
   "pygments_lexer": "ipython3",
   "version": "3.7.12"
  }
 },
 "nbformat": 4,
 "nbformat_minor": 1
}
