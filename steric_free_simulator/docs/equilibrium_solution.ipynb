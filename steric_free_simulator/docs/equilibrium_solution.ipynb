{
 "cells": [
  {
   "cell_type": "markdown",
   "id": "statistical-reception",
   "metadata": {},
   "source": [
    "# Equilibrium Solver #\n",
    "The Equilibrium solver is designed to take a reaction network as input and solve for a correct equilibrium solution. It does this by writing the system as a system of equations. Solving these equations can give the expected concentrations of all species at Equilibrium.\n",
    "\n",
    "It is useful to have this capability because we want to compare the results of our simulations to equilibrium. This allows for the detection of traps and other interesting kinetic effects. "
   ]
  },
  {
   "cell_type": "code",
   "execution_count": 1,
   "id": "abandoned-organ",
   "metadata": {},
   "outputs": [],
   "source": [
    "# make sure jupyter path is correct for loading local moudules\n",
    "import sys\n",
    "# path to steric_simulator module relative to notebook\n",
    "sys.path.append(\"../../\")"
   ]
  },
  {
   "cell_type": "code",
   "execution_count": 2,
   "id": "speaking-uncertainty",
   "metadata": {},
   "outputs": [
    {
     "name": "stdout",
     "output_type": "stream",
     "text": [
      "EnergyExplorer Module is not available. Check Rosetta installation. <ipykernel.iostream.OutStream object at 0x10e11eda0>\n"
     ]
    }
   ],
   "source": [
    "from steric_free_simulator import ReactionNetwork, EqSolver, VectorizedRxnNetwork "
   ]
  },
  {
   "cell_type": "markdown",
   "id": "mechanical-prairie",
   "metadata": {},
   "source": [
    "As usual, we can start by loading up the reaction network"
   ]
  },
  {
   "cell_type": "code",
   "execution_count": 3,
   "id": "stopped-smile",
   "metadata": {},
   "outputs": [],
   "source": [
    "base_input = '../input_files/trimer.pwr'\n",
    "rn = ReactionNetwork(base_input, one_step=True)\n",
    "rn.resolve_tree()"
   ]
  },
  {
   "cell_type": "markdown",
   "id": "addressed-owner",
   "metadata": {},
   "source": [
    "A minor annoyance is that the reaction network need the association constants to be resolved, which normally happens at simulation time. We can work around this by generated the vectorized network then writing it back to the normal reaction network."
   ]
  },
  {
   "cell_type": "code",
   "execution_count": null,
   "id": "fundamental-subject",
   "metadata": {},
   "outputs": [],
   "source": [
    "vec_rn = VectorizedRxnNetwork()"
   ]
  }
 ],
 "metadata": {
  "kernelspec": {
   "display_name": "Python 3",
   "language": "python",
   "name": "python3"
  },
  "language_info": {
   "codemirror_mode": {
    "name": "ipython",
    "version": 3
   },
   "file_extension": ".py",
   "mimetype": "text/x-python",
   "name": "python",
   "nbconvert_exporter": "python",
   "pygments_lexer": "ipython3",
   "version": "3.7.0"
  }
 },
 "nbformat": 4,
 "nbformat_minor": 5
}
