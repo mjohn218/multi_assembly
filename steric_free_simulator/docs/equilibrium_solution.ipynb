{
 "cells": [
  {
   "cell_type": "markdown",
   "id": "administrative-miller",
   "metadata": {},
   "source": [
    "# Equilibrium Solver #\n",
    "The Equilibrium solver is designed to take a reaction network as input and solve for a correct equilibrium solution. It does this by writing the system as a system of equations. Solving these equations can give the expected concentrations of all species at Equilibrium.\n",
    "\n",
    "It is useful to have this capability because we want to compare the results of our simulations to equilibrium. This allows for the detection of traps and other interesting kinetic effects. "
   ]
  },
  {
   "cell_type": "code",
   "execution_count": 1,
   "id": "static-carroll",
   "metadata": {},
   "outputs": [],
   "source": [
    "# make sure jupyter path is correct for loading local moudules\n",
    "import sys\n",
    "# path to steric_simulator module relative to notebook\n",
    "sys.path.append(\"../../\")"
   ]
  },
  {
   "cell_type": "code",
   "execution_count": 11,
   "id": "rough-divorce",
   "metadata": {},
   "outputs": [],
   "source": [
    "from steric_free_simulator import VectorizedRxnNet, ReactionNetwork, EquilibriumSolver"
   ]
  },
  {
   "cell_type": "markdown",
   "id": "blond-exchange",
   "metadata": {},
   "source": [
    "As usual, we can start by loading up the reaction network"
   ]
  },
  {
   "cell_type": "code",
   "execution_count": 12,
   "id": "incorporated-differential",
   "metadata": {},
   "outputs": [],
   "source": [
    "base_input = '../input_files/trimer.pwr'\n",
    "rn = ReactionNetwork(base_input, one_step=True)\n",
    "rn.resolve_tree()"
   ]
  },
  {
   "cell_type": "markdown",
   "id": "dangerous-fence",
   "metadata": {},
   "source": [
    "A minor annoyance is that the reaction network need the association constants to be resolved, which normally happens at simulation time. We can work around this by generated the vectorized network then writing it back to the normal reaction network."
   ]
  },
  {
   "cell_type": "code",
   "execution_count": 13,
   "id": "innovative-scanner",
   "metadata": {},
   "outputs": [
    {
     "data": {
      "text/plain": [
       "<steric_free_simulator.reaction_network.ReactionNetwork at 0xa2c1190f0>"
      ]
     },
     "execution_count": 13,
     "metadata": {},
     "output_type": "execute_result"
    }
   ],
   "source": [
    "vec_rn = VectorizedRxnNet(rn)\n",
    "vec_rn.update_reaction_net(rn)"
   ]
  },
  {
   "cell_type": "markdown",
   "id": "98c16924",
   "metadata": {},
   "source": [
    "Now we will initialize a equilibrium solver object on the reaction network. The constructor will convert the network to a list of polynomial equations and constraints defining the system at equilibrium. For simlisty all interactions are written as there own equation, all simplification is left to the sympy engine. \n",
    "\n",
    "Sympy is an open-source module that allows python programs to do symbollic math, similar to closed-source tools like Mathematica. "
   ]
  },
  {
   "cell_type": "code",
   "execution_count": 15,
   "id": "9b2a0c05",
   "metadata": {},
   "outputs": [],
   "source": [
    "eq = EquilibriumSolver(rn)"
   ]
  },
  {
   "cell_type": "markdown",
   "id": "e52d63fe",
   "metadata": {},
   "source": [
    "In order to solve the system of equations, we call EquilbriumSolver's `solve` method. Internally, this call `sympy.nsolve` which uses a variety of numeric methods to find a solution. Since the solver is sensitive to initialization, if a solution is not found a random restart is preformed up to a set number of times.\n",
    "\n",
    "The result will be a vector with copy numbers for each species. Since this system is a trimer, the first three indices  are the equilibrium monomer subunit concentrations, and as always the last index in the vector is the equilibrium concentration of the complete complex. The other values are equilibrium concentrations of various intermediates. "
   ]
  },
  {
   "cell_type": "code",
   "execution_count": 18,
   "id": "3549ec1c",
   "metadata": {},
   "outputs": [
    {
     "data": {
      "text/latex": [
       "$\\displaystyle \\left[\\begin{matrix}1.286274\\\\0.8042001\\\\1.145101\\\\1.289188\\\\0.948287\\\\1.430361\\\\1.476251\\end{matrix}\\right]$"
      ],
      "text/plain": [
       "Matrix([\n",
       "[ 1.286274],\n",
       "[0.8042001],\n",
       "[ 1.145101],\n",
       "[ 1.289188],\n",
       "[ 0.948287],\n",
       "[ 1.430361],\n",
       "[ 1.476251]])"
      ]
     },
     "execution_count": 18,
     "metadata": {},
     "output_type": "execute_result"
    }
   ],
   "source": [
    "sol = eq.solve()\n",
    "sol"
   ]
  },
  {
   "cell_type": "markdown",
   "id": "c1097f6a",
   "metadata": {},
   "source": [
    "We can now easily calculate the expected equilibrium complet complex yield using our definition of yield."
   ]
  },
  {
   "cell_type": "code",
   "execution_count": 20,
   "id": "9a0bcc9f",
   "metadata": {},
   "outputs": [
    {
     "name": "stdout",
     "output_type": "stream",
     "text": [
      "Equilibrium expected yield:  29.5250205993652 %\n"
     ]
    }
   ],
   "source": [
    "print(\"Equilibrium expected yield: \", 100 * sol[-1] / min(vec_rn.initial_copies[:vec_rn.num_monomers]), '%')"
   ]
  }
 ],
 "metadata": {
  "kernelspec": {
   "display_name": "Python 3",
   "language": "python",
   "name": "python3"
  },
  "language_info": {
   "codemirror_mode": {
    "name": "ipython",
    "version": 3
   },
   "file_extension": ".py",
   "mimetype": "text/x-python",
   "name": "python",
   "nbconvert_exporter": "python",
   "pygments_lexer": "ipython3",
   "version": "3.7.0"
  }
 },
 "nbformat": 4,
 "nbformat_minor": 5
}
