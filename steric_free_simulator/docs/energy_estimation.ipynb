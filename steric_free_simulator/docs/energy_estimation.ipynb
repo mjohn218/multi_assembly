{
 "cells": [
  {
   "cell_type": "markdown",
   "source": [
    "# Pairwise Reaction Energy Estimation #\n",
    "\n",
    "For real protein complexes for which we have a crystal structure, we may want to estimate true reaction free energies in\n",
    "order to get more realistic simulation results. This can be done using the Rosseta package, or specifically the pyrosetta\n",
    "API.\n",
    "\n",
    "This has three steps.\n",
    "\n",
    "- The complex PDB is broken up into its subunits, each of which are saved as a separate pdb file.\n",
    "- the individual subunits are relaxed using rosseta's `FastRelax` algorithm, which positions the residues in\n",
    "the lowest energy conformations.\n",
    "- all allowed pairwise reaction are preformed by joining two individual subunits into a new pdb structure, and\n",
    "relaxing the bound structure again\n",
    "- the reaction scores are computed as $S_{rxn} = S_{product} - S_{r1} - S_{r2}$\n",
    "- These reaction scores are proportional to the $\\Delta G_{rxn}$, although the scale might be drastically different\n",
    "\n",
    "We only compute the pairwise scores because explicitly scoring the intermediate reaction using rosetta cause thermodynamic\n",
    "inconsistencies due to instability and randomness in the relax algorithms. The energies for intermediate reactions are computed\n",
    "from the pairwise reaction energies automatically when building a network using `ReactionNetwork.resolve_tree` from a `.pwr`\n",
    "input file."
   ],
   "metadata": {
    "collapsed": false
   }
  },
  {
   "cell_type": "code",
   "execution_count": 2,
   "outputs": [
    {
     "name": "stderr",
     "output_type": "stream",
     "text": [
      "/home/spencerloggia/Projects/biphy/multi_assembly/steric_free_simulator/energy_space_explorer.py:8: UserWarning: Import of 'rosetta' as a top-level module is deprecated and may be removed in 2018, import via 'pyrosetta.rosetta'.\n",
      "  from rosetta.protocols.relax import *\n"
     ]
    }
   ],
   "source": [
    "# make sure jupyter path is correct for loading local moudules\n",
    "import sys\n",
    "# path to steric_simulator module relative to notebook\n",
    "sys.path.append(\"../../\")\n",
    "from steric_free_simulator import ReactionNetwork, EnergyExplorer"
   ],
   "metadata": {
    "collapsed": false,
    "pycharm": {
     "name": "#%%\n"
    }
   }
  },
  {
   "cell_type": "markdown",
   "source": [
    "First lets load the AP2 network from the input file"
   ],
   "metadata": {
    "collapsed": false,
    "pycharm": {
     "name": "#%% md\n"
    }
   }
  },
  {
   "cell_type": "code",
   "execution_count": 5,
   "outputs": [],
   "source": [
    "base_input = '../input_files/ap2.pwr'\n",
    "rn = ReactionNetwork(base_input, one_step=True)\n",
    "rn.resolve_tree()\n"
   ],
   "metadata": {
    "collapsed": false,
    "pycharm": {
     "name": "#%%\n"
    }
   }
  },
  {
   "cell_type": "markdown",
   "source": [
    "Initialize an EnergyExplorer object and explore the network."
   ],
   "metadata": {
    "collapsed": false,
    "pycharm": {
     "name": "#%% md\n"
    }
   }
  },
  {
   "cell_type": "code",
   "execution_count": 6,
   "outputs": [
    {
     "name": "stdout",
     "output_type": "stream",
     "text": [
      "PyRosetta-4 2020 [Rosetta PyRosetta4.Release.python37.ubuntu 2020.50+release.1295438cd4bd2be39c9dbbfab8db669ab62415ab 2020-12-12T00:30:01] retrieved from: http://www.pyrosetta.org\n",
      "(C) Copyright Rosetta Commons Member Institutions. Created in JHU by Sergey Lyskov and PyRosetta Team.\n",
      "core.init: Checking for fconfig files in pwd and ./rosetta/flags\n",
      "core.init: Rosetta version: PyRosetta4.Release.python37.ubuntu r274 2020.50+release.1295438cd4b 1295438cd4bd2be39c9dbbfab8db669ab62415ab http://www.pyrosetta.org 2020-12-12T00:30:01\n",
      "core.init: command: PyRosetta -ex1 -ex2aro -database /home/spencerloggia/anaconda3/envs/asm_stoich/lib/python3.7/site-packages/pyrosetta-2020.50+release.1295438cd4b-py3.7-linux-x86_64.egg/pyrosetta/database\n",
      "basic.random.init_random_generator: 'RNG device' seed mode, using '/dev/urandom', seed=-573203793 seed_offset=0 real_seed=-573203793\n",
      "basic.random.init_random_generator: RandomGenerator:init: Normal mode, seed=-573203793 RG_type=mt19937\n",
      "core.scoring.ScoreFunctionFactory: SCOREFUNCTION: ref2015\n",
      "core.scoring.etable: Starting energy table calculation\n",
      "core.scoring.etable: smooth_etable: changing atr/rep split to bottom of energy well\n",
      "core.scoring.etable: smooth_etable: spline smoothing lj etables (maxdis = 6)\n",
      "core.scoring.etable: smooth_etable: spline smoothing solvation etables (max_dis = 6)\n",
      "core.scoring.etable: Finished calculating energy tables.\n",
      "basic.io.database: Database file opened: scoring/score_functions/hbonds/ref2015_params/HBPoly1D.csv\n",
      "basic.io.database: Database file opened: scoring/score_functions/hbonds/ref2015_params/HBFadeIntervals.csv\n",
      "basic.io.database: Database file opened: scoring/score_functions/hbonds/ref2015_params/HBEval.csv\n",
      "basic.io.database: Database file opened: scoring/score_functions/hbonds/ref2015_params/DonStrength.csv\n",
      "basic.io.database: Database file opened: scoring/score_functions/hbonds/ref2015_params/AccStrength.csv\n",
      "core.chemical.GlobalResidueTypeSet: Finished initializing fa_standard residue type set.  Created 985 residue types\n",
      "core.chemical.GlobalResidueTypeSet: Total time to initialize 0.630118 seconds.\n",
      "basic.io.database: Database file opened: scoring/score_functions/rama/fd/all.ramaProb\n",
      "basic.io.database: Database file opened: scoring/score_functions/rama/fd/prepro.ramaProb\n",
      "basic.io.database: Database file opened: scoring/score_functions/omega/omega_ppdep.all.txt\n",
      "basic.io.database: Database file opened: scoring/score_functions/omega/omega_ppdep.gly.txt\n",
      "basic.io.database: Database file opened: scoring/score_functions/omega/omega_ppdep.pro.txt\n",
      "basic.io.database: Database file opened: scoring/score_functions/omega/omega_ppdep.valile.txt\n",
      "basic.io.database: Database file opened: scoring/score_functions/P_AA_pp/P_AA\n",
      "basic.io.database: Database file opened: scoring/score_functions/P_AA_pp/P_AA_n\n",
      "core.scoring.P_AA: shapovalov_lib::shap_p_aa_pp_smooth_level of 1( aka low_smooth ) got activated.\n",
      "basic.io.database: Database file opened: scoring/score_functions/P_AA_pp/shapovalov/10deg/kappa131/a20.prop\n",
      "protocols.relax.RelaxScriptManager: Reading relax scripts list from database.\n",
      "core.scoring.ScoreFunctionFactory: SCOREFUNCTION: ref2015\n",
      "protocols.relax.RelaxScriptManager: Looking for MonomerRelax2019.txt\n",
      "protocols.relax.RelaxScriptManager: ================== Reading script file: /home/spencerloggia/anaconda3/envs/asm_stoich/lib/python3.7/site-packages/pyrosetta-2020.50+release.1295438cd4b-py3.7-linux-x86_64.egg/pyrosetta/database/sampling/relax_scripts/MonomerRelax2019.txt ==================\n",
      "protocols.relax.RelaxScriptManager: repeat %%nrepeats%%\n",
      "protocols.relax.RelaxScriptManager: coord_cst_weight 1.0\n",
      "protocols.relax.RelaxScriptManager: scale:fa_rep 0.040\n",
      "protocols.relax.RelaxScriptManager: repack\n",
      "protocols.relax.RelaxScriptManager: scale:fa_rep 0.051\n",
      "protocols.relax.RelaxScriptManager: min 0.01\n",
      "protocols.relax.RelaxScriptManager: coord_cst_weight 0.5\n",
      "protocols.relax.RelaxScriptManager: scale:fa_rep 0.265\n",
      "protocols.relax.RelaxScriptManager: repack\n",
      "protocols.relax.RelaxScriptManager: scale:fa_rep 0.280\n",
      "protocols.relax.RelaxScriptManager: min 0.01\n",
      "protocols.relax.RelaxScriptManager: coord_cst_weight 0.0\n",
      "protocols.relax.RelaxScriptManager: scale:fa_rep 0.559\n",
      "protocols.relax.RelaxScriptManager: repack\n",
      "protocols.relax.RelaxScriptManager: scale:fa_rep 0.581\n",
      "protocols.relax.RelaxScriptManager: min 0.01\n",
      "protocols.relax.RelaxScriptManager: coord_cst_weight 0.0\n",
      "protocols.relax.RelaxScriptManager: scale:fa_rep 1\n",
      "protocols.relax.RelaxScriptManager: repack\n",
      "protocols.relax.RelaxScriptManager: min 0.00001\n",
      "protocols.relax.RelaxScriptManager: accept_to_best\n",
      "protocols.relax.RelaxScriptManager: endrepeat\n",
      "core.import_pose.import_pose: File '/home/spencerloggia/Projects/biphy/multi_assembly/steric_free_simulator/pdbs/AP2_subunits/MS.relaxed.clean.pdb' automatically determined to be of type PDB\n",
      "basic.io.database: Database file opened: scoring/score_functions/elec_cp_reps.dat\n",
      "core.scoring.elec.util: Read 40 countpair representative atoms\n",
      "core.pack.dunbrack.RotamerLibrary: shapovalov_lib_fixes_enable option is true.\n",
      "core.pack.dunbrack.RotamerLibrary: shapovalov_lib::shap_dun10_smooth_level of 1( aka lowest_smooth ) got activated.\n",
      "core.pack.dunbrack.RotamerLibrary: Binary rotamer library selected: /home/spencerloggia/anaconda3/envs/asm_stoich/lib/python3.7/site-packages/pyrosetta-2020.50+release.1295438cd4b-py3.7-linux-x86_64.egg/pyrosetta/database/rotamer/shapovalov/StpDwn_0-0-0/Dunbrack10.lib.bin\n",
      "core.pack.dunbrack.RotamerLibrary: Using Dunbrack library binary file '/home/spencerloggia/anaconda3/envs/asm_stoich/lib/python3.7/site-packages/pyrosetta-2020.50+release.1295438cd4b-py3.7-linux-x86_64.egg/pyrosetta/database/rotamer/shapovalov/StpDwn_0-0-0/Dunbrack10.lib.bin'.\n",
      "core.pack.dunbrack.RotamerLibrary: Dunbrack 2010 library took 0.129064 seconds to load from binary\n",
      "core.import_pose.import_pose: File '/home/spencerloggia/Projects/biphy/multi_assembly/steric_free_simulator/pdbs/AP2_subunits/B.relaxed.clean.pdb' automatically determined to be of type PDB\n",
      "core.import_pose.import_pose: File '/home/spencerloggia/Projects/biphy/multi_assembly/steric_free_simulator/pdbs/AP2_subunits/AB.relaxed.clean.pdb' automatically determined to be of type PDB\n",
      "core.import_pose.import_pose: File '/home/spencerloggia/Projects/biphy/multi_assembly/steric_free_simulator/pdbs/AP2_subunits/A.relaxed.clean.pdb' automatically determined to be of type PDB\n",
      "core.import_pose.import_pose: File '/home/spencerloggia/Projects/biphy/multi_assembly/steric_free_simulator/pdbs/AP2_subunits/M.relaxed.clean.pdb' automatically determined to be of type PDB\n",
      "core.import_pose.import_pose: File '/home/spencerloggia/Projects/biphy/multi_assembly/steric_free_simulator/pdbs/AP2_subunits/BS.relaxed.clean.pdb' automatically determined to be of type PDB\n",
      "core.import_pose.import_pose: File '/home/spencerloggia/Projects/biphy/multi_assembly/steric_free_simulator/pdbs/AP2_subunits/BM.relaxed.clean.pdb' automatically determined to be of type PDB\n",
      "core.import_pose.import_pose: File '/home/spencerloggia/Projects/biphy/multi_assembly/steric_free_simulator/pdbs/AP2_subunits/S.relaxed.clean.pdb' automatically determined to be of type PDB\n",
      "core.import_pose.import_pose: File '/home/spencerloggia/Projects/biphy/multi_assembly/steric_free_simulator/pdbs/AP2_subunits/AM.relaxed.clean.pdb' automatically determined to be of type PDB\n",
      "core.import_pose.import_pose: File '/home/spencerloggia/Projects/biphy/multi_assembly/steric_free_simulator/pdbs/AP2_subunits/AS.relaxed.clean.pdb' automatically determined to be of type PDB\n",
      "Lacking serializable rosetta build. Parallel processing disabled. Recommend compiling from source with --serialization flag \n",
      " Continuing to process sequentially <ipykernel.iostream.OutStream object at 0x7fadcae330f0>\n",
      "for pairwise product  AM  score is  -26.518477763489955\n",
      "for pairwise product  AB  score is  33.668912073556385\n",
      "for pairwise product  AS  score is  33.750877427942214\n",
      "for pairwise product  BM  score is  42.3208713921108\n",
      "for pairwise product  MS  score is  -8.572668649080242\n"
     ]
    }
   ],
   "source": [
    "en = EnergyExplorer(rn, subunit_dir='../pdbs/AP2_subunits/')\n",
    "en.explore_network()\n"
   ],
   "metadata": {
    "collapsed": false,
    "pycharm": {
     "name": "#%%\n"
    }
   }
  },
  {
   "cell_type": "markdown",
   "source": [
    "There will be a lot of output from rosseta, but the last lines should contain pairwise scores for each reaction.\n",
    "These scores must be manually added as parameters in the `rules` section of the input file, scaled as needed. In\n",
    "order to get a reaction network with these energies, you must reload the netwrok from the modified input file.\n"
   ],
   "metadata": {
    "collapsed": false
   }
  }
 ],
 "metadata": {
  "kernelspec": {
   "display_name": "Python 3",
   "language": "python",
   "name": "python3"
  },
  "language_info": {
   "codemirror_mode": {
    "name": "ipython",
    "version": 2
   },
   "file_extension": ".py",
   "mimetype": "text/x-python",
   "name": "python",
   "nbconvert_exporter": "python",
   "pygments_lexer": "ipython2",
   "version": "2.7.6"
  }
 },
 "nbformat": 4,
 "nbformat_minor": 0
}