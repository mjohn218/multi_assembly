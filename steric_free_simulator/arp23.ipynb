{
 "cells": [
  {
   "cell_type": "code",
   "execution_count": null,
   "outputs": [],
   "source": [],
   "metadata": {
    "collapsed": false,
    "pycharm": {
     "name": "#%%\n"
    }
   }
  },
  {
   "cell_type": "code",
   "execution_count": null,
   "outputs": [],
   "source": [
    "from pysb.simulator import BngSimulator\n",
    "from pysb.simulator import PopulationMap\n",
    "from pysb import simulator\n",
    "import pysb\n",
    "from .APR23 import model as m\n",
    "from pysb.examples.robertson import model\n",
    "import numpy as np\n"
   ],
   "metadata": {
    "collapsed": false,
    "pycharm": {
     "name": "#%%\n"
    }
   }
  },
  {
   "cell_type": "code",
   "execution_count": null,
   "outputs": [],
   "source": [
    "t = np.arange(100, step=.1)\n",
    "sim = BngSimulator(m, tspan=t)"
   ],
   "metadata": {
    "collapsed": false,
    "pycharm": {
     "name": "#%%\n"
    }
   }
  },
  {
   "cell_type": "code",
   "execution_count": null,
   "outputs": [],
   "source": [
    "complex_pat = list(m.observables.obs_A19_A3_A2.expr_free_symbols)[0].reaction_pattern.complex_patterns[0]\n",
    "map = PopulationMap(complex_pat, lumping_rate=m.parameters.kon)"
   ],
   "metadata": {
    "collapsed": false,
    "pycharm": {
     "name": "#%%\n"
    }
   }
  },
  {
   "cell_type": "code",
   "execution_count": null,
   "outputs": [],
   "source": [
    "import numpy.lib.recfunctions as rf\n",
    "results = sim.run(n_runs=1, method='nf')\n",
    "print(results.observables)\n",
    "obs_arr = np.array(results.observables)\n",
    "obs_arr = rf.structured_to_unstructured(obs_arr)\n",
    "print('done')"
   ],
   "metadata": {
    "collapsed": false,
    "pycharm": {
     "name": "#%%\n"
    }
   }
  },
  {
   "cell_type": "code",
   "execution_count": null,
   "outputs": [],
   "source": [
    "import matplotlib.pyplot as plt\n",
    "plt.scatter(t, obs_arr[:, 0], c='green')\n",
    "plt.scatter(t, obs_arr[:, 1], c='blue')\n",
    "plt.scatter(t, obs_arr[:, 2], c='red')\n",
    "plt.scatter(t, obs_arr[:, 3], c='purple')\n",
    "plt.scatter(t, obs_arr[:, 3], c='black')\n"
   ],
   "metadata": {
    "collapsed": false,
    "pycharm": {
     "name": "#%%\n"
    }
   }
  }
 ],
 "metadata": {
  "kernelspec": {
   "display_name": "Python 3",
   "language": "python",
   "name": "python3"
  },
  "language_info": {
   "codemirror_mode": {
    "name": "ipython",
    "version": 2
   },
   "file_extension": ".py",
   "mimetype": "text/x-python",
   "name": "python",
   "nbconvert_exporter": "python",
   "pygments_lexer": "ipython2",
   "version": "2.7.6"
  },
  "pycharm": {
   "stem_cell": {
    "cell_type": "raw",
    "source": [
     "\n"
    ],
    "metadata": {
     "collapsed": false
    }
   }
  }
 },
 "nbformat": 4,
 "nbformat_minor": 0
}