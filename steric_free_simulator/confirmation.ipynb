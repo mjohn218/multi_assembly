{
 "cells": [
  {
   "cell_type": "code",
   "execution_count": 1,
   "metadata": {
    "collapsed": true
   },
   "outputs": [],
   "source": [
    "# make sure jupyter path is correct for loading local moudules\n",
    "import sys\n",
    "# path to steric_simulator module relative to notebook\n",
    "sys.path.append(\"../\")"
   ]
  },
  {
   "cell_type": "code",
   "execution_count": 2,
   "metadata": {
    "pycharm": {
     "name": "#%%\n"
    }
   },
   "outputs": [
    {
     "name": "stderr",
     "output_type": "stream",
     "text": [
      "/home/spencerloggia/Projects/biphy/multi_assembly/steric_free_simulator/energy_space_explorer.py:8: UserWarning: Import of 'rosetta' as a top-level module is deprecated and may be removed in 2018, import via 'pyrosetta.rosetta'.\n",
      "  from rosetta.protocols.relax import *\n"
     ]
    }
   ],
   "source": [
    "from steric_free_simulator import Optimizer\n",
    "from steric_free_simulator import ReactionNetwork"
   ]
  },
  {
   "cell_type": "markdown",
   "metadata": {
    "pycharm": {
     "name": "#%% md\n"
    }
   },
   "source": [
    "<h2> Load basic dimer info </h2>\n",
    "Specifies reaction A + B <--> AB, with starting with 2000 copies of A and 1000 copies of B"
   ]
  },
  {
   "cell_type": "code",
   "execution_count": 3,
   "metadata": {
    "pycharm": {
     "name": "#%%\n"
    }
   },
   "outputs": [],
   "source": [
    "base_input = './input_files/dimer.bngl'\n",
    "rn = ReactionNetwork(base_input, one_step=True)\n"
   ]
  },
  {
   "cell_type": "markdown",
   "metadata": {
    "pycharm": {
     "name": "#%% md\n"
    }
   },
   "source": [
    "Since this is a toy model, assign some random $\\Delta G$ to the reaction."
   ]
  },
  {
   "cell_type": "code",
   "execution_count": 4,
   "metadata": {
    "pycharm": {
     "name": "#%%\n"
    }
   },
   "outputs": [],
   "source": [
    "rn.initialize_random_energy(percent_negative=-.75, score_range=10000)\n",
    "rn.reset()\n",
    "rn.intialize_activations()\n"
   ]
  },
  {
   "cell_type": "markdown",
   "metadata": {
    "pycharm": {
     "name": "#%% md\n"
    }
   },
   "source": [
    "<h2>Create an optimizer object to attempt to optimize this reaction network</h2>\n",
    "Since we are running vectorized simulations here, the reaction network will be transformed into a matrix representation.\n",
    "Due to of optimization details, I optimize with respect to activation energies instead of k_on. Basically, this is because creating a vector\n",
    "where some elements are used to compute other elements creates a loop in the gradient computation graph, which must be acyclic."
   ]
  },
  {
   "cell_type": "code",
   "execution_count": 6,
   "metadata": {
    "pycharm": {
     "name": "#%%\n"
    }
   },
   "outputs": [],
   "source": [
    "# I am using an adam optimizer, which will chhose the best\n",
    "# learning rate and momentum parameters as the simulations run,\n",
    "# So the initial choice of learning rate doesn't matter that much\n",
    "\n",
    "optim = Optimizer(reaction_network=rn,\n",
    "                  sim_runtime=.001,\n",
    "                  optim_iterations=10,\n",
    "                  learning_rate=10,\n",
    "                  sim_mode='vectorized')"
   ]
  },
  {
   "cell_type": "code",
   "execution_count": 7,
   "metadata": {
    "pycharm": {
     "name": "#%%\n"
    }
   },
   "outputs": [
    {
     "name": "stdout",
     "output_type": "stream",
     "text": [
      "yield on sim iteration 0 was 66.4%\n",
      "param update: tensor([6.0911e-12], dtype=torch.float64)\n",
      "yield on sim iteration 1 was 66.4%\n",
      "param update: tensor([6.5103e-12], dtype=torch.float64)\n",
      "yield on sim iteration 2 was 66.4%\n",
      "param update: tensor([2.4407e-12], dtype=torch.float64)\n",
      "yield on sim iteration 3 was 66.4%\n",
      "param update: tensor([3.6682e-13], dtype=torch.float64)\n",
      "yield on sim iteration 4 was 66.4%\n",
      "param update: tensor([-2.2835e-12], dtype=torch.float64)\n",
      "yield on sim iteration 5 was 66.4%\n",
      "param update: tensor([-2.1529e-12], dtype=torch.float64)\n",
      "yield on sim iteration 6 was 66.4%\n",
      "param update: tensor([-9.0861e-13], dtype=torch.float64)\n",
      "yield on sim iteration 7 was 66.4%\n",
      "param update: tensor([1.3687e-12], dtype=torch.float64)\n",
      "yield on sim iteration 8 was 66.4%\n",
      "param update: tensor([6.3771e-13], dtype=torch.float64)\n",
      "yield on sim iteration 9 was 66.4%\n",
      "optimization complete\n"
     ]
    }
   ],
   "source": [
    "vec_rn = optim.optimize()"
   ]
  },
  {
   "cell_type": "markdown",
   "metadata": {
    "pycharm": {
     "name": "#%% md\n"
    }
   },
   "source": [
    "<h3> Plot the simulation at the first iteration (before optimization) </h3>"
   ]
  },
  {
   "cell_type": "code",
   "execution_count": 8,
   "metadata": {
    "pycharm": {
     "name": "#%%\n"
    }
   },
   "outputs": [
    {
     "data": {
      "text/plain": "<Figure size 432x288 with 1 Axes>",
      "image/png": "[encoded data removed]"
     },
     "metadata": {
      "needs_background": "light"
     },
     "output_type": "display_data"
    }
   ],
   "source": [
    "optim.plot_observable(iteration=0)\n"
   ]
  },
  {
   "cell_type": "markdown",
   "metadata": {
    "pycharm": {
     "name": "#%% md\n"
    }
   },
   "source": [
    "<h3> Plot the simulation at the last iteration (after all optimization) </h3>"
   ]
  },
  {
   "cell_type": "code",
   "execution_count": 9,
   "metadata": {
    "pycharm": {
     "name": "#%%\n"
    }
   },
   "outputs": [
    {
     "data": {
      "text/plain": "<Figure size 432x288 with 1 Axes>",
      "image/png": "[encoded data removed]"
     },
     "metadata": {
      "needs_background": "light"
     },
     "output_type": "display_data"
    }
   ],
   "source": [
    "optim.plot_observable(iteration=-1)\n"
   ]
  },
  {
   "cell_type": "markdown",
   "metadata": {
    "pycharm": {
     "name": "#%% md\n"
    }
   },
   "source": [
    "<h3> Plot the yield curve over all iterations </h3>"
   ]
  },
  {
   "cell_type": "code",
   "execution_count": 10,
   "metadata": {
    "pycharm": {
     "name": "#%%\n"
    }
   },
   "outputs": [
    {
     "data": {
      "text/plain": "<Figure size 432x288 with 1 Axes>",
      "image/png": "[encoded data removed]"
     },
     "metadata": {
      "needs_background": "light"
     },
     "output_type": "display_data"
    }
   ],
   "source": [
    "optim.plot_yield()"
   ]
  },
  {
   "cell_type": "markdown",
   "metadata": {},
   "source": [
    "<h3> Summary of dimer test</h3>\n",
    "The dimer model, with randomly asssigned reaction free energies, reaches the same equilbrium regardless of the parameters."
   ]
  },
  {
   "cell_type": "markdown",
   "metadata": {
    "pycharm": {
     "name": "#%% md\n"
    }
   },
   "source": [
    "<h2> Load basic Trimer info </h2>\n",
    "Specifies reactions\n",
    "\n",
    " - A + B <--> AB\n",
    " - B + C <--> BC\n",
    " - A + C <--> AC\n",
    " - AB + C <--> ABC\n",
    " - BC + A <--> ABC\n",
    " - AC + B <--> ABC\n",
    "\n",
    "With starting copy numbers of:\n",
    "\n",
    " - A: 1000\n",
    " - B: 1000\n",
    " - C: 1000"
   ]
  },
  {
   "cell_type": "code",
   "execution_count": 11,
   "metadata": {
    "pycharm": {
     "name": "#%%\n"
    }
   },
   "outputs": [],
   "source": [
    "base_input = './input_files/trimer.bngl'\n",
    "rn = ReactionNetwork(base_input, one_step=True)"
   ]
  },
  {
   "cell_type": "markdown",
   "metadata": {},
   "source": [
    "Since this is a toy model, assign some random $\\Delta Gs$ to each reaction."
   ]
  },
  {
   "cell_type": "code",
   "execution_count": 12,
   "metadata": {
    "pycharm": {
     "name": "#%%\n"
    }
   },
   "outputs": [],
   "source": [
    "rn.initialize_random_energy(percent_negative=.2, score_range=100)\n",
    "rn.reset()\n",
    "rn.intialize_activations()"
   ]
  },
  {
   "cell_type": "markdown",
   "metadata": {
    "pycharm": {
     "name": "#%% md\n"
    }
   },
   "source": [
    "<h2>Create an optimizer object to attempt to optimize this reaction network</h2>"
   ]
  },
  {
   "cell_type": "code",
   "execution_count": 13,
   "metadata": {
    "pycharm": {
     "name": "#%%\n"
    }
   },
   "outputs": [],
   "source": [
    "optim = Optimizer(reaction_network=rn,\n",
    "                  sim_runtime=.1,\n",
    "                  optim_iterations=20,\n",
    "                  learning_rate=10,\n",
    "                  sim_mode='vectorized')"
   ]
  },
  {
   "cell_type": "code",
   "execution_count": 14,
   "metadata": {
    "pycharm": {
     "name": "#%%\n"
    }
   },
   "outputs": [
    {
     "name": "stdout",
     "output_type": "stream",
     "text": [
      "yield on sim iteration 0 was 81.6%\n",
      "param update: tensor([ 7.3185, -9.5400, -9.1068,  9.2430,  8.6970,  9.0313],\n",
      "       dtype=torch.float64)\n",
      "yield on sim iteration 1 was 81.6%\n",
      "param update: tensor([7.3126, 7.4414, 7.4414, 9.2483, 8.7041, 9.0381], dtype=torch.float64)\n",
      "yield on sim iteration 2 was 81.6%\n",
      "param update: tensor([7.2473, 5.7522, 5.7522, 9.2582, 8.7245, 9.0514], dtype=torch.float64)\n",
      "yield on sim iteration 3 was 81.6%\n",
      "param update: tensor([7.1593, 4.7119, 4.7119, 9.2708, 8.7499, 9.0681], dtype=torch.float64)\n",
      "yield on sim iteration 4 was 81.6%\n",
      "param update: tensor([7.0581, 3.9826, 3.9826, 9.2852, 8.7781, 9.0869], dtype=torch.float64)\n",
      "yield on sim iteration 5 was 81.6%\n",
      "param update: tensor([6.9413, 3.4325, 3.4325, 9.3019, 8.8094, 9.1084], dtype=torch.float64)\n",
      "yield on sim iteration 6 was 81.6%\n",
      "param update: tensor([6.8123, 2.9976, 2.9976, 9.3203, 8.8428, 9.1318], dtype=torch.float64)\n",
      "yield on sim iteration 7 was 81.6%\n",
      "param update: tensor([6.6702, 2.6426, 2.6426, 9.3405, 8.8784, 9.1572], dtype=torch.float64)\n",
      "yield on sim iteration 8 was 81.6%\n",
      "param update: tensor([6.5142, 2.3459, 2.3459, 9.3625, 8.9161, 9.1846], dtype=torch.float64)\n",
      "yield on sim iteration 9 was 81.6%\n",
      "param update: tensor([6.3432, 2.0937, 2.0937, 9.3862, 8.9559, 9.2139], dtype=torch.float64)\n",
      "yield on sim iteration 10 was 81.6%\n",
      "param update: tensor([6.1562, 1.8763, 1.8763, 9.4117, 8.9977, 9.2452], dtype=torch.float64)\n",
      "yield on sim iteration 11 was 81.6%\n",
      "param update: tensor([5.9555, 1.6871, 1.6871, 9.4385, 9.0407, 9.2778], dtype=torch.float64)\n",
      "yield on sim iteration 12 was 81.6%\n",
      "param update: tensor([5.7362, 1.5209, 1.5209, 9.4670, 9.0858, 9.3123], dtype=torch.float64)\n",
      "yield on sim iteration 13 was 81.6%\n",
      "param update: tensor([5.4970, 1.3740, 1.3740, 9.4971, 9.1327, 9.3487], dtype=torch.float64)\n",
      "yield on sim iteration 14 was 81.6%\n",
      "param update: tensor([5.2407, 1.2434, 1.2434, 9.5285, 9.1808, 9.3863], dtype=torch.float64)\n",
      "yield on sim iteration 15 was 81.6%\n",
      "param update: tensor([4.9617, 1.1269, 1.1269, 9.5615, 9.2307, 9.4257], dtype=torch.float64)\n",
      "yield on sim iteration 16 was 81.6%\n",
      "param update: tensor([4.6631, 1.0224, 1.0224, 9.5955, 9.2815, 9.4662], dtype=torch.float64)\n",
      "yield on sim iteration 17 was 81.6%\n",
      "param update: tensor([4.3389, 0.9285, 0.9285, 9.6312, 9.3342, 9.5084], dtype=torch.float64)\n",
      "yield on sim iteration 18 was 81.6%\n",
      "param update: tensor([3.9926, 0.8439, 0.8439, 9.6678, 9.3877, 9.5515], dtype=torch.float64)\n",
      "yield on sim iteration 19 was 81.6%\n",
      "optimization complete\n"
     ]
    }
   ],
   "source": [
    "vec_rn = optim.optimize()\n"
   ]
  },
  {
   "cell_type": "markdown",
   "metadata": {},
   "source": [
    "<h3> Plot the simulation at the first iteration (before optimization) </h3>"
   ]
  },
  {
   "cell_type": "code",
   "execution_count": 15,
   "metadata": {
    "pycharm": {
     "name": "#%%\n"
    }
   },
   "outputs": [
    {
     "data": {
      "text/plain": "<Figure size 432x288 with 1 Axes>",
      "image/png": "[encoded data removed]"
     },
     "metadata": {
      "needs_background": "light"
     },
     "output_type": "display_data"
    }
   ],
   "source": [
    "optim.plot_observable(iteration=0)"
   ]
  },
  {
   "cell_type": "markdown",
   "metadata": {},
   "source": [
    "<h3> Plot the simulation at the last iteration (after all optimization) </h3>"
   ]
  },
  {
   "cell_type": "code",
   "execution_count": 16,
   "metadata": {
    "pycharm": {
     "name": "#%%\n"
    }
   },
   "outputs": [
    {
     "data": {
      "text/plain": "<Figure size 432x288 with 1 Axes>",
      "image/png": "[encoded data removed]"
     },
     "metadata": {
      "needs_background": "light"
     },
     "output_type": "display_data"
    }
   ],
   "source": [
    "optim.plot_observable(iteration=-1)"
   ]
  },
  {
   "cell_type": "markdown",
   "metadata": {},
   "source": [
    "<h3> Plot the yield curve over all iterations </h3>"
   ]
  },
  {
   "cell_type": "code",
   "execution_count": 17,
   "metadata": {
    "pycharm": {
     "name": "#%%\n"
    }
   },
   "outputs": [
    {
     "data": {
      "text/plain": "<Figure size 432x288 with 1 Axes>",
      "image/png": "[encoded data removed]"
     },
     "metadata": {
      "needs_background": "light"
     },
     "output_type": "display_data"
    }
   ],
   "source": [
    "optim.plot_yield()"
   ]
  },
  {
   "cell_type": "markdown",
   "metadata": {
    "pycharm": {
     "name": "#%% md\n"
    }
   },
   "source": [
    "<h3> Summary of Trimer test</h3>\n",
    "The trimer model, with randomly asssigned reaction free energies, reaches the same equilbrium regardless of the parameters.\n"
   ]
  },
  {
   "cell_type": "markdown",
   "metadata": {
    "pycharm": {
     "name": "#%% md\n"
    }
   },
   "source": [
    "<h2> AP2 Optimization </h2>\n",
    "See the ap2_optimization ipython notebook in this repo\n"
   ]
  }
 ],
 "metadata": {
  "kernelspec": {
   "display_name": "Python 3",
   "language": "python",
   "name": "python3"
  },
  "language_info": {
   "codemirror_mode": {
    "name": "ipython",
    "version": 3
   },
   "file_extension": ".py",
   "mimetype": "text/x-python",
   "name": "python",
   "nbconvert_exporter": "python",
   "pygments_lexer": "ipython3",
   "version": "3.7.0"
  }
 },
 "nbformat": 4,
 "nbformat_minor": 1
}