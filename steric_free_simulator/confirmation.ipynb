{
 "cells": [
  {
   "cell_type": "code",
   "execution_count": 1,
   "metadata": {
    "pycharm": {
     "name": "#%%\n"
    }
   },
   "outputs": [],
   "source": [
    "# make sure jupyter path is correct for loading local moudules\n",
    "import sys\n",
    "# path to steric_simulator module relative to notebook\n",
    "sys.path.append(\"../\")\n",
    "import copy"
   ]
  },
  {
   "cell_type": "code",
   "execution_count": 2,
   "metadata": {
    "pycharm": {
     "name": "#%%\n"
    }
   },
   "outputs": [
    {
     "name": "stderr",
     "output_type": "stream",
     "text": [
      "/home/spencerloggia/Projects/biphy/multi_assembly/steric_free_simulator/energy_space_explorer.py:8: UserWarning: Import of 'rosetta' as a top-level module is deprecated and may be removed in 2018, import via 'pyrosetta.rosetta'.\n",
      "  from rosetta.protocols.relax import *\n"
     ]
    }
   ],
   "source": [
    "from steric_free_simulator import Optimizer\n",
    "from steric_free_simulator import ReactionNetwork\n",
    "from steric_free_simulator import EquilibriumSolver"
   ]
  },
  {
   "cell_type": "markdown",
   "metadata": {
    "pycharm": {
     "name": "#%% md\n"
    }
   },
   "source": [
    "<h2> Load basic dimer info </h2>\n",
    "Specifies reaction A + B <--> AB, with starting with 2000 copies of A and 1000 copies of B"
   ]
  },
  {
   "cell_type": "code",
   "execution_count": 3,
   "metadata": {
    "pycharm": {
     "name": "#%%\n"
    }
   },
   "outputs": [],
   "source": [
    "base_input = './input_files/dimer.bngl'\n",
    "rn = ReactionNetwork(base_input, one_step=True, seed=424242)\n",
    "rn.resolve_tree()"
   ]
  },
  {
   "cell_type": "markdown",
   "metadata": {
    "pycharm": {
     "name": "#%% md\n"
    }
   },
   "source": [
    "Since this is a toy model, assign some random $\\Delta G$ to the reaction."
   ]
  },
  {
   "cell_type": "code",
   "execution_count": 4,
   "metadata": {
    "pycharm": {
     "name": "#%%\n"
    }
   },
   "outputs": [],
   "source": [
    "rn.reset()\n",
    "rn.intialize_activations()\n"
   ]
  },
  {
   "cell_type": "markdown",
   "metadata": {
    "pycharm": {
     "name": "#%% md\n"
    }
   },
   "source": [
    "<h2>Create an optimizer object to attempt to optimize this reaction network</h2>\n",
    "Since we are running vectorized simulations here, the reaction network will be transformed into a matrix representation.\n",
    "\n",
    "**Optimization and Simulation Parameters**:\n",
    "\n",
    "- **sim_runtime**: time (in seconds) that the simulation will run for.\n",
    "- **optim_iterations**: number of simlations to run, optimizing parameters at each one.\n",
    "- **learning rate**: factor to multiply calculated gradients by.\n",
    "- **score_constant**: A coefficient applied to each rosetta calculated score, can be thought of a converting rosseta units to Joules. Since we have no idea what this really should be, it should be set to make $\\Delta G$ for each reaction realistic.\n",
    "- **freq_factor**: pre-exponential factor when calculating rate constants, physically a measure of the frequency of collisions between molecules.\n",
    "- **volume**: The volume of each simulation, used when calculating concentraions from copy numbers\n",
    "- **device**: The hardware device to run simulations and optimizations on.\n",
    "\n",
    "If the parameter is not specified at optimizer construction, it is given a default value."
   ]
  },
  {
   "cell_type": "code",
   "execution_count": 5,
   "metadata": {
    "pycharm": {
     "name": "#%%\n"
    }
   },
   "outputs": [
    {
     "name": "stdout",
     "output_type": "stream",
     "text": [
      "Using CPU\n"
     ]
    },
    {
     "data": {
      "text/plain": [
       "<steric_free_simulator.reaction_network.ReactionNetwork at 0x7fdc55718898>"
      ]
     },
     "execution_count": 5,
     "metadata": {},
     "output_type": "execute_result"
    }
   ],
   "source": [
    "# I am using an adam optimizer, which will choose the best\n",
    "# learning rate and momentum parameters as the simulations run,\n",
    "# So the initial choice of learning rate doesn't matter that much\n",
    "\n",
    "# TODO: Modify so that scores always match whats into input files\n",
    "optim = Optimizer(reaction_network=rn,\n",
    "                  sim_runtime=.01,\n",
    "                  optim_iterations=10,\n",
    "                  learning_rate=.1,\n",
    "                  sim_mode='vectorized',\n",
    "                  score_constant=1)\n",
    "optim.rn.update_reaction_net(rn, scalar_modifier=1)"
   ]
  },
  {
   "cell_type": "code",
   "execution_count": 6,
   "metadata": {
    "pycharm": {
     "name": "#%%\n"
    }
   },
   "outputs": [
    {
     "name": "stdout",
     "output_type": "stream",
     "text": [
      "Using CPU\n",
      "yield on sim iteration 0 was 92.9%\n",
      "current params: tensor([1.], dtype=torch.float64)\n",
      "Using CPU\n",
      "yield on sim iteration 1 was 92.9%\n",
      "current params: tensor([1.], dtype=torch.float64)\n",
      "Using CPU\n",
      "yield on sim iteration 2 was 92.9%\n",
      "current params: tensor([1.], dtype=torch.float64)\n",
      "Using CPU\n",
      "yield on sim iteration 3 was 92.9%\n",
      "current params: tensor([1.], dtype=torch.float64)\n",
      "Using CPU\n",
      "yield on sim iteration 4 was 92.9%\n",
      "current params: tensor([1.], dtype=torch.float64)\n",
      "Using CPU\n",
      "yield on sim iteration 5 was 92.9%\n",
      "current params: tensor([1.], dtype=torch.float64)\n",
      "Using CPU\n",
      "yield on sim iteration 6 was 92.9%\n",
      "current params: tensor([1.], dtype=torch.float64)\n",
      "Using CPU\n",
      "yield on sim iteration 7 was 92.9%\n",
      "current params: tensor([1.], dtype=torch.float64)\n",
      "Using CPU\n",
      "yield on sim iteration 8 was 92.9%\n",
      "current params: tensor([1.], dtype=torch.float64)\n",
      "Using CPU\n",
      "yield on sim iteration 9 was 92.9%\n",
      "optimization complete\n"
     ]
    }
   ],
   "source": [
    "vec_rn = optim.optimize()"
   ]
  },
  {
   "cell_type": "markdown",
   "metadata": {
    "pycharm": {
     "name": "#%% md\n"
    }
   },
   "source": [
    "<h3> Plot the simulation at the first iteration (before optimization) </h3>"
   ]
  },
  {
   "cell_type": "code",
   "execution_count": 7,
   "metadata": {
    "pycharm": {
     "name": "#%%\n"
    }
   },
   "outputs": [
    {
     "data": {
      "image/png": "[encoded data removed]",
      "text/plain": [
       "<Figure size 432x288 with 1 Axes>"
      ]
     },
     "metadata": {
      "needs_background": "light"
     },
     "output_type": "display_data"
    }
   ],
   "source": [
    "optim.plot_observable(iteration=0)\n"
   ]
  },
  {
   "cell_type": "markdown",
   "metadata": {
    "pycharm": {
     "name": "#%% md\n"
    }
   },
   "source": [
    "<h3> Plot the simulation at the last iteration (after all optimization) </h3>"
   ]
  },
  {
   "cell_type": "code",
   "execution_count": 8,
   "metadata": {
    "pycharm": {
     "name": "#%%\n"
    }
   },
   "outputs": [
    {
     "data": {
      "image/png": "[encoded data removed]",
      "text/plain": [
       "<Figure size 432x288 with 1 Axes>"
      ]
     },
     "metadata": {
      "needs_background": "light"
     },
     "output_type": "display_data"
    }
   ],
   "source": [
    "optim.plot_observable(iteration=-1)\n"
   ]
  },
  {
   "cell_type": "markdown",
   "metadata": {
    "pycharm": {
     "name": "#%% md\n"
    }
   },
   "source": [
    "<h3> Plot the yield curve over all iterations </h3>"
   ]
  },
  {
   "cell_type": "code",
   "execution_count": 33,
   "metadata": {
    "pycharm": {
     "name": "#%%\n"
    }
   },
   "outputs": [
    {
     "data": {
      "image/png": "[encoded data removed]",
      "text/plain": [
       "<Figure size 432x288 with 1 Axes>"
      ]
     },
     "metadata": {
      "needs_background": "light"
     },
     "output_type": "display_data"
    }
   ],
   "source": [
    "optim.plot_yield()"
   ]
  },
  {
   "cell_type": "code",
   "execution_count": 9,
   "metadata": {},
   "outputs": [
    {
     "name": "stdout",
     "output_type": "stream",
     "text": [
      "Matrix([[1070.9], [70.906], [929.09]])\n"
     ]
    }
   ],
   "source": [
    "poly_system = EquilibriumSolver(rn)\n",
    "solution = poly_system.solve()\n",
    "print(solution)"
   ]
  },
  {
   "cell_type": "markdown",
   "metadata": {},
   "source": [
    "<h3> Summary of dimer test</h3>\n",
    "The dimer model, with randomly asssigned reaction free energies, reaches the same equilbrium regardless of the parameters."
   ]
  },
  {
   "cell_type": "markdown",
   "metadata": {
    "pycharm": {
     "name": "#%% md\n"
    }
   },
   "source": [
    "<h2> Load basic Trimer info </h2>\n",
    "Specifies reactions\n",
    "\n",
    " - A + B <--> AB\n",
    " - B + C <--> BC\n",
    " - A + C <--> AC\n",
    " - AB + C <--> ABC\n",
    " - BC + A <--> ABC\n",
    " - AC + B <--> ABC\n",
    "\n",
    "With starting copy numbers of:\n",
    "\n",
    " - A: 1000\n",
    " - B: 1000\n",
    " - C: 1000"
   ]
  },
  {
   "cell_type": "code",
   "execution_count": 17,
   "metadata": {
    "pycharm": {
     "name": "#%%\n"
    }
   },
   "outputs": [],
   "source": [
    "base_input = './input_files/trimer.bngl'\n",
    "rn = ReactionNetwork(base_input, one_step=True, seed=123456)\n",
    "rn.resolve_tree()"
   ]
  },
  {
   "cell_type": "markdown",
   "metadata": {},
   "source": [
    "Since this is a toy model, assign some random $\\Delta Gs$ to each reaction."
   ]
  },
  {
   "cell_type": "code",
   "execution_count": 24,
   "metadata": {
    "pycharm": {
     "name": "#%%\n"
    }
   },
   "outputs": [],
   "source": [
    "rn.reset()\n",
    "rn.is_energy_set = True"
   ]
  },
  {
   "cell_type": "markdown",
   "metadata": {
    "pycharm": {
     "name": "#%% md\n"
    }
   },
   "source": [
    "<h2>Create an optimizer object to attempt to optimize this reaction network</h2>"
   ]
  },
  {
   "cell_type": "code",
   "execution_count": 25,
   "metadata": {
    "pycharm": {
     "name": "#%%\n"
    }
   },
   "outputs": [
    {
     "name": "stdout",
     "output_type": "stream",
     "text": [
      "Using CPU\n"
     ]
    },
    {
     "data": {
      "text/plain": [
       "<steric_free_simulator.reaction_network.ReactionNetwork at 0x7fdc477c95f8>"
      ]
     },
     "execution_count": 25,
     "metadata": {},
     "output_type": "execute_result"
    }
   ],
   "source": [
    "rn.intialize_activations()\n",
    "optim = Optimizer(reaction_network=rn,\n",
    "                  sim_runtime=1.5,\n",
    "                  optim_iterations=10,\n",
    "                  learning_rate=.1,\n",
    "                  score_constant=100,\n",
    "                  sim_mode='vectorized')\n",
    "\n",
    "# update rn params to match computed rate constants\n",
    "optim.rn.update_reaction_net(rn, scalar_modifier=100)"
   ]
  },
  {
   "cell_type": "code",
   "execution_count": 26,
   "metadata": {
    "pycharm": {
     "name": "#%%\n"
    }
   },
   "outputs": [
    {
     "name": "stdout",
     "output_type": "stream",
     "text": [
      "Using CPU\n",
      "yield on sim iteration 0 was 82.6%\n",
      "current params: tensor([1.1000, 1.1000, 1.1000, 1.1000, 0.9000, 0.9000], dtype=torch.float64)\n",
      "Using CPU\n",
      "yield on sim iteration 1 was 82.6%\n",
      "current params: tensor([1.2000, 1.1958, 1.2000, 1.2000, 0.9745, 0.9744], dtype=torch.float64)\n",
      "Using CPU\n",
      "yield on sim iteration 2 was 82.6%\n",
      "current params: tensor([1.3000, 1.2814, 1.3000, 1.3000, 1.0603, 1.0603], dtype=torch.float64)\n",
      "Using CPU\n",
      "yield on sim iteration 3 was 82.6%\n",
      "current params: tensor([1.3819, 1.3559, 1.4000, 1.4000, 1.1306, 1.1306], dtype=torch.float64)\n",
      "Using CPU\n",
      "yield on sim iteration 4 was 82.6%\n",
      "current params: tensor([1.4511, 1.4209, 1.5000, 1.5000, 1.1901, 1.1900], dtype=torch.float64)\n",
      "Using CPU\n",
      "yield on sim iteration 5 was 82.6%\n",
      "current params: tensor([1.5108, 1.4777, 1.6000, 1.6000, 1.2413, 1.2413], dtype=torch.float64)\n",
      "Using CPU\n",
      "yield on sim iteration 6 was 82.6%\n",
      "current params: tensor([1.5629, 1.5278, 1.6873, 1.7000, 1.2860, 1.2860], dtype=torch.float64)\n",
      "Using CPU\n",
      "yield on sim iteration 7 was 82.6%\n",
      "current params: tensor([1.6089, 1.5723, 1.7643, 1.8000, 1.3255, 1.3254], dtype=torch.float64)\n",
      "Using CPU\n",
      "yield on sim iteration 8 was 82.6%\n",
      "current params: tensor([1.6497, 1.6119, 1.8327, 1.9000, 1.3605, 1.3605], dtype=torch.float64)\n",
      "Using CPU\n",
      "yield on sim iteration 9 was 82.6%\n",
      "optimization complete\n"
     ]
    },
    {
     "data": {
      "text/plain": [
       "<steric_free_simulator.reaction_network.ReactionNetwork at 0x7fdc4cc84e80>"
      ]
     },
     "execution_count": 26,
     "metadata": {},
     "output_type": "execute_result"
    }
   ],
   "source": [
    "optim.optimize()\n",
    "final_rn = copy.deepcopy(rn)\n",
    "optim.rn.update_reaction_net(final_rn, 100)"
   ]
  },
  {
   "cell_type": "markdown",
   "metadata": {},
   "source": [
    "<h3> Plot the simulation at the first iteration (before optimization) </h3>"
   ]
  },
  {
   "cell_type": "code",
   "execution_count": 27,
   "metadata": {
    "pycharm": {
     "name": "#%%\n"
    }
   },
   "outputs": [
    {
     "data": {
      "image/png": "[encoded data removed]",
      "text/plain": [
       "<Figure size 432x288 with 1 Axes>"
      ]
     },
     "metadata": {
      "needs_background": "light"
     },
     "output_type": "display_data"
    }
   ],
   "source": [
    "optim.plot_observable(iteration=0)"
   ]
  },
  {
   "cell_type": "markdown",
   "metadata": {},
   "source": [
    "<h3> Plot the simulation at the last iteration (after all optimization) </h3>"
   ]
  },
  {
   "cell_type": "code",
   "execution_count": 28,
   "metadata": {
    "pycharm": {
     "name": "#%%\n"
    }
   },
   "outputs": [
    {
     "data": {
      "image/png": "[encoded data removed]",
      "text/plain": [
       "<Figure size 432x288 with 1 Axes>"
      ]
     },
     "metadata": {
      "needs_background": "light"
     },
     "output_type": "display_data"
    }
   ],
   "source": [
    "optim.plot_observable(iteration=-1)"
   ]
  },
  {
   "cell_type": "markdown",
   "metadata": {},
   "source": [
    "<h3> Plot the yield curve over all iterations </h3>"
   ]
  },
  {
   "cell_type": "code",
   "execution_count": 29,
   "metadata": {
    "pycharm": {
     "name": "#%%\n"
    }
   },
   "outputs": [
    {
     "data": {
      "image/png": "[encoded data removed]",
      "text/plain": [
       "<Figure size 432x288 with 1 Axes>"
      ]
     },
     "metadata": {
      "needs_background": "light"
     },
     "output_type": "display_data"
    }
   ],
   "source": [
    "optim.plot_yield()"
   ]
  },
  {
   "cell_type": "code",
   "execution_count": 34,
   "metadata": {
    "pycharm": {
     "name": "#%%\n"
    }
   },
   "outputs": [
    {
     "name": "stdout",
     "output_type": "stream",
     "text": [
      "Matrix([[12.145], [5.4644], [9.9981], [82.712], [78.178], [84.859], [826.96]])\n"
     ]
    }
   ],
   "source": [
    "eq_sol = EquilibriumSolver(rn)\n",
    "solution = eq_sol.solve()\n",
    "print(solution)"
   ]
  },
  {
   "cell_type": "code",
   "execution_count": 35,
   "metadata": {},
   "outputs": [
    {
     "name": "stdout",
     "output_type": "stream",
     "text": [
      "Generated Equilibrium Equations\n",
      "A + AB + ABC + AC - 1000.0 = 0\n",
      "AB + ABC + B + BC - 1000.0 = 0\n",
      "ABC + AC + BC + C - 1000.0 = 0\n",
      "-1.0*A*B + 0.802382122288501*AB = 0\n",
      "-1.0*A*C + 1.5532362317432*AC = 0\n",
      "-1.0*B*C + 0.643817070168198*BC = 0\n",
      "-1.0*AB*C + 1.0*ABC = 0\n",
      "0.516587307127124*ABC - 1.0*AC*B = 0\n",
      "-1.0*A*BC + 1.2462889840415*ABC = 0\n"
     ]
    }
   ],
   "source": [
    "print('Generated Equilibrium Equations')\n",
    "for eqn in eq_sol.poly_system:\n",
    "    print(eqn, '= 0')"
   ]
  },
  {
   "cell_type": "markdown",
   "metadata": {
    "pycharm": {
     "name": "#%% md\n"
    }
   },
   "source": [
    "<h3> Summary of Trimer test</h3>\n",
    "The trimer model, with randomly asssigned reaction free energies, reaches the same equilbrium regardless of the parameters."
   ]
  }
 ],
 "metadata": {
  "kernelspec": {
   "display_name": "Python 3",
   "language": "python",
   "name": "python3"
  },
  "language_info": {
   "codemirror_mode": {
    "name": "ipython",
    "version": 3
   },
   "file_extension": ".py",
   "mimetype": "text/x-python",
   "name": "python",
   "nbconvert_exporter": "python",
   "pygments_lexer": "ipython3",
   "version": "3.7.0"
  }
 },
 "nbformat": 4,
 "nbformat_minor": 1
}