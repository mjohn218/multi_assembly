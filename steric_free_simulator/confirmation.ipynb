{
 "cells": [
  {
   "cell_type": "code",
   "execution_count": 1,
   "outputs": [],
   "source": [
    "# make sure jupyter path is correct for loading local moudules\n",
    "import sys\n",
    "# path to steric_simulator module relative to notebook\n",
    "sys.path.append(\"../\")\n",
    "import copy"
   ],
   "metadata": {
    "collapsed": false,
    "pycharm": {
     "name": "#%%\n"
    }
   }
  },
  {
   "cell_type": "code",
   "execution_count": 2,
   "metadata": {
    "pycharm": {
     "name": "#%%\n"
    }
   },
   "outputs": [
    {
     "name": "stderr",
     "output_type": "stream",
     "text": [
      "/home/spencerloggia/Projects/biphy/multi_assembly/steric_free_simulator/energy_space_explorer.py:8: UserWarning: Import of 'rosetta' as a top-level module is deprecated and may be removed in 2018, import via 'pyrosetta.rosetta'.\n",
      "  from rosetta.protocols.relax import *\n"
     ]
    }
   ],
   "source": [
    "from steric_free_simulator import Optimizer\n",
    "from steric_free_simulator import ReactionNetwork\n",
    "from steric_free_simulator import EquilibriumSolver"
   ]
  },
  {
   "cell_type": "markdown",
   "metadata": {
    "pycharm": {
     "name": "#%% md\n"
    }
   },
   "source": [
    "<h2> Load basic dimer info </h2>\n",
    "Specifies reaction A + B <--> AB, with starting with 2000 copies of A and 1000 copies of B"
   ]
  },
  {
   "cell_type": "code",
   "execution_count": 3,
   "metadata": {
    "pycharm": {
     "name": "#%%\n"
    }
   },
   "outputs": [],
   "source": [
    "base_input = './input_files/dimer.bngl'\n",
    "rn = ReactionNetwork(base_input, one_step=True, seed=424242)\n"
   ]
  },
  {
   "cell_type": "markdown",
   "metadata": {
    "pycharm": {
     "name": "#%% md\n"
    }
   },
   "source": [
    "Since this is a toy model, assign some random $\\Delta G$ to the reaction."
   ]
  },
  {
   "cell_type": "code",
   "execution_count": 4,
   "metadata": {
    "pycharm": {
     "name": "#%%\n"
    }
   },
   "outputs": [],
   "source": [
    "rn.reset()\n",
    "rn.intialize_activations()\n"
   ]
  },
  {
   "cell_type": "markdown",
   "metadata": {
    "pycharm": {
     "name": "#%% md\n"
    }
   },
   "source": [
    "<h2>Create an optimizer object to attempt to optimize this reaction network</h2>\n",
    "Since we are running vectorized simulations here, the reaction network will be transformed into a matrix representation.\n",
    "\n",
    "**Optimization and Simulation Parameters**:\n",
    "\n",
    "- **sim_runtime**: time (in seconds) that the simulation will run for.\n",
    "- **optim_iterations**: number of simlations to run, optimizing parameters at each one.\n",
    "- **learning rate**: factor to multiply calculated gradients by.\n",
    "- **score_constant**: A coefficient applied to each rosetta calculated score, can be thought of a converting rosseta units to Joules. Since we have no idea what this really should be, it should be set to make $\\Delta G$ for each reaction realistic.\n",
    "- **freq_factor**: pre-exponential factor when calculating rate constants, physically a measure of the frequency of collisions between molecules.\n",
    "- **volume**: The volume of each simulation, used when calculating concentraions from copy numbers\n",
    "- **device**: The hardware device to run simulations and optimizations on.\n",
    "\n",
    "If the parameter is not specified at optimizer construction, it is given a default value."
   ]
  },
  {
   "cell_type": "code",
   "execution_count": 5,
   "metadata": {
    "pycharm": {
     "name": "#%%\n"
    }
   },
   "outputs": [
    {
     "name": "stdout",
     "output_type": "stream",
     "text": [
      "Using CPU\n"
     ]
    },
    {
     "data": {
      "text/plain": "<steric_free_simulator.reaction_network.ReactionNetwork at 0x7fa03c767978>"
     },
     "execution_count": 5,
     "metadata": {},
     "output_type": "execute_result"
    }
   ],
   "source": [
    "# I am using an adam optimizer, which will choose the best\n",
    "# learning rate and momentum parameters as the simulations run,\n",
    "# So the initial choice of learning rate doesn't matter that much\n",
    "\n",
    "optim = Optimizer(reaction_network=rn,\n",
    "                  sim_runtime=.1,\n",
    "                  optim_iterations=10,\n",
    "                  learning_rate=.1,\n",
    "                  sim_mode='vectorized',\n",
    "                  score_constant=1)\n",
    "optim.rn.update_reaction_net(rn, scalar_modifier=1)"
   ]
  },
  {
   "cell_type": "code",
   "execution_count": 6,
   "metadata": {
    "pycharm": {
     "name": "#%%\n"
    }
   },
   "outputs": [
    {
     "name": "stdout",
     "output_type": "stream",
     "text": [
      "Using CPU\n",
      "yield on sim iteration 0 was 99.8%\n",
      "current params: tensor([1.], dtype=torch.float64)\n",
      "Using CPU\n",
      "yield on sim iteration 1 was 99.8%\n",
      "current params: tensor([1.], dtype=torch.float64)\n",
      "Using CPU\n",
      "yield on sim iteration 2 was 99.8%\n",
      "current params: tensor([1.], dtype=torch.float64)\n",
      "Using CPU\n",
      "yield on sim iteration 3 was 99.8%\n",
      "current params: tensor([1.], dtype=torch.float64)\n",
      "Using CPU\n",
      "yield on sim iteration 4 was 99.8%\n",
      "current params: tensor([1.], dtype=torch.float64)\n",
      "Using CPU\n",
      "yield on sim iteration 5 was 99.8%\n",
      "current params: tensor([1.], dtype=torch.float64)\n",
      "Using CPU\n",
      "yield on sim iteration 6 was 99.8%\n",
      "current params: tensor([1.], dtype=torch.float64)\n",
      "Using CPU\n",
      "yield on sim iteration 7 was 99.8%\n",
      "current params: tensor([1.], dtype=torch.float64)\n",
      "Using CPU\n",
      "yield on sim iteration 8 was 99.8%\n",
      "current params: tensor([1.], dtype=torch.float64)\n",
      "Using CPU\n",
      "yield on sim iteration 9 was 99.8%\n",
      "optimization complete\n"
     ]
    }
   ],
   "source": [
    "vec_rn = optim.optimize()"
   ]
  },
  {
   "cell_type": "markdown",
   "metadata": {
    "pycharm": {
     "name": "#%% md\n"
    }
   },
   "source": [
    "<h3> Plot the simulation at the first iteration (before optimization) </h3>"
   ]
  },
  {
   "cell_type": "code",
   "execution_count": 7,
   "metadata": {
    "pycharm": {
     "name": "#%%\n"
    }
   },
   "outputs": [
    {
     "data": {
      "text/plain": "<Figure size 432x288 with 1 Axes>",
      "image/png": "[encoded data removed]"
     },
     "metadata": {
      "needs_background": "light"
     },
     "output_type": "display_data"
    }
   ],
   "source": [
    "optim.plot_observable(iteration=0)\n"
   ]
  },
  {
   "cell_type": "markdown",
   "metadata": {
    "pycharm": {
     "name": "#%% md\n"
    }
   },
   "source": [
    "<h3> Plot the simulation at the last iteration (after all optimization) </h3>"
   ]
  },
  {
   "cell_type": "code",
   "execution_count": 8,
   "metadata": {
    "pycharm": {
     "name": "#%%\n"
    }
   },
   "outputs": [
    {
     "data": {
      "text/plain": "<Figure size 432x288 with 1 Axes>",
      "image/png": "[encoded data removed]"
     },
     "metadata": {
      "needs_background": "light"
     },
     "output_type": "display_data"
    }
   ],
   "source": [
    "optim.plot_observable(iteration=-1)\n"
   ]
  },
  {
   "cell_type": "markdown",
   "metadata": {
    "pycharm": {
     "name": "#%% md\n"
    }
   },
   "source": [
    "<h3> Plot the yield curve over all iterations </h3>"
   ]
  },
  {
   "cell_type": "code",
   "execution_count": 9,
   "metadata": {
    "pycharm": {
     "name": "#%%\n"
    }
   },
   "outputs": [
    {
     "data": {
      "text/plain": "<Figure size 432x288 with 1 Axes>",
      "image/png": "[encoded data removed]"
     },
     "metadata": {
      "needs_background": "light"
     },
     "output_type": "display_data"
    }
   ],
   "source": [
    "optim.plot_yield()"
   ]
  },
  {
   "cell_type": "markdown",
   "metadata": {},
   "source": [
    "<h3> Summary of dimer test</h3>\n",
    "The dimer model, with randomly asssigned reaction free energies, reaches the same equilbrium regardless of the parameters."
   ]
  },
  {
   "cell_type": "markdown",
   "metadata": {
    "pycharm": {
     "name": "#%% md\n"
    }
   },
   "source": [
    "<h2> Load basic Trimer info </h2>\n",
    "Specifies reactions\n",
    "\n",
    " - A + B <--> AB\n",
    " - B + C <--> BC\n",
    " - A + C <--> AC\n",
    " - AB + C <--> ABC\n",
    " - BC + A <--> ABC\n",
    " - AC + B <--> ABC\n",
    "\n",
    "With starting copy numbers of:\n",
    "\n",
    " - A: 1000\n",
    " - B: 1000\n",
    " - C: 1000"
   ]
  },
  {
   "cell_type": "code",
   "execution_count": 3,
   "metadata": {
    "pycharm": {
     "name": "#%%\n"
    }
   },
   "outputs": [],
   "source": [
    "base_input = './input_files/trimer.bngl'\n",
    "rn = ReactionNetwork(base_input, one_step=True, seed=123456)"
   ]
  },
  {
   "cell_type": "markdown",
   "metadata": {},
   "source": [
    "Since this is a toy model, assign some random $\\Delta Gs$ to each reaction."
   ]
  },
  {
   "cell_type": "code",
   "execution_count": 4,
   "metadata": {
    "pycharm": {
     "name": "#%%\n"
    }
   },
   "outputs": [],
   "source": [
    "rn.reset()\n",
    "rn.is_energy_set = True"
   ]
  },
  {
   "cell_type": "markdown",
   "metadata": {
    "pycharm": {
     "name": "#%% md\n"
    }
   },
   "source": [
    "<h2>Create an optimizer object to attempt to optimize this reaction network</h2>"
   ]
  },
  {
   "cell_type": "code",
   "execution_count": 13,
   "metadata": {
    "pycharm": {
     "name": "#%%\n"
    }
   },
   "outputs": [
    {
     "name": "stdout",
     "output_type": "stream",
     "text": [
      "Using CPU\n"
     ]
    },
    {
     "data": {
      "text/plain": "<steric_free_simulator.reaction_network.ReactionNetwork at 0x7f17cc0e6978>"
     },
     "execution_count": 13,
     "metadata": {},
     "output_type": "execute_result"
    }
   ],
   "source": [
    "rn.intialize_activations()\n",
    "optim = Optimizer(reaction_network=rn,\n",
    "                  sim_runtime=2,\n",
    "                  optim_iterations=10,\n",
    "                  learning_rate=.1,\n",
    "                  score_constant=100,\n",
    "                  sim_mode='vectorized')\n",
    "\n",
    "# update rn params to match computed rate constants\n",
    "optim.rn.update_reaction_net(rn, scalar_modifier=100)"
   ]
  },
  {
   "cell_type": "code",
   "execution_count": 14,
   "outputs": [
    {
     "name": "stdout",
     "output_type": "stream",
     "text": [
      "Using CPU\n",
      "yield on sim iteration 0 was 92.6%\n",
      "current params: tensor([1.1000, 1.1000, 1.1000, 1.1000, 1.1000, 1.1000], dtype=torch.float64)\n",
      "Using CPU\n",
      "yield on sim iteration 1 was 92.6%\n",
      "current params: tensor([1.2000, 1.1936, 1.2000, 1.2000, 1.2000, 1.2000], dtype=torch.float64)\n",
      "Using CPU\n",
      "yield on sim iteration 2 was 92.6%\n",
      "current params: tensor([1.3000, 1.2790, 1.3000, 1.3000, 1.3000, 1.3000], dtype=torch.float64)\n",
      "Using CPU\n",
      "yield on sim iteration 3 was 92.6%\n",
      "current params: tensor([1.4000, 1.3557, 1.4000, 1.4000, 1.4000, 1.4000], dtype=torch.float64)\n",
      "Using CPU\n",
      "yield on sim iteration 4 was 92.7%\n",
      "current params: tensor([1.5000, 1.4243, 1.5000, 1.5000, 1.5000, 1.5000], dtype=torch.float64)\n",
      "Using CPU\n",
      "yield on sim iteration 5 was 92.7%\n",
      "current params: tensor([1.6000, 1.4855, 1.6000, 1.6000, 1.6000, 1.6000], dtype=torch.float64)\n",
      "Using CPU\n",
      "yield on sim iteration 6 was 92.7%\n",
      "current params: tensor([1.7000, 1.5402, 1.7000, 1.7000, 1.7000, 1.7000], dtype=torch.float64)\n",
      "Using CPU\n",
      "yield on sim iteration 7 was 92.7%\n",
      "current params: tensor([1.8000, 1.5892, 1.8000, 1.8000, 1.8000, 1.8000], dtype=torch.float64)\n",
      "Using CPU\n",
      "yield on sim iteration 8 was 92.7%\n",
      "current params: tensor([1.9000, 1.6332, 1.9000, 1.9000, 1.9000, 1.9000], dtype=torch.float64)\n",
      "Using CPU\n",
      "yield on sim iteration 9 was 92.7%\n",
      "optimization complete\n"
     ]
    },
    {
     "data": {
      "text/plain": "<steric_free_simulator.reaction_network.ReactionNetwork at 0x7f16834647b8>"
     },
     "execution_count": 14,
     "metadata": {},
     "output_type": "execute_result"
    }
   ],
   "source": [
    "optim.optimize()\n",
    "final_rn = copy.deepcopy(rn)\n",
    "optim.rn.update_reaction_net(final_rn, 100)"
   ],
   "metadata": {
    "collapsed": false,
    "pycharm": {
     "name": "#%%\n"
    }
   }
  },
  {
   "cell_type": "markdown",
   "metadata": {},
   "source": [
    "<h3> Plot the simulation at the first iteration (before optimization) </h3>"
   ]
  },
  {
   "cell_type": "code",
   "execution_count": 15,
   "metadata": {
    "pycharm": {
     "name": "#%%\n"
    }
   },
   "outputs": [
    {
     "data": {
      "text/plain": "<Figure size 432x288 with 1 Axes>",
      "image/png": "[encoded data removed]"
     },
     "metadata": {
      "needs_background": "light"
     },
     "output_type": "display_data"
    }
   ],
   "source": [
    "optim.plot_observable(iteration=0)"
   ]
  },
  {
   "cell_type": "markdown",
   "metadata": {},
   "source": [
    "<h3> Plot the simulation at the last iteration (after all optimization) </h3>"
   ]
  },
  {
   "cell_type": "code",
   "execution_count": 16,
   "metadata": {
    "pycharm": {
     "name": "#%%\n"
    }
   },
   "outputs": [
    {
     "data": {
      "text/plain": "<Figure size 432x288 with 1 Axes>",
      "image/png": "[encoded data removed]"
     },
     "metadata": {
      "needs_background": "light"
     },
     "output_type": "display_data"
    }
   ],
   "source": [
    "optim.plot_observable(iteration=-1)"
   ]
  },
  {
   "cell_type": "markdown",
   "metadata": {},
   "source": [
    "<h3> Plot the yield curve over all iterations </h3>"
   ]
  },
  {
   "cell_type": "code",
   "execution_count": 17,
   "metadata": {
    "pycharm": {
     "name": "#%%\n"
    }
   },
   "outputs": [
    {
     "data": {
      "text/plain": "<Figure size 432x288 with 1 Axes>",
      "image/png": "[encoded data removed]"
     },
     "metadata": {
      "needs_background": "light"
     },
     "output_type": "display_data"
    }
   ],
   "source": [
    "optim.plot_yield()"
   ]
  },
  {
   "cell_type": "code",
   "execution_count": 6,
   "outputs": [],
   "source": [
    "eq_sol = EquilibriumSolver(rn)\n",
    "solution = eq_sol.solve()\n",
    "eq_yield = solution[-1]\n"
   ],
   "metadata": {
    "collapsed": false,
    "pycharm": {
     "name": "#%%\n"
    }
   }
  },
  {
   "cell_type": "markdown",
   "metadata": {
    "pycharm": {
     "name": "#%% md\n"
    }
   },
   "source": [
    "<h3> Summary of Trimer test</h3>\n",
    "The trimer model, with randomly asssigned reaction free energies, reaches the same equilbrium regardless of the parameters.\n"
   ]
  },
  {
   "cell_type": "markdown",
   "metadata": {
    "pycharm": {
     "name": "#%% md\n"
    }
   },
   "source": [
    "<h2> AP2 Optimization </h2>\n",
    "See the ap2_optimization ipython notebook in this repo\n"
   ]
  }
 ],
 "metadata": {
  "kernelspec": {
   "display_name": "Python 3",
   "language": "python",
   "name": "python3"
  },
  "language_info": {
   "codemirror_mode": {
    "name": "ipython",
    "version": 3
   },
   "file_extension": ".py",
   "mimetype": "text/x-python",
   "name": "python",
   "nbconvert_exporter": "python",
   "pygments_lexer": "ipython3",
   "version": "3.7.0"
  }
 },
 "nbformat": 4,
 "nbformat_minor": 1
}